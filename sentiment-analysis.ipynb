{
 "cells": [
  {
   "cell_type": "code",
   "execution_count": 15,
   "metadata": {},
   "outputs": [],
   "source": [
    "import pandas as pd\n",
    "import numpy as np\n",
    "import gensim\n",
    "import re\n",
    "from pathlib import Path\n",
    "from sklearn.feature_extraction.text import CountVectorizer\n",
    "from nltk.sentiment import SentimentIntensityAnalyzer\n",
    "from sklearn.decomposition import LatentDirichletAllocation\n",
    "from matplotlib import pyplot as plt\n",
    "from nltk.stem import WordNetLemmatizer\n",
    "from nltk.tokenize import word_tokenize\n",
    "from nltk.tag import pos_tag\n",
    "from IPython.display import display, Markdown\n",
    "import datasets\n"
   ]
  },
  {
   "cell_type": "markdown",
   "metadata": {},
   "source": [
    "The data is separated by year. I will be starting from 2010 and I removed the unknown sub-folder within the data folder Each of the folders will be converted to dataframes that correspond to a specific year with rows that represent each of the files.\n",
    "\n",
    "Each of the files in the folders will be first go through a content check (if the document is too short (empty) or too long (over 1000 lines) it will be discarded).\n",
    "\n",
    "If the file passes the length check it will then be shortened to remove the header and have its contents added to the dataframe.\n",
    "\n",
    "This dataframe will then be added to a dictionary that maps years to the corresponding dataframe. "
   ]
  },
  {
   "cell_type": "code",
   "execution_count": 16,
   "metadata": {},
   "outputs": [],
   "source": [
    "def remove_files(text):\n",
    "    count = len(text.split(\" \"))\n",
    "    if  count < 1000 or count > 100000:\n",
    "        return True\n",
    "    return False\n"
   ]
  },
  {
   "cell_type": "code",
   "execution_count": 17,
   "metadata": {},
   "outputs": [],
   "source": [
    "def create_dictionary():\n",
    "    dataset = datasets.load_dataset(\"siavava/ai-tech-articles\")\n",
    "    df = dataset[\"train\"].to_pandas()  # there's only the 'train' split because HF requires it.\n",
    "\n",
    "    # split df by year\n",
    "    years = df[\"year\"].unique()\n",
    "    dfs = {}\n",
    "    for year in sorted(years):\n",
    "        year_df = df[df[\"year\"] == year]\n",
    "        year_df.apply(lambda row: np.nan if remove_files(row['text']) else row['text'], axis = 1)\n",
    "        year_df = year_df.dropna(subset=['text'])\n",
    "        year_df = year_df.sample(n=min(100, len(year_df)), random_state=5432534)\n",
    "        dfs[year] = year_df \n",
    "\n",
    "    return dfs\n"
   ]
  },
  {
   "cell_type": "code",
   "execution_count": 18,
   "metadata": {},
   "outputs": [],
   "source": [
    "year_dictionary = create_dictionary()\n"
   ]
  },
  {
   "cell_type": "code",
   "execution_count": 19,
   "metadata": {},
   "outputs": [
    {
     "data": {
      "text/markdown": [
       "### Year: 2000"
      ],
      "text/plain": [
       "<IPython.core.display.Markdown object>"
      ]
     },
     "metadata": {},
     "output_type": "display_data"
    },
    {
     "data": {
      "text/markdown": [
       "Number of articles: 31"
      ],
      "text/plain": [
       "<IPython.core.display.Markdown object>"
      ]
     },
     "metadata": {},
     "output_type": "display_data"
    },
    {
     "data": {
      "text/html": [
       "<div>\n",
       "<style scoped>\n",
       "    .dataframe tbody tr th:only-of-type {\n",
       "        vertical-align: middle;\n",
       "    }\n",
       "\n",
       "    .dataframe tbody tr th {\n",
       "        vertical-align: top;\n",
       "    }\n",
       "\n",
       "    .dataframe thead th {\n",
       "        text-align: right;\n",
       "    }\n",
       "</style>\n",
       "<table border=\"1\" class=\"dataframe\">\n",
       "  <thead>\n",
       "    <tr style=\"text-align: right;\">\n",
       "      <th></th>\n",
       "      <th>id</th>\n",
       "      <th>year</th>\n",
       "      <th>title</th>\n",
       "      <th>url</th>\n",
       "      <th>text</th>\n",
       "    </tr>\n",
       "  </thead>\n",
       "  <tbody>\n",
       "    <tr>\n",
       "      <th>7383</th>\n",
       "      <td>7431</td>\n",
       "      <td>2000</td>\n",
       "      <td>\"How artificial intelligence could change rela...</td>\n",
       "      <td>\"https://www.vox.com/the-highlight/23779098/re...</td>\n",
       "      <td>\"We have a request Vox's journalism is free, b...</td>\n",
       "    </tr>\n",
       "    <tr>\n",
       "      <th>7902</th>\n",
       "      <td>7950</td>\n",
       "      <td>2000</td>\n",
       "      <td>\"The Hot Seat | WIRED\"</td>\n",
       "      <td>\"https://www.wired.com/2000/07/chairs\"</td>\n",
       "      <td>\"Open Navigation Menu To revist this article, ...</td>\n",
       "    </tr>\n",
       "    <tr>\n",
       "      <th>462</th>\n",
       "      <td>475</td>\n",
       "      <td>2000</td>\n",
       "      <td>\"Microsoft’s HoloLens 2: a $3500 mixed reality...</td>\n",
       "      <td>\"https://www.theverge.com/2019/2/24/18235460/m...</td>\n",
       "      <td>\"The Verge homepage The Verge homepage The Ver...</td>\n",
       "    </tr>\n",
       "  </tbody>\n",
       "</table>\n",
       "</div>"
      ],
      "text/plain": [
       "        id  year                                              title  \\\n",
       "7383  7431  2000  \"How artificial intelligence could change rela...   \n",
       "7902  7950  2000                             \"The Hot Seat | WIRED\"   \n",
       "462    475  2000  \"Microsoft’s HoloLens 2: a $3500 mixed reality...   \n",
       "\n",
       "                                                    url  \\\n",
       "7383  \"https://www.vox.com/the-highlight/23779098/re...   \n",
       "7902             \"https://www.wired.com/2000/07/chairs\"   \n",
       "462   \"https://www.theverge.com/2019/2/24/18235460/m...   \n",
       "\n",
       "                                                   text  \n",
       "7383  \"We have a request Vox's journalism is free, b...  \n",
       "7902  \"Open Navigation Menu To revist this article, ...  \n",
       "462   \"The Verge homepage The Verge homepage The Ver...  "
      ]
     },
     "metadata": {},
     "output_type": "display_data"
    },
    {
     "data": {
      "text/markdown": [
       "---"
      ],
      "text/plain": [
       "<IPython.core.display.Markdown object>"
      ]
     },
     "metadata": {},
     "output_type": "display_data"
    },
    {
     "data": {
      "text/markdown": [
       "### Year: 2001"
      ],
      "text/plain": [
       "<IPython.core.display.Markdown object>"
      ]
     },
     "metadata": {},
     "output_type": "display_data"
    },
    {
     "data": {
      "text/markdown": [
       "Number of articles: 8"
      ],
      "text/plain": [
       "<IPython.core.display.Markdown object>"
      ]
     },
     "metadata": {},
     "output_type": "display_data"
    },
    {
     "data": {
      "text/html": [
       "<div>\n",
       "<style scoped>\n",
       "    .dataframe tbody tr th:only-of-type {\n",
       "        vertical-align: middle;\n",
       "    }\n",
       "\n",
       "    .dataframe tbody tr th {\n",
       "        vertical-align: top;\n",
       "    }\n",
       "\n",
       "    .dataframe thead th {\n",
       "        text-align: right;\n",
       "    }\n",
       "</style>\n",
       "<table border=\"1\" class=\"dataframe\">\n",
       "  <thead>\n",
       "    <tr style=\"text-align: right;\">\n",
       "      <th></th>\n",
       "      <th>id</th>\n",
       "      <th>year</th>\n",
       "      <th>title</th>\n",
       "      <th>url</th>\n",
       "      <th>text</th>\n",
       "    </tr>\n",
       "  </thead>\n",
       "  <tbody>\n",
       "    <tr>\n",
       "      <th>6990</th>\n",
       "      <td>7038</td>\n",
       "      <td>2001</td>\n",
       "      <td>\"S | Keywords | The Guardian\"</td>\n",
       "      <td>\"https://www.theguardian.com/index/subjects/s\"</td>\n",
       "      <td>\"Account overview Billing Profile Emails &amp; mar...</td>\n",
       "    </tr>\n",
       "    <tr>\n",
       "      <th>11225</th>\n",
       "      <td>11291</td>\n",
       "      <td>2001</td>\n",
       "      <td>\"2001's 30-Year Odyssey | WIRED\"</td>\n",
       "      <td>\"https://www.wired.com//culture/lifestyle/news...</td>\n",
       "      <td>\"Open Navigation Menu To revist this article, ...</td>\n",
       "    </tr>\n",
       "    <tr>\n",
       "      <th>11831</th>\n",
       "      <td>11898</td>\n",
       "      <td>2001</td>\n",
       "      <td>\"Happy Birthday, Hal | WIRED\"</td>\n",
       "      <td>\"https://www.wired.com/1997/01/ffhal\"</td>\n",
       "      <td>\"Open Navigation Menu To revist this article, ...</td>\n",
       "    </tr>\n",
       "  </tbody>\n",
       "</table>\n",
       "</div>"
      ],
      "text/plain": [
       "          id  year                             title  \\\n",
       "6990    7038  2001     \"S | Keywords | The Guardian\"   \n",
       "11225  11291  2001  \"2001's 30-Year Odyssey | WIRED\"   \n",
       "11831  11898  2001     \"Happy Birthday, Hal | WIRED\"   \n",
       "\n",
       "                                                     url  \\\n",
       "6990      \"https://www.theguardian.com/index/subjects/s\"   \n",
       "11225  \"https://www.wired.com//culture/lifestyle/news...   \n",
       "11831              \"https://www.wired.com/1997/01/ffhal\"   \n",
       "\n",
       "                                                    text  \n",
       "6990   \"Account overview Billing Profile Emails & mar...  \n",
       "11225  \"Open Navigation Menu To revist this article, ...  \n",
       "11831  \"Open Navigation Menu To revist this article, ...  "
      ]
     },
     "metadata": {},
     "output_type": "display_data"
    },
    {
     "data": {
      "text/markdown": [
       "---"
      ],
      "text/plain": [
       "<IPython.core.display.Markdown object>"
      ]
     },
     "metadata": {},
     "output_type": "display_data"
    },
    {
     "data": {
      "text/markdown": [
       "### Year: 2002"
      ],
      "text/plain": [
       "<IPython.core.display.Markdown object>"
      ]
     },
     "metadata": {},
     "output_type": "display_data"
    },
    {
     "data": {
      "text/markdown": [
       "Number of articles: 15"
      ],
      "text/plain": [
       "<IPython.core.display.Markdown object>"
      ]
     },
     "metadata": {},
     "output_type": "display_data"
    },
    {
     "data": {
      "text/html": [
       "<div>\n",
       "<style scoped>\n",
       "    .dataframe tbody tr th:only-of-type {\n",
       "        vertical-align: middle;\n",
       "    }\n",
       "\n",
       "    .dataframe tbody tr th {\n",
       "        vertical-align: top;\n",
       "    }\n",
       "\n",
       "    .dataframe thead th {\n",
       "        text-align: right;\n",
       "    }\n",
       "</style>\n",
       "<table border=\"1\" class=\"dataframe\">\n",
       "  <thead>\n",
       "    <tr style=\"text-align: right;\">\n",
       "      <th></th>\n",
       "      <th>id</th>\n",
       "      <th>year</th>\n",
       "      <th>title</th>\n",
       "      <th>url</th>\n",
       "      <th>text</th>\n",
       "    </tr>\n",
       "  </thead>\n",
       "  <tbody>\n",
       "    <tr>\n",
       "      <th>11341</th>\n",
       "      <td>11407</td>\n",
       "      <td>2002</td>\n",
       "      <td>\"In Gold We Trust | WIRED\"</td>\n",
       "      <td>\"https://www.wired.com/wired/archive/10.01/ego...</td>\n",
       "      <td>\"Open Navigation Menu To revist this article, ...</td>\n",
       "    </tr>\n",
       "    <tr>\n",
       "      <th>7378</th>\n",
       "      <td>7426</td>\n",
       "      <td>2002</td>\n",
       "      <td>\"Vox Archives - Technology - Page 1\"</td>\n",
       "      <td>\"https://www.vox.com/technology/archives\"</td>\n",
       "      <td>\"Vox homepage Give Give Newsletters Newsletter...</td>\n",
       "    </tr>\n",
       "    <tr>\n",
       "      <th>7389</th>\n",
       "      <td>7437</td>\n",
       "      <td>2002</td>\n",
       "      <td>\"Google - Vox\"</td>\n",
       "      <td>\"https://www.vox.com/google\"</td>\n",
       "      <td>\"Vox homepage Give Give Newsletters Newsletter...</td>\n",
       "    </tr>\n",
       "  </tbody>\n",
       "</table>\n",
       "</div>"
      ],
      "text/plain": [
       "          id  year                                 title  \\\n",
       "11341  11407  2002            \"In Gold We Trust | WIRED\"   \n",
       "7378    7426  2002  \"Vox Archives - Technology - Page 1\"   \n",
       "7389    7437  2002                        \"Google - Vox\"   \n",
       "\n",
       "                                                     url  \\\n",
       "11341  \"https://www.wired.com/wired/archive/10.01/ego...   \n",
       "7378           \"https://www.vox.com/technology/archives\"   \n",
       "7389                        \"https://www.vox.com/google\"   \n",
       "\n",
       "                                                    text  \n",
       "11341  \"Open Navigation Menu To revist this article, ...  \n",
       "7378   \"Vox homepage Give Give Newsletters Newsletter...  \n",
       "7389   \"Vox homepage Give Give Newsletters Newsletter...  "
      ]
     },
     "metadata": {},
     "output_type": "display_data"
    },
    {
     "data": {
      "text/markdown": [
       "---"
      ],
      "text/plain": [
       "<IPython.core.display.Markdown object>"
      ]
     },
     "metadata": {},
     "output_type": "display_data"
    },
    {
     "data": {
      "text/markdown": [
       "### Year: 2003"
      ],
      "text/plain": [
       "<IPython.core.display.Markdown object>"
      ]
     },
     "metadata": {},
     "output_type": "display_data"
    },
    {
     "data": {
      "text/markdown": [
       "Number of articles: 1"
      ],
      "text/plain": [
       "<IPython.core.display.Markdown object>"
      ]
     },
     "metadata": {},
     "output_type": "display_data"
    },
    {
     "data": {
      "text/html": [
       "<div>\n",
       "<style scoped>\n",
       "    .dataframe tbody tr th:only-of-type {\n",
       "        vertical-align: middle;\n",
       "    }\n",
       "\n",
       "    .dataframe tbody tr th {\n",
       "        vertical-align: top;\n",
       "    }\n",
       "\n",
       "    .dataframe thead th {\n",
       "        text-align: right;\n",
       "    }\n",
       "</style>\n",
       "<table border=\"1\" class=\"dataframe\">\n",
       "  <thead>\n",
       "    <tr style=\"text-align: right;\">\n",
       "      <th></th>\n",
       "      <th>id</th>\n",
       "      <th>year</th>\n",
       "      <th>title</th>\n",
       "      <th>url</th>\n",
       "      <th>text</th>\n",
       "    </tr>\n",
       "  </thead>\n",
       "  <tbody>\n",
       "    <tr>\n",
       "      <th>884</th>\n",
       "      <td>897</td>\n",
       "      <td>2003</td>\n",
       "      <td>\"Microsoft Sued for Weak Security | WIRED\"</td>\n",
       "      <td>\"https://www.wired.com/2003/10/microsoft-sued-...</td>\n",
       "      <td>\"Open Navigation Menu To revist this article, ...</td>\n",
       "    </tr>\n",
       "  </tbody>\n",
       "</table>\n",
       "</div>"
      ],
      "text/plain": [
       "      id  year                                       title  \\\n",
       "884  897  2003  \"Microsoft Sued for Weak Security | WIRED\"   \n",
       "\n",
       "                                                   url  \\\n",
       "884  \"https://www.wired.com/2003/10/microsoft-sued-...   \n",
       "\n",
       "                                                  text  \n",
       "884  \"Open Navigation Menu To revist this article, ...  "
      ]
     },
     "metadata": {},
     "output_type": "display_data"
    },
    {
     "data": {
      "text/markdown": [
       "---"
      ],
      "text/plain": [
       "<IPython.core.display.Markdown object>"
      ]
     },
     "metadata": {},
     "output_type": "display_data"
    },
    {
     "data": {
      "text/markdown": [
       "### Year: 2004"
      ],
      "text/plain": [
       "<IPython.core.display.Markdown object>"
      ]
     },
     "metadata": {},
     "output_type": "display_data"
    },
    {
     "data": {
      "text/markdown": [
       "Number of articles: 9"
      ],
      "text/plain": [
       "<IPython.core.display.Markdown object>"
      ]
     },
     "metadata": {},
     "output_type": "display_data"
    },
    {
     "data": {
      "text/html": [
       "<div>\n",
       "<style scoped>\n",
       "    .dataframe tbody tr th:only-of-type {\n",
       "        vertical-align: middle;\n",
       "    }\n",
       "\n",
       "    .dataframe tbody tr th {\n",
       "        vertical-align: top;\n",
       "    }\n",
       "\n",
       "    .dataframe thead th {\n",
       "        text-align: right;\n",
       "    }\n",
       "</style>\n",
       "<table border=\"1\" class=\"dataframe\">\n",
       "  <thead>\n",
       "    <tr style=\"text-align: right;\">\n",
       "      <th></th>\n",
       "      <th>id</th>\n",
       "      <th>year</th>\n",
       "      <th>title</th>\n",
       "      <th>url</th>\n",
       "      <th>text</th>\n",
       "    </tr>\n",
       "  </thead>\n",
       "  <tbody>\n",
       "    <tr>\n",
       "      <th>11782</th>\n",
       "      <td>11849</td>\n",
       "      <td>2004</td>\n",
       "      <td>\"The Long Tail | WIRED\"</td>\n",
       "      <td>\"https://www.wired.com/2004/10/tail\"</td>\n",
       "      <td>\"Open Navigation Menu To revist this article, ...</td>\n",
       "    </tr>\n",
       "    <tr>\n",
       "      <th>408</th>\n",
       "      <td>421</td>\n",
       "      <td>2004</td>\n",
       "      <td>\"What is biohacking? The new “science” of opti...</td>\n",
       "      <td>\"https://www.vox.com/future-perfect/2019/6/25/...</td>\n",
       "      <td>\"We have a request Vox's journalism is free, b...</td>\n",
       "    </tr>\n",
       "    <tr>\n",
       "      <th>13302</th>\n",
       "      <td>13369</td>\n",
       "      <td>2004</td>\n",
       "      <td>\"They've Got Your Number … | WIRED\"</td>\n",
       "      <td>\"https://www.wired.com/2004/12/phreakers\"</td>\n",
       "      <td>\"Open Navigation Menu To revist this article, ...</td>\n",
       "    </tr>\n",
       "  </tbody>\n",
       "</table>\n",
       "</div>"
      ],
      "text/plain": [
       "          id  year                                              title  \\\n",
       "11782  11849  2004                            \"The Long Tail | WIRED\"   \n",
       "408      421  2004  \"What is biohacking? The new “science” of opti...   \n",
       "13302  13369  2004                \"They've Got Your Number … | WIRED\"   \n",
       "\n",
       "                                                     url  \\\n",
       "11782               \"https://www.wired.com/2004/10/tail\"   \n",
       "408    \"https://www.vox.com/future-perfect/2019/6/25/...   \n",
       "13302          \"https://www.wired.com/2004/12/phreakers\"   \n",
       "\n",
       "                                                    text  \n",
       "11782  \"Open Navigation Menu To revist this article, ...  \n",
       "408    \"We have a request Vox's journalism is free, b...  \n",
       "13302  \"Open Navigation Menu To revist this article, ...  "
      ]
     },
     "metadata": {},
     "output_type": "display_data"
    },
    {
     "data": {
      "text/markdown": [
       "---"
      ],
      "text/plain": [
       "<IPython.core.display.Markdown object>"
      ]
     },
     "metadata": {},
     "output_type": "display_data"
    },
    {
     "data": {
      "text/markdown": [
       "### Year: 2005"
      ],
      "text/plain": [
       "<IPython.core.display.Markdown object>"
      ]
     },
     "metadata": {},
     "output_type": "display_data"
    },
    {
     "data": {
      "text/markdown": [
       "Number of articles: 5"
      ],
      "text/plain": [
       "<IPython.core.display.Markdown object>"
      ]
     },
     "metadata": {},
     "output_type": "display_data"
    },
    {
     "data": {
      "text/html": [
       "<div>\n",
       "<style scoped>\n",
       "    .dataframe tbody tr th:only-of-type {\n",
       "        vertical-align: middle;\n",
       "    }\n",
       "\n",
       "    .dataframe tbody tr th {\n",
       "        vertical-align: top;\n",
       "    }\n",
       "\n",
       "    .dataframe thead th {\n",
       "        text-align: right;\n",
       "    }\n",
       "</style>\n",
       "<table border=\"1\" class=\"dataframe\">\n",
       "  <thead>\n",
       "    <tr style=\"text-align: right;\">\n",
       "      <th></th>\n",
       "      <th>id</th>\n",
       "      <th>year</th>\n",
       "      <th>title</th>\n",
       "      <th>url</th>\n",
       "      <th>text</th>\n",
       "    </tr>\n",
       "  </thead>\n",
       "  <tbody>\n",
       "    <tr>\n",
       "      <th>9268</th>\n",
       "      <td>9316</td>\n",
       "      <td>2005</td>\n",
       "      <td>\"Mind Control | WIRED\"</td>\n",
       "      <td>\"https://www.wired.com/2005/03/brain-3\"</td>\n",
       "      <td>\"Open Navigation Menu To revist this article, ...</td>\n",
       "    </tr>\n",
       "    <tr>\n",
       "      <th>13209</th>\n",
       "      <td>13276</td>\n",
       "      <td>2005</td>\n",
       "      <td>\"The Hundred Dollar Man | MIT Technology Review\"</td>\n",
       "      <td>\"https://www.technologyreview.com/2005/10/13/2...</td>\n",
       "      <td>\"Featured Topics Newsletters Events Podcasts F...</td>\n",
       "    </tr>\n",
       "    <tr>\n",
       "      <th>1897</th>\n",
       "      <td>1910</td>\n",
       "      <td>2005</td>\n",
       "      <td>\"Implanting Hope | MIT Technology Review\"</td>\n",
       "      <td>\"https://www.technologyreview.com/s/403761/imp...</td>\n",
       "      <td>\"Featured Topics Newsletters Events Podcasts F...</td>\n",
       "    </tr>\n",
       "  </tbody>\n",
       "</table>\n",
       "</div>"
      ],
      "text/plain": [
       "          id  year                                             title  \\\n",
       "9268    9316  2005                            \"Mind Control | WIRED\"   \n",
       "13209  13276  2005  \"The Hundred Dollar Man | MIT Technology Review\"   \n",
       "1897    1910  2005         \"Implanting Hope | MIT Technology Review\"   \n",
       "\n",
       "                                                     url  \\\n",
       "9268             \"https://www.wired.com/2005/03/brain-3\"   \n",
       "13209  \"https://www.technologyreview.com/2005/10/13/2...   \n",
       "1897   \"https://www.technologyreview.com/s/403761/imp...   \n",
       "\n",
       "                                                    text  \n",
       "9268   \"Open Navigation Menu To revist this article, ...  \n",
       "13209  \"Featured Topics Newsletters Events Podcasts F...  \n",
       "1897   \"Featured Topics Newsletters Events Podcasts F...  "
      ]
     },
     "metadata": {},
     "output_type": "display_data"
    },
    {
     "data": {
      "text/markdown": [
       "---"
      ],
      "text/plain": [
       "<IPython.core.display.Markdown object>"
      ]
     },
     "metadata": {},
     "output_type": "display_data"
    },
    {
     "data": {
      "text/markdown": [
       "### Year: 2006"
      ],
      "text/plain": [
       "<IPython.core.display.Markdown object>"
      ]
     },
     "metadata": {},
     "output_type": "display_data"
    },
    {
     "data": {
      "text/markdown": [
       "Number of articles: 14"
      ],
      "text/plain": [
       "<IPython.core.display.Markdown object>"
      ]
     },
     "metadata": {},
     "output_type": "display_data"
    },
    {
     "data": {
      "text/html": [
       "<div>\n",
       "<style scoped>\n",
       "    .dataframe tbody tr th:only-of-type {\n",
       "        vertical-align: middle;\n",
       "    }\n",
       "\n",
       "    .dataframe tbody tr th {\n",
       "        vertical-align: top;\n",
       "    }\n",
       "\n",
       "    .dataframe thead th {\n",
       "        text-align: right;\n",
       "    }\n",
       "</style>\n",
       "<table border=\"1\" class=\"dataframe\">\n",
       "  <thead>\n",
       "    <tr style=\"text-align: right;\">\n",
       "      <th></th>\n",
       "      <th>id</th>\n",
       "      <th>year</th>\n",
       "      <th>title</th>\n",
       "      <th>url</th>\n",
       "      <th>text</th>\n",
       "    </tr>\n",
       "  </thead>\n",
       "  <tbody>\n",
       "    <tr>\n",
       "      <th>12222</th>\n",
       "      <td>12289</td>\n",
       "      <td>2006</td>\n",
       "      <td>\"The Rise of Crowdsourcing | WIRED\"</td>\n",
       "      <td>\"https://www.wired.com/2006/06/crowds\"</td>\n",
       "      <td>\"Open Navigation Menu To revist this article, ...</td>\n",
       "    </tr>\n",
       "    <tr>\n",
       "      <th>7684</th>\n",
       "      <td>7732</td>\n",
       "      <td>2006</td>\n",
       "      <td>\"David Cronenberg Is the Master of Grotesque S...</td>\n",
       "      <td>\"https://www.wired.com/2023/11/geeks-guide-cro...</td>\n",
       "      <td>\"Visually Open Nav.\\nGo to Wired Home Page.\\nD...</td>\n",
       "    </tr>\n",
       "    <tr>\n",
       "      <th>11337</th>\n",
       "      <td>11403</td>\n",
       "      <td>2006</td>\n",
       "      <td>\"Confessions of a Cybermule | WIRED\"</td>\n",
       "      <td>\"https://www.wired.com/politics/onlinerights/n...</td>\n",
       "      <td>\"Open Navigation Menu To revist this article, ...</td>\n",
       "    </tr>\n",
       "  </tbody>\n",
       "</table>\n",
       "</div>"
      ],
      "text/plain": [
       "          id  year                                              title  \\\n",
       "12222  12289  2006                \"The Rise of Crowdsourcing | WIRED\"   \n",
       "7684    7732  2006  \"David Cronenberg Is the Master of Grotesque S...   \n",
       "11337  11403  2006               \"Confessions of a Cybermule | WIRED\"   \n",
       "\n",
       "                                                     url  \\\n",
       "12222             \"https://www.wired.com/2006/06/crowds\"   \n",
       "7684   \"https://www.wired.com/2023/11/geeks-guide-cro...   \n",
       "11337  \"https://www.wired.com/politics/onlinerights/n...   \n",
       "\n",
       "                                                    text  \n",
       "12222  \"Open Navigation Menu To revist this article, ...  \n",
       "7684   \"Visually Open Nav.\\nGo to Wired Home Page.\\nD...  \n",
       "11337  \"Open Navigation Menu To revist this article, ...  "
      ]
     },
     "metadata": {},
     "output_type": "display_data"
    },
    {
     "data": {
      "text/markdown": [
       "---"
      ],
      "text/plain": [
       "<IPython.core.display.Markdown object>"
      ]
     },
     "metadata": {},
     "output_type": "display_data"
    },
    {
     "data": {
      "text/markdown": [
       "### Year: 2007"
      ],
      "text/plain": [
       "<IPython.core.display.Markdown object>"
      ]
     },
     "metadata": {},
     "output_type": "display_data"
    },
    {
     "data": {
      "text/markdown": [
       "Number of articles: 26"
      ],
      "text/plain": [
       "<IPython.core.display.Markdown object>"
      ]
     },
     "metadata": {},
     "output_type": "display_data"
    },
    {
     "data": {
      "text/html": [
       "<div>\n",
       "<style scoped>\n",
       "    .dataframe tbody tr th:only-of-type {\n",
       "        vertical-align: middle;\n",
       "    }\n",
       "\n",
       "    .dataframe tbody tr th {\n",
       "        vertical-align: top;\n",
       "    }\n",
       "\n",
       "    .dataframe thead th {\n",
       "        text-align: right;\n",
       "    }\n",
       "</style>\n",
       "<table border=\"1\" class=\"dataframe\">\n",
       "  <thead>\n",
       "    <tr style=\"text-align: right;\">\n",
       "      <th></th>\n",
       "      <th>id</th>\n",
       "      <th>year</th>\n",
       "      <th>title</th>\n",
       "      <th>url</th>\n",
       "      <th>text</th>\n",
       "    </tr>\n",
       "  </thead>\n",
       "  <tbody>\n",
       "    <tr>\n",
       "      <th>11226</th>\n",
       "      <td>11292</td>\n",
       "      <td>2007</td>\n",
       "      <td>\"May 11, 1997: Machine Bests Man in Tournament...</td>\n",
       "      <td>\"https://www.wired.com/science/discoveries/new...</td>\n",
       "      <td>\"Open Navigation Menu To revist this article, ...</td>\n",
       "    </tr>\n",
       "    <tr>\n",
       "      <th>8009</th>\n",
       "      <td>8057</td>\n",
       "      <td>2007</td>\n",
       "      <td>\"Software security co., Fortify, to buy Secure...</td>\n",
       "      <td>\"https://venturebeat.com/2020/09/03/were-enter...</td>\n",
       "      <td>\"Artificial Intelligence View All AI, ML and D...</td>\n",
       "    </tr>\n",
       "    <tr>\n",
       "      <th>11832</th>\n",
       "      <td>11899</td>\n",
       "      <td>2007</td>\n",
       "      <td>\"A Decade After Kasparov's Defeat, Deep Blue C...</td>\n",
       "      <td>\"https://www.wired.com/2007/05/a-decade-after-...</td>\n",
       "      <td>\"Open Navigation Menu To revist this article, ...</td>\n",
       "    </tr>\n",
       "  </tbody>\n",
       "</table>\n",
       "</div>"
      ],
      "text/plain": [
       "          id  year                                              title  \\\n",
       "11226  11292  2007  \"May 11, 1997: Machine Bests Man in Tournament...   \n",
       "8009    8057  2007  \"Software security co., Fortify, to buy Secure...   \n",
       "11832  11899  2007  \"A Decade After Kasparov's Defeat, Deep Blue C...   \n",
       "\n",
       "                                                     url  \\\n",
       "11226  \"https://www.wired.com/science/discoveries/new...   \n",
       "8009   \"https://venturebeat.com/2020/09/03/were-enter...   \n",
       "11832  \"https://www.wired.com/2007/05/a-decade-after-...   \n",
       "\n",
       "                                                    text  \n",
       "11226  \"Open Navigation Menu To revist this article, ...  \n",
       "8009   \"Artificial Intelligence View All AI, ML and D...  \n",
       "11832  \"Open Navigation Menu To revist this article, ...  "
      ]
     },
     "metadata": {},
     "output_type": "display_data"
    },
    {
     "data": {
      "text/markdown": [
       "---"
      ],
      "text/plain": [
       "<IPython.core.display.Markdown object>"
      ]
     },
     "metadata": {},
     "output_type": "display_data"
    },
    {
     "data": {
      "text/markdown": [
       "### Year: 2008"
      ],
      "text/plain": [
       "<IPython.core.display.Markdown object>"
      ]
     },
     "metadata": {},
     "output_type": "display_data"
    },
    {
     "data": {
      "text/markdown": [
       "Number of articles: 17"
      ],
      "text/plain": [
       "<IPython.core.display.Markdown object>"
      ]
     },
     "metadata": {},
     "output_type": "display_data"
    },
    {
     "data": {
      "text/html": [
       "<div>\n",
       "<style scoped>\n",
       "    .dataframe tbody tr th:only-of-type {\n",
       "        vertical-align: middle;\n",
       "    }\n",
       "\n",
       "    .dataframe tbody tr th {\n",
       "        vertical-align: top;\n",
       "    }\n",
       "\n",
       "    .dataframe thead th {\n",
       "        text-align: right;\n",
       "    }\n",
       "</style>\n",
       "<table border=\"1\" class=\"dataframe\">\n",
       "  <thead>\n",
       "    <tr style=\"text-align: right;\">\n",
       "      <th></th>\n",
       "      <th>id</th>\n",
       "      <th>year</th>\n",
       "      <th>title</th>\n",
       "      <th>url</th>\n",
       "      <th>text</th>\n",
       "    </tr>\n",
       "  </thead>\n",
       "  <tbody>\n",
       "    <tr>\n",
       "      <th>13481</th>\n",
       "      <td>13548</td>\n",
       "      <td>2008</td>\n",
       "      <td>\"'Google-killer' Cuil's Market Share Not So Ho...</td>\n",
       "      <td>\"https://www.wired.com/2008/09/google-killer-c\"</td>\n",
       "      <td>\"Open Navigation Menu To revist this article, ...</td>\n",
       "    </tr>\n",
       "    <tr>\n",
       "      <th>13207</th>\n",
       "      <td>13274</td>\n",
       "      <td>2008</td>\n",
       "      <td>\"Watch Machine Learning: Living in the Age of ...</td>\n",
       "      <td>\"https://www.wired.com/video/watch/machine-lea...</td>\n",
       "      <td>\"Open Navigation Menu To revisit this article,...</td>\n",
       "    </tr>\n",
       "    <tr>\n",
       "      <th>11262</th>\n",
       "      <td>11328</td>\n",
       "      <td>2008</td>\n",
       "      <td>\"The Untold Story: How the iPhone Blew Up the ...</td>\n",
       "      <td>\"https://www.wired.com/2008/01/ff-iphone\"</td>\n",
       "      <td>\"Open Navigation Menu To revist this article, ...</td>\n",
       "    </tr>\n",
       "  </tbody>\n",
       "</table>\n",
       "</div>"
      ],
      "text/plain": [
       "          id  year                                              title  \\\n",
       "13481  13548  2008  \"'Google-killer' Cuil's Market Share Not So Ho...   \n",
       "13207  13274  2008  \"Watch Machine Learning: Living in the Age of ...   \n",
       "11262  11328  2008  \"The Untold Story: How the iPhone Blew Up the ...   \n",
       "\n",
       "                                                     url  \\\n",
       "13481    \"https://www.wired.com/2008/09/google-killer-c\"   \n",
       "13207  \"https://www.wired.com/video/watch/machine-lea...   \n",
       "11262          \"https://www.wired.com/2008/01/ff-iphone\"   \n",
       "\n",
       "                                                    text  \n",
       "13481  \"Open Navigation Menu To revist this article, ...  \n",
       "13207  \"Open Navigation Menu To revisit this article,...  \n",
       "11262  \"Open Navigation Menu To revist this article, ...  "
      ]
     },
     "metadata": {},
     "output_type": "display_data"
    },
    {
     "data": {
      "text/markdown": [
       "---"
      ],
      "text/plain": [
       "<IPython.core.display.Markdown object>"
      ]
     },
     "metadata": {},
     "output_type": "display_data"
    },
    {
     "data": {
      "text/markdown": [
       "### Year: 2009"
      ],
      "text/plain": [
       "<IPython.core.display.Markdown object>"
      ]
     },
     "metadata": {},
     "output_type": "display_data"
    },
    {
     "data": {
      "text/markdown": [
       "Number of articles: 20"
      ],
      "text/plain": [
       "<IPython.core.display.Markdown object>"
      ]
     },
     "metadata": {},
     "output_type": "display_data"
    },
    {
     "data": {
      "text/html": [
       "<div>\n",
       "<style scoped>\n",
       "    .dataframe tbody tr th:only-of-type {\n",
       "        vertical-align: middle;\n",
       "    }\n",
       "\n",
       "    .dataframe tbody tr th {\n",
       "        vertical-align: top;\n",
       "    }\n",
       "\n",
       "    .dataframe thead th {\n",
       "        text-align: right;\n",
       "    }\n",
       "</style>\n",
       "<table border=\"1\" class=\"dataframe\">\n",
       "  <thead>\n",
       "    <tr style=\"text-align: right;\">\n",
       "      <th></th>\n",
       "      <th>id</th>\n",
       "      <th>year</th>\n",
       "      <th>title</th>\n",
       "      <th>url</th>\n",
       "      <th>text</th>\n",
       "    </tr>\n",
       "  </thead>\n",
       "  <tbody>\n",
       "    <tr>\n",
       "      <th>1464</th>\n",
       "      <td>1477</td>\n",
       "      <td>2009</td>\n",
       "      <td>\"Secret Math of Fly Eyes Could Overhaul Robot ...</td>\n",
       "      <td>\"https://www.wired.com/wiredscience/2009/11/fl...</td>\n",
       "      <td>\"Open Navigation Menu To revist this article, ...</td>\n",
       "    </tr>\n",
       "    <tr>\n",
       "      <th>10906</th>\n",
       "      <td>10971</td>\n",
       "      <td>2009</td>\n",
       "      <td>\"Stories From the Hunt | WIRED\"</td>\n",
       "      <td>\"https://www.wired.com/2009/11/stories-from-th...</td>\n",
       "      <td>\"Open Navigation Menu To revist this article, ...</td>\n",
       "    </tr>\n",
       "    <tr>\n",
       "      <th>416</th>\n",
       "      <td>429</td>\n",
       "      <td>2009</td>\n",
       "      <td>\"What is artificial intelligence? Your AI ques...</td>\n",
       "      <td>\"https://www.vox.com/future-perfect/2018/12/21...</td>\n",
       "      <td>\"Vox homepage Give Give Newsletters Newsletter...</td>\n",
       "    </tr>\n",
       "  </tbody>\n",
       "</table>\n",
       "</div>"
      ],
      "text/plain": [
       "          id  year                                              title  \\\n",
       "1464    1477  2009  \"Secret Math of Fly Eyes Could Overhaul Robot ...   \n",
       "10906  10971  2009                    \"Stories From the Hunt | WIRED\"   \n",
       "416      429  2009  \"What is artificial intelligence? Your AI ques...   \n",
       "\n",
       "                                                     url  \\\n",
       "1464   \"https://www.wired.com/wiredscience/2009/11/fl...   \n",
       "10906  \"https://www.wired.com/2009/11/stories-from-th...   \n",
       "416    \"https://www.vox.com/future-perfect/2018/12/21...   \n",
       "\n",
       "                                                    text  \n",
       "1464   \"Open Navigation Menu To revist this article, ...  \n",
       "10906  \"Open Navigation Menu To revist this article, ...  \n",
       "416    \"Vox homepage Give Give Newsletters Newsletter...  "
      ]
     },
     "metadata": {},
     "output_type": "display_data"
    },
    {
     "data": {
      "text/markdown": [
       "---"
      ],
      "text/plain": [
       "<IPython.core.display.Markdown object>"
      ]
     },
     "metadata": {},
     "output_type": "display_data"
    },
    {
     "data": {
      "text/markdown": [
       "### Year: 2010"
      ],
      "text/plain": [
       "<IPython.core.display.Markdown object>"
      ]
     },
     "metadata": {},
     "output_type": "display_data"
    },
    {
     "data": {
      "text/markdown": [
       "Number of articles: 31"
      ],
      "text/plain": [
       "<IPython.core.display.Markdown object>"
      ]
     },
     "metadata": {},
     "output_type": "display_data"
    },
    {
     "data": {
      "text/html": [
       "<div>\n",
       "<style scoped>\n",
       "    .dataframe tbody tr th:only-of-type {\n",
       "        vertical-align: middle;\n",
       "    }\n",
       "\n",
       "    .dataframe tbody tr th {\n",
       "        vertical-align: top;\n",
       "    }\n",
       "\n",
       "    .dataframe thead th {\n",
       "        text-align: right;\n",
       "    }\n",
       "</style>\n",
       "<table border=\"1\" class=\"dataframe\">\n",
       "  <thead>\n",
       "    <tr style=\"text-align: right;\">\n",
       "      <th></th>\n",
       "      <th>id</th>\n",
       "      <th>year</th>\n",
       "      <th>title</th>\n",
       "      <th>url</th>\n",
       "      <th>text</th>\n",
       "    </tr>\n",
       "  </thead>\n",
       "  <tbody>\n",
       "    <tr>\n",
       "      <th>11153</th>\n",
       "      <td>11219</td>\n",
       "      <td>2010</td>\n",
       "      <td>\"The AI Revolution Is On | WIRED\"</td>\n",
       "      <td>\"https://www.wired.com/2010/12/ff-ai-essay-air...</td>\n",
       "      <td>\"Open Navigation Menu To revist this article, ...</td>\n",
       "    </tr>\n",
       "    <tr>\n",
       "      <th>11762</th>\n",
       "      <td>11829</td>\n",
       "      <td>2010</td>\n",
       "      <td>\"Clues Suggest Stuxnet Virus Was Built for Sub...</td>\n",
       "      <td>\"https://www.wired.com/2010/11/stuxnet-clues\"</td>\n",
       "      <td>\"Open Navigation Menu To revist this article, ...</td>\n",
       "    </tr>\n",
       "    <tr>\n",
       "      <th>9002</th>\n",
       "      <td>9050</td>\n",
       "      <td>2010</td>\n",
       "      <td>\"Ears Could Make Better Unique IDs Than Finger...</td>\n",
       "      <td>\"https://www.wired.com/2010/11/ears-biometric-...</td>\n",
       "      <td>\"Open Navigation Menu To revist this article, ...</td>\n",
       "    </tr>\n",
       "  </tbody>\n",
       "</table>\n",
       "</div>"
      ],
      "text/plain": [
       "          id  year                                              title  \\\n",
       "11153  11219  2010                  \"The AI Revolution Is On | WIRED\"   \n",
       "11762  11829  2010  \"Clues Suggest Stuxnet Virus Was Built for Sub...   \n",
       "9002    9050  2010  \"Ears Could Make Better Unique IDs Than Finger...   \n",
       "\n",
       "                                                     url  \\\n",
       "11153  \"https://www.wired.com/2010/12/ff-ai-essay-air...   \n",
       "11762      \"https://www.wired.com/2010/11/stuxnet-clues\"   \n",
       "9002   \"https://www.wired.com/2010/11/ears-biometric-...   \n",
       "\n",
       "                                                    text  \n",
       "11153  \"Open Navigation Menu To revist this article, ...  \n",
       "11762  \"Open Navigation Menu To revist this article, ...  \n",
       "9002   \"Open Navigation Menu To revist this article, ...  "
      ]
     },
     "metadata": {},
     "output_type": "display_data"
    },
    {
     "data": {
      "text/markdown": [
       "---"
      ],
      "text/plain": [
       "<IPython.core.display.Markdown object>"
      ]
     },
     "metadata": {},
     "output_type": "display_data"
    },
    {
     "data": {
      "text/markdown": [
       "### Year: 2011"
      ],
      "text/plain": [
       "<IPython.core.display.Markdown object>"
      ]
     },
     "metadata": {},
     "output_type": "display_data"
    },
    {
     "data": {
      "text/markdown": [
       "Number of articles: 52"
      ],
      "text/plain": [
       "<IPython.core.display.Markdown object>"
      ]
     },
     "metadata": {},
     "output_type": "display_data"
    },
    {
     "data": {
      "text/html": [
       "<div>\n",
       "<style scoped>\n",
       "    .dataframe tbody tr th:only-of-type {\n",
       "        vertical-align: middle;\n",
       "    }\n",
       "\n",
       "    .dataframe tbody tr th {\n",
       "        vertical-align: top;\n",
       "    }\n",
       "\n",
       "    .dataframe thead th {\n",
       "        text-align: right;\n",
       "    }\n",
       "</style>\n",
       "<table border=\"1\" class=\"dataframe\">\n",
       "  <thead>\n",
       "    <tr style=\"text-align: right;\">\n",
       "      <th></th>\n",
       "      <th>id</th>\n",
       "      <th>year</th>\n",
       "      <th>title</th>\n",
       "      <th>url</th>\n",
       "      <th>text</th>\n",
       "    </tr>\n",
       "  </thead>\n",
       "  <tbody>\n",
       "    <tr>\n",
       "      <th>838</th>\n",
       "      <td>851</td>\n",
       "      <td>2011</td>\n",
       "      <td>\"Accidental Scientist Hawks 'Online Marketplac...</td>\n",
       "      <td>\"https://www.wired.com/2011/12/kaggle\"</td>\n",
       "      <td>\"Open Navigation Menu To revist this article, ...</td>\n",
       "    </tr>\n",
       "    <tr>\n",
       "      <th>12913</th>\n",
       "      <td>12980</td>\n",
       "      <td>2011</td>\n",
       "      <td>\"10 disruptive cloud companies we're excited a...</td>\n",
       "      <td>\"https://venturebeat.com/2011/11/28/10-up-and-...</td>\n",
       "      <td>\"Artificial Intelligence View All AI, ML and D...</td>\n",
       "    </tr>\n",
       "    <tr>\n",
       "      <th>11217</th>\n",
       "      <td>11283</td>\n",
       "      <td>2011</td>\n",
       "      <td>\"John McCarthy -- Father of AI and Lisp -- Die...</td>\n",
       "      <td>\"https://www.wired.com/wiredenterprise/2011/10...</td>\n",
       "      <td>\"Open Navigation Menu To revist this article, ...</td>\n",
       "    </tr>\n",
       "  </tbody>\n",
       "</table>\n",
       "</div>"
      ],
      "text/plain": [
       "          id  year                                              title  \\\n",
       "838      851  2011  \"Accidental Scientist Hawks 'Online Marketplac...   \n",
       "12913  12980  2011  \"10 disruptive cloud companies we're excited a...   \n",
       "11217  11283  2011  \"John McCarthy -- Father of AI and Lisp -- Die...   \n",
       "\n",
       "                                                     url  \\\n",
       "838               \"https://www.wired.com/2011/12/kaggle\"   \n",
       "12913  \"https://venturebeat.com/2011/11/28/10-up-and-...   \n",
       "11217  \"https://www.wired.com/wiredenterprise/2011/10...   \n",
       "\n",
       "                                                    text  \n",
       "838    \"Open Navigation Menu To revist this article, ...  \n",
       "12913  \"Artificial Intelligence View All AI, ML and D...  \n",
       "11217  \"Open Navigation Menu To revist this article, ...  "
      ]
     },
     "metadata": {},
     "output_type": "display_data"
    },
    {
     "data": {
      "text/markdown": [
       "---"
      ],
      "text/plain": [
       "<IPython.core.display.Markdown object>"
      ]
     },
     "metadata": {},
     "output_type": "display_data"
    },
    {
     "data": {
      "text/markdown": [
       "### Year: 2012"
      ],
      "text/plain": [
       "<IPython.core.display.Markdown object>"
      ]
     },
     "metadata": {},
     "output_type": "display_data"
    },
    {
     "data": {
      "text/markdown": [
       "Number of articles: 100"
      ],
      "text/plain": [
       "<IPython.core.display.Markdown object>"
      ]
     },
     "metadata": {},
     "output_type": "display_data"
    },
    {
     "data": {
      "text/html": [
       "<div>\n",
       "<style scoped>\n",
       "    .dataframe tbody tr th:only-of-type {\n",
       "        vertical-align: middle;\n",
       "    }\n",
       "\n",
       "    .dataframe tbody tr th {\n",
       "        vertical-align: top;\n",
       "    }\n",
       "\n",
       "    .dataframe thead th {\n",
       "        text-align: right;\n",
       "    }\n",
       "</style>\n",
       "<table border=\"1\" class=\"dataframe\">\n",
       "  <thead>\n",
       "    <tr style=\"text-align: right;\">\n",
       "      <th></th>\n",
       "      <th>id</th>\n",
       "      <th>year</th>\n",
       "      <th>title</th>\n",
       "      <th>url</th>\n",
       "      <th>text</th>\n",
       "    </tr>\n",
       "  </thead>\n",
       "  <tbody>\n",
       "    <tr>\n",
       "      <th>12195</th>\n",
       "      <td>12262</td>\n",
       "      <td>2012</td>\n",
       "      <td>\"Mystery Google Device Appears in Small-Town I...</td>\n",
       "      <td>\"https://www.wired.com/2012/09/pluto-switch\"</td>\n",
       "      <td>\"Open Navigation Menu To revist this article, ...</td>\n",
       "    </tr>\n",
       "    <tr>\n",
       "      <th>11243</th>\n",
       "      <td>11309</td>\n",
       "      <td>2012</td>\n",
       "      <td>\"Mavericks Invent Future Internet Where Cisco ...</td>\n",
       "      <td>\"https://www.wired.com/wiredenterprise/2012/04...</td>\n",
       "      <td>\"Open Navigation Menu To revist this article, ...</td>\n",
       "    </tr>\n",
       "    <tr>\n",
       "      <th>12193</th>\n",
       "      <td>12260</td>\n",
       "      <td>2012</td>\n",
       "      <td>\"Mavericks Invent Future Internet Where Cisco ...</td>\n",
       "      <td>\"https://www.wired.com/2012/04/nicira\"</td>\n",
       "      <td>\"Open Navigation Menu To revist this article, ...</td>\n",
       "    </tr>\n",
       "  </tbody>\n",
       "</table>\n",
       "</div>"
      ],
      "text/plain": [
       "          id  year                                              title  \\\n",
       "12195  12262  2012  \"Mystery Google Device Appears in Small-Town I...   \n",
       "11243  11309  2012  \"Mavericks Invent Future Internet Where Cisco ...   \n",
       "12193  12260  2012  \"Mavericks Invent Future Internet Where Cisco ...   \n",
       "\n",
       "                                                     url  \\\n",
       "12195       \"https://www.wired.com/2012/09/pluto-switch\"   \n",
       "11243  \"https://www.wired.com/wiredenterprise/2012/04...   \n",
       "12193             \"https://www.wired.com/2012/04/nicira\"   \n",
       "\n",
       "                                                    text  \n",
       "12195  \"Open Navigation Menu To revist this article, ...  \n",
       "11243  \"Open Navigation Menu To revist this article, ...  \n",
       "12193  \"Open Navigation Menu To revist this article, ...  "
      ]
     },
     "metadata": {},
     "output_type": "display_data"
    },
    {
     "data": {
      "text/markdown": [
       "---"
      ],
      "text/plain": [
       "<IPython.core.display.Markdown object>"
      ]
     },
     "metadata": {},
     "output_type": "display_data"
    },
    {
     "data": {
      "text/markdown": [
       "### Year: 2013"
      ],
      "text/plain": [
       "<IPython.core.display.Markdown object>"
      ]
     },
     "metadata": {},
     "output_type": "display_data"
    },
    {
     "data": {
      "text/markdown": [
       "Number of articles: 100"
      ],
      "text/plain": [
       "<IPython.core.display.Markdown object>"
      ]
     },
     "metadata": {},
     "output_type": "display_data"
    },
    {
     "data": {
      "text/html": [
       "<div>\n",
       "<style scoped>\n",
       "    .dataframe tbody tr th:only-of-type {\n",
       "        vertical-align: middle;\n",
       "    }\n",
       "\n",
       "    .dataframe tbody tr th {\n",
       "        vertical-align: top;\n",
       "    }\n",
       "\n",
       "    .dataframe thead th {\n",
       "        text-align: right;\n",
       "    }\n",
       "</style>\n",
       "<table border=\"1\" class=\"dataframe\">\n",
       "  <thead>\n",
       "    <tr style=\"text-align: right;\">\n",
       "      <th></th>\n",
       "      <th>id</th>\n",
       "      <th>year</th>\n",
       "      <th>title</th>\n",
       "      <th>url</th>\n",
       "      <th>text</th>\n",
       "    </tr>\n",
       "  </thead>\n",
       "  <tbody>\n",
       "    <tr>\n",
       "      <th>12253</th>\n",
       "      <td>12320</td>\n",
       "      <td>2013</td>\n",
       "      <td>\"Watch WIRED25: Sebastian Thrun &amp; Sam Altman T...</td>\n",
       "      <td>\"https://www.wired.com/video/watch/sebastian-t...</td>\n",
       "      <td>\"Open Navigation Menu To revisit this article,...</td>\n",
       "    </tr>\n",
       "    <tr>\n",
       "      <th>11864</th>\n",
       "      <td>11931</td>\n",
       "      <td>2013</td>\n",
       "      <td>\"Apple and Facebook Flash Forward to Computer ...</td>\n",
       "      <td>\"https://www.wired.com/2013/03/flash-fusion-io...</td>\n",
       "      <td>\"Open Navigation Menu To revist this article, ...</td>\n",
       "    </tr>\n",
       "    <tr>\n",
       "      <th>11075</th>\n",
       "      <td>11141</td>\n",
       "      <td>2013</td>\n",
       "      <td>\"Out in the Open: The Free Tools That Let You ...</td>\n",
       "      <td>\"https://www.wired.com/2013/10/tessel\"</td>\n",
       "      <td>\"Open Navigation Menu To revist this article, ...</td>\n",
       "    </tr>\n",
       "  </tbody>\n",
       "</table>\n",
       "</div>"
      ],
      "text/plain": [
       "          id  year                                              title  \\\n",
       "12253  12320  2013  \"Watch WIRED25: Sebastian Thrun & Sam Altman T...   \n",
       "11864  11931  2013  \"Apple and Facebook Flash Forward to Computer ...   \n",
       "11075  11141  2013  \"Out in the Open: The Free Tools That Let You ...   \n",
       "\n",
       "                                                     url  \\\n",
       "12253  \"https://www.wired.com/video/watch/sebastian-t...   \n",
       "11864  \"https://www.wired.com/2013/03/flash-fusion-io...   \n",
       "11075             \"https://www.wired.com/2013/10/tessel\"   \n",
       "\n",
       "                                                    text  \n",
       "12253  \"Open Navigation Menu To revisit this article,...  \n",
       "11864  \"Open Navigation Menu To revist this article, ...  \n",
       "11075  \"Open Navigation Menu To revist this article, ...  "
      ]
     },
     "metadata": {},
     "output_type": "display_data"
    },
    {
     "data": {
      "text/markdown": [
       "---"
      ],
      "text/plain": [
       "<IPython.core.display.Markdown object>"
      ]
     },
     "metadata": {},
     "output_type": "display_data"
    },
    {
     "data": {
      "text/markdown": [
       "### Year: 2014"
      ],
      "text/plain": [
       "<IPython.core.display.Markdown object>"
      ]
     },
     "metadata": {},
     "output_type": "display_data"
    },
    {
     "data": {
      "text/markdown": [
       "Number of articles: 100"
      ],
      "text/plain": [
       "<IPython.core.display.Markdown object>"
      ]
     },
     "metadata": {},
     "output_type": "display_data"
    },
    {
     "data": {
      "text/html": [
       "<div>\n",
       "<style scoped>\n",
       "    .dataframe tbody tr th:only-of-type {\n",
       "        vertical-align: middle;\n",
       "    }\n",
       "\n",
       "    .dataframe tbody tr th {\n",
       "        vertical-align: top;\n",
       "    }\n",
       "\n",
       "    .dataframe thead th {\n",
       "        text-align: right;\n",
       "    }\n",
       "</style>\n",
       "<table border=\"1\" class=\"dataframe\">\n",
       "  <thead>\n",
       "    <tr style=\"text-align: right;\">\n",
       "      <th></th>\n",
       "      <th>id</th>\n",
       "      <th>year</th>\n",
       "      <th>title</th>\n",
       "      <th>url</th>\n",
       "      <th>text</th>\n",
       "    </tr>\n",
       "  </thead>\n",
       "  <tbody>\n",
       "    <tr>\n",
       "      <th>6414</th>\n",
       "      <td>6427</td>\n",
       "      <td>2014</td>\n",
       "      <td>\"Wii U, Xbox One, &amp; PS4 can't miss deals for C...</td>\n",
       "      <td>\"https://venturebeat.com/games/wii-u-xbox-one-...</td>\n",
       "      <td>\"Artificial Intelligence View All AI, ML and D...</td>\n",
       "    </tr>\n",
       "    <tr>\n",
       "      <th>6490</th>\n",
       "      <td>6503</td>\n",
       "      <td>2014</td>\n",
       "      <td>\"Last chance on Shadow of Mordor's preorder de...</td>\n",
       "      <td>\"https://venturebeat.com/games/last-chance-on-...</td>\n",
       "      <td>\"Artificial Intelligence View All AI, ML and D...</td>\n",
       "    </tr>\n",
       "    <tr>\n",
       "      <th>13192</th>\n",
       "      <td>13259</td>\n",
       "      <td>2014</td>\n",
       "      <td>\"Microsoft launches a machine learning service...</td>\n",
       "      <td>\"https://venturebeat.com/2014/06/16/microsoft-...</td>\n",
       "      <td>\"Artificial Intelligence View All AI, ML and D...</td>\n",
       "    </tr>\n",
       "  </tbody>\n",
       "</table>\n",
       "</div>"
      ],
      "text/plain": [
       "          id  year                                              title  \\\n",
       "6414    6427  2014  \"Wii U, Xbox One, & PS4 can't miss deals for C...   \n",
       "6490    6503  2014  \"Last chance on Shadow of Mordor's preorder de...   \n",
       "13192  13259  2014  \"Microsoft launches a machine learning service...   \n",
       "\n",
       "                                                     url  \\\n",
       "6414   \"https://venturebeat.com/games/wii-u-xbox-one-...   \n",
       "6490   \"https://venturebeat.com/games/last-chance-on-...   \n",
       "13192  \"https://venturebeat.com/2014/06/16/microsoft-...   \n",
       "\n",
       "                                                    text  \n",
       "6414   \"Artificial Intelligence View All AI, ML and D...  \n",
       "6490   \"Artificial Intelligence View All AI, ML and D...  \n",
       "13192  \"Artificial Intelligence View All AI, ML and D...  "
      ]
     },
     "metadata": {},
     "output_type": "display_data"
    },
    {
     "data": {
      "text/markdown": [
       "---"
      ],
      "text/plain": [
       "<IPython.core.display.Markdown object>"
      ]
     },
     "metadata": {},
     "output_type": "display_data"
    },
    {
     "data": {
      "text/markdown": [
       "### Year: 2015"
      ],
      "text/plain": [
       "<IPython.core.display.Markdown object>"
      ]
     },
     "metadata": {},
     "output_type": "display_data"
    },
    {
     "data": {
      "text/markdown": [
       "Number of articles: 100"
      ],
      "text/plain": [
       "<IPython.core.display.Markdown object>"
      ]
     },
     "metadata": {},
     "output_type": "display_data"
    },
    {
     "data": {
      "text/html": [
       "<div>\n",
       "<style scoped>\n",
       "    .dataframe tbody tr th:only-of-type {\n",
       "        vertical-align: middle;\n",
       "    }\n",
       "\n",
       "    .dataframe tbody tr th {\n",
       "        vertical-align: top;\n",
       "    }\n",
       "\n",
       "    .dataframe thead th {\n",
       "        text-align: right;\n",
       "    }\n",
       "</style>\n",
       "<table border=\"1\" class=\"dataframe\">\n",
       "  <thead>\n",
       "    <tr style=\"text-align: right;\">\n",
       "      <th></th>\n",
       "      <th>id</th>\n",
       "      <th>year</th>\n",
       "      <th>title</th>\n",
       "      <th>url</th>\n",
       "      <th>text</th>\n",
       "    </tr>\n",
       "  </thead>\n",
       "  <tbody>\n",
       "    <tr>\n",
       "      <th>6050</th>\n",
       "      <td>6063</td>\n",
       "      <td>2015</td>\n",
       "      <td>\"You can now preorder Samsung's monitor with w...</td>\n",
       "      <td>\"https://venturebeat.com/mobile/you-can-now-pr...</td>\n",
       "      <td>\"Artificial Intelligence View All AI, ML and D...</td>\n",
       "    </tr>\n",
       "    <tr>\n",
       "      <th>10836</th>\n",
       "      <td>10901</td>\n",
       "      <td>2015</td>\n",
       "      <td>\"I got a computer chip implanted into my hand....</td>\n",
       "      <td>\"https://www.vox.com/2015/9/11/9307991/biohack...</td>\n",
       "      <td>\"Vox homepage Give Give Newsletters Newsletter...</td>\n",
       "    </tr>\n",
       "    <tr>\n",
       "      <th>10001</th>\n",
       "      <td>10057</td>\n",
       "      <td>2015</td>\n",
       "      <td>\"Review: Devialet Phantom | WIRED\"</td>\n",
       "      <td>\"https://www.wired.com/2015/06/review-devialet...</td>\n",
       "      <td>\"Open Navigation Menu To revisit this article,...</td>\n",
       "    </tr>\n",
       "  </tbody>\n",
       "</table>\n",
       "</div>"
      ],
      "text/plain": [
       "          id  year                                              title  \\\n",
       "6050    6063  2015  \"You can now preorder Samsung's monitor with w...   \n",
       "10836  10901  2015  \"I got a computer chip implanted into my hand....   \n",
       "10001  10057  2015                 \"Review: Devialet Phantom | WIRED\"   \n",
       "\n",
       "                                                     url  \\\n",
       "6050   \"https://venturebeat.com/mobile/you-can-now-pr...   \n",
       "10836  \"https://www.vox.com/2015/9/11/9307991/biohack...   \n",
       "10001  \"https://www.wired.com/2015/06/review-devialet...   \n",
       "\n",
       "                                                    text  \n",
       "6050   \"Artificial Intelligence View All AI, ML and D...  \n",
       "10836  \"Vox homepage Give Give Newsletters Newsletter...  \n",
       "10001  \"Open Navigation Menu To revisit this article,...  "
      ]
     },
     "metadata": {},
     "output_type": "display_data"
    },
    {
     "data": {
      "text/markdown": [
       "---"
      ],
      "text/plain": [
       "<IPython.core.display.Markdown object>"
      ]
     },
     "metadata": {},
     "output_type": "display_data"
    },
    {
     "data": {
      "text/markdown": [
       "### Year: 2016"
      ],
      "text/plain": [
       "<IPython.core.display.Markdown object>"
      ]
     },
     "metadata": {},
     "output_type": "display_data"
    },
    {
     "data": {
      "text/markdown": [
       "Number of articles: 100"
      ],
      "text/plain": [
       "<IPython.core.display.Markdown object>"
      ]
     },
     "metadata": {},
     "output_type": "display_data"
    },
    {
     "data": {
      "text/html": [
       "<div>\n",
       "<style scoped>\n",
       "    .dataframe tbody tr th:only-of-type {\n",
       "        vertical-align: middle;\n",
       "    }\n",
       "\n",
       "    .dataframe tbody tr th {\n",
       "        vertical-align: top;\n",
       "    }\n",
       "\n",
       "    .dataframe thead th {\n",
       "        text-align: right;\n",
       "    }\n",
       "</style>\n",
       "<table border=\"1\" class=\"dataframe\">\n",
       "  <thead>\n",
       "    <tr style=\"text-align: right;\">\n",
       "      <th></th>\n",
       "      <th>id</th>\n",
       "      <th>year</th>\n",
       "      <th>title</th>\n",
       "      <th>url</th>\n",
       "      <th>text</th>\n",
       "    </tr>\n",
       "  </thead>\n",
       "  <tbody>\n",
       "    <tr>\n",
       "      <th>5730</th>\n",
       "      <td>5743</td>\n",
       "      <td>2016</td>\n",
       "      <td>\"3 corporate departments that chatbots will di...</td>\n",
       "      <td>\"https://venturebeat.com/ai/3-corporate-depart...</td>\n",
       "      <td>\"Artificial Intelligence View All AI, ML and D...</td>\n",
       "    </tr>\n",
       "    <tr>\n",
       "      <th>5978</th>\n",
       "      <td>5991</td>\n",
       "      <td>2016</td>\n",
       "      <td>\"A cloning company wants to produce up to 1 mi...</td>\n",
       "      <td>\"https://venturebeat.com/offbeat/a-cloning-com...</td>\n",
       "      <td>\"Artificial Intelligence View All AI, ML and D...</td>\n",
       "    </tr>\n",
       "    <tr>\n",
       "      <th>5768</th>\n",
       "      <td>5781</td>\n",
       "      <td>2016</td>\n",
       "      <td>\"NBC and Samsung to bring 85 hours of virtual ...</td>\n",
       "      <td>\"https://venturebeat.com/mobile/nbc-and-samsun...</td>\n",
       "      <td>\"Artificial Intelligence View All AI, ML and D...</td>\n",
       "    </tr>\n",
       "  </tbody>\n",
       "</table>\n",
       "</div>"
      ],
      "text/plain": [
       "        id  year                                              title  \\\n",
       "5730  5743  2016  \"3 corporate departments that chatbots will di...   \n",
       "5978  5991  2016  \"A cloning company wants to produce up to 1 mi...   \n",
       "5768  5781  2016  \"NBC and Samsung to bring 85 hours of virtual ...   \n",
       "\n",
       "                                                    url  \\\n",
       "5730  \"https://venturebeat.com/ai/3-corporate-depart...   \n",
       "5978  \"https://venturebeat.com/offbeat/a-cloning-com...   \n",
       "5768  \"https://venturebeat.com/mobile/nbc-and-samsun...   \n",
       "\n",
       "                                                   text  \n",
       "5730  \"Artificial Intelligence View All AI, ML and D...  \n",
       "5978  \"Artificial Intelligence View All AI, ML and D...  \n",
       "5768  \"Artificial Intelligence View All AI, ML and D...  "
      ]
     },
     "metadata": {},
     "output_type": "display_data"
    },
    {
     "data": {
      "text/markdown": [
       "---"
      ],
      "text/plain": [
       "<IPython.core.display.Markdown object>"
      ]
     },
     "metadata": {},
     "output_type": "display_data"
    },
    {
     "data": {
      "text/markdown": [
       "### Year: 2017"
      ],
      "text/plain": [
       "<IPython.core.display.Markdown object>"
      ]
     },
     "metadata": {},
     "output_type": "display_data"
    },
    {
     "data": {
      "text/markdown": [
       "Number of articles: 100"
      ],
      "text/plain": [
       "<IPython.core.display.Markdown object>"
      ]
     },
     "metadata": {},
     "output_type": "display_data"
    },
    {
     "data": {
      "text/html": [
       "<div>\n",
       "<style scoped>\n",
       "    .dataframe tbody tr th:only-of-type {\n",
       "        vertical-align: middle;\n",
       "    }\n",
       "\n",
       "    .dataframe tbody tr th {\n",
       "        vertical-align: top;\n",
       "    }\n",
       "\n",
       "    .dataframe thead th {\n",
       "        text-align: right;\n",
       "    }\n",
       "</style>\n",
       "<table border=\"1\" class=\"dataframe\">\n",
       "  <thead>\n",
       "    <tr style=\"text-align: right;\">\n",
       "      <th></th>\n",
       "      <th>id</th>\n",
       "      <th>year</th>\n",
       "      <th>title</th>\n",
       "      <th>url</th>\n",
       "      <th>text</th>\n",
       "    </tr>\n",
       "  </thead>\n",
       "  <tbody>\n",
       "    <tr>\n",
       "      <th>10396</th>\n",
       "      <td>10452</td>\n",
       "      <td>2017</td>\n",
       "      <td>\"Indaba - Deep Learning Indaba 2023\"</td>\n",
       "      <td>\"https://deeplearningindaba.com\"</td>\n",
       "      <td>\"Indaba Organisers Affiliated Communities Spon...</td>\n",
       "    </tr>\n",
       "    <tr>\n",
       "      <th>8959</th>\n",
       "      <td>9007</td>\n",
       "      <td>2017</td>\n",
       "      <td>\"Hackathon Track - Deep Learning Indaba 2019\"</td>\n",
       "      <td>\"https://deeplearningindaba.com/2019/indaba/ha...</td>\n",
       "      <td>\"Indaba Code of Conduct Programme Keynote Spea...</td>\n",
       "    </tr>\n",
       "    <tr>\n",
       "      <th>5969</th>\n",
       "      <td>5982</td>\n",
       "      <td>2017</td>\n",
       "      <td>\"10 predictions and opportunities for virtual ...</td>\n",
       "      <td>\"https://venturebeat.com/arvr/10-predictions-a...</td>\n",
       "      <td>\"Artificial Intelligence View All AI, ML and D...</td>\n",
       "    </tr>\n",
       "  </tbody>\n",
       "</table>\n",
       "</div>"
      ],
      "text/plain": [
       "          id  year                                              title  \\\n",
       "10396  10452  2017               \"Indaba - Deep Learning Indaba 2023\"   \n",
       "8959    9007  2017      \"Hackathon Track - Deep Learning Indaba 2019\"   \n",
       "5969    5982  2017  \"10 predictions and opportunities for virtual ...   \n",
       "\n",
       "                                                     url  \\\n",
       "10396                   \"https://deeplearningindaba.com\"   \n",
       "8959   \"https://deeplearningindaba.com/2019/indaba/ha...   \n",
       "5969   \"https://venturebeat.com/arvr/10-predictions-a...   \n",
       "\n",
       "                                                    text  \n",
       "10396  \"Indaba Organisers Affiliated Communities Spon...  \n",
       "8959   \"Indaba Code of Conduct Programme Keynote Spea...  \n",
       "5969   \"Artificial Intelligence View All AI, ML and D...  "
      ]
     },
     "metadata": {},
     "output_type": "display_data"
    },
    {
     "data": {
      "text/markdown": [
       "---"
      ],
      "text/plain": [
       "<IPython.core.display.Markdown object>"
      ]
     },
     "metadata": {},
     "output_type": "display_data"
    },
    {
     "data": {
      "text/markdown": [
       "### Year: 2018"
      ],
      "text/plain": [
       "<IPython.core.display.Markdown object>"
      ]
     },
     "metadata": {},
     "output_type": "display_data"
    },
    {
     "data": {
      "text/markdown": [
       "Number of articles: 100"
      ],
      "text/plain": [
       "<IPython.core.display.Markdown object>"
      ]
     },
     "metadata": {},
     "output_type": "display_data"
    },
    {
     "data": {
      "text/html": [
       "<div>\n",
       "<style scoped>\n",
       "    .dataframe tbody tr th:only-of-type {\n",
       "        vertical-align: middle;\n",
       "    }\n",
       "\n",
       "    .dataframe tbody tr th {\n",
       "        vertical-align: top;\n",
       "    }\n",
       "\n",
       "    .dataframe thead th {\n",
       "        text-align: right;\n",
       "    }\n",
       "</style>\n",
       "<table border=\"1\" class=\"dataframe\">\n",
       "  <thead>\n",
       "    <tr style=\"text-align: right;\">\n",
       "      <th></th>\n",
       "      <th>id</th>\n",
       "      <th>year</th>\n",
       "      <th>title</th>\n",
       "      <th>url</th>\n",
       "      <th>text</th>\n",
       "    </tr>\n",
       "  </thead>\n",
       "  <tbody>\n",
       "    <tr>\n",
       "      <th>17020</th>\n",
       "      <td>17087</td>\n",
       "      <td>2018</td>\n",
       "      <td>\"4 ways the AR cloud is connecting digital con...</td>\n",
       "      <td>\"https://venturebeat.com/2018/08/31/4-ways-the...</td>\n",
       "      <td>\"Artificial Intelligence View All AI, ML and D...</td>\n",
       "    </tr>\n",
       "    <tr>\n",
       "      <th>4891</th>\n",
       "      <td>4904</td>\n",
       "      <td>2018</td>\n",
       "      <td>\"Overwatch League commissioner Nate Nanzer: Es...</td>\n",
       "      <td>\"https://venturebeat.com/business/overwatch-le...</td>\n",
       "      <td>\"Artificial Intelligence View All AI, ML and D...</td>\n",
       "    </tr>\n",
       "    <tr>\n",
       "      <th>4821</th>\n",
       "      <td>4834</td>\n",
       "      <td>2018</td>\n",
       "      <td>\"Jam City lays off a number of game developers...</td>\n",
       "      <td>\"https://venturebeat.com/business/jam-city-lay...</td>\n",
       "      <td>\"Artificial Intelligence View All AI, ML and D...</td>\n",
       "    </tr>\n",
       "  </tbody>\n",
       "</table>\n",
       "</div>"
      ],
      "text/plain": [
       "          id  year                                              title  \\\n",
       "17020  17087  2018  \"4 ways the AR cloud is connecting digital con...   \n",
       "4891    4904  2018  \"Overwatch League commissioner Nate Nanzer: Es...   \n",
       "4821    4834  2018  \"Jam City lays off a number of game developers...   \n",
       "\n",
       "                                                     url  \\\n",
       "17020  \"https://venturebeat.com/2018/08/31/4-ways-the...   \n",
       "4891   \"https://venturebeat.com/business/overwatch-le...   \n",
       "4821   \"https://venturebeat.com/business/jam-city-lay...   \n",
       "\n",
       "                                                    text  \n",
       "17020  \"Artificial Intelligence View All AI, ML and D...  \n",
       "4891   \"Artificial Intelligence View All AI, ML and D...  \n",
       "4821   \"Artificial Intelligence View All AI, ML and D...  "
      ]
     },
     "metadata": {},
     "output_type": "display_data"
    },
    {
     "data": {
      "text/markdown": [
       "---"
      ],
      "text/plain": [
       "<IPython.core.display.Markdown object>"
      ]
     },
     "metadata": {},
     "output_type": "display_data"
    },
    {
     "data": {
      "text/markdown": [
       "### Year: 2019"
      ],
      "text/plain": [
       "<IPython.core.display.Markdown object>"
      ]
     },
     "metadata": {},
     "output_type": "display_data"
    },
    {
     "data": {
      "text/markdown": [
       "Number of articles: 100"
      ],
      "text/plain": [
       "<IPython.core.display.Markdown object>"
      ]
     },
     "metadata": {},
     "output_type": "display_data"
    },
    {
     "data": {
      "text/html": [
       "<div>\n",
       "<style scoped>\n",
       "    .dataframe tbody tr th:only-of-type {\n",
       "        vertical-align: middle;\n",
       "    }\n",
       "\n",
       "    .dataframe tbody tr th {\n",
       "        vertical-align: top;\n",
       "    }\n",
       "\n",
       "    .dataframe thead th {\n",
       "        text-align: right;\n",
       "    }\n",
       "</style>\n",
       "<table border=\"1\" class=\"dataframe\">\n",
       "  <thead>\n",
       "    <tr style=\"text-align: right;\">\n",
       "      <th></th>\n",
       "      <th>id</th>\n",
       "      <th>year</th>\n",
       "      <th>title</th>\n",
       "      <th>url</th>\n",
       "      <th>text</th>\n",
       "    </tr>\n",
       "  </thead>\n",
       "  <tbody>\n",
       "    <tr>\n",
       "      <th>12428</th>\n",
       "      <td>12495</td>\n",
       "      <td>2019</td>\n",
       "      <td>\"Rep. Tlaib v Detroit PD, round 2, was a misse...</td>\n",
       "      <td>\"https://venturebeat.com/2019/10/04/rep-tlaib-...</td>\n",
       "      <td>\"Artificial Intelligence View All AI, ML and D...</td>\n",
       "    </tr>\n",
       "    <tr>\n",
       "      <th>12989</th>\n",
       "      <td>13056</td>\n",
       "      <td>2019</td>\n",
       "      <td>\"Microsoft launches AI Business School | Ventu...</td>\n",
       "      <td>\"https://venturebeat.com/2019/03/11/microsoft-...</td>\n",
       "      <td>\"Artificial Intelligence View All AI, ML and D...</td>\n",
       "    </tr>\n",
       "    <tr>\n",
       "      <th>12522</th>\n",
       "      <td>12589</td>\n",
       "      <td>2019</td>\n",
       "      <td>\"Databricks launches AutoML Toolkit for model ...</td>\n",
       "      <td>\"https://venturebeat.com/2019/08/20/databricks...</td>\n",
       "      <td>\"Artificial Intelligence View All AI, ML and D...</td>\n",
       "    </tr>\n",
       "  </tbody>\n",
       "</table>\n",
       "</div>"
      ],
      "text/plain": [
       "          id  year                                              title  \\\n",
       "12428  12495  2019  \"Rep. Tlaib v Detroit PD, round 2, was a misse...   \n",
       "12989  13056  2019  \"Microsoft launches AI Business School | Ventu...   \n",
       "12522  12589  2019  \"Databricks launches AutoML Toolkit for model ...   \n",
       "\n",
       "                                                     url  \\\n",
       "12428  \"https://venturebeat.com/2019/10/04/rep-tlaib-...   \n",
       "12989  \"https://venturebeat.com/2019/03/11/microsoft-...   \n",
       "12522  \"https://venturebeat.com/2019/08/20/databricks...   \n",
       "\n",
       "                                                    text  \n",
       "12428  \"Artificial Intelligence View All AI, ML and D...  \n",
       "12989  \"Artificial Intelligence View All AI, ML and D...  \n",
       "12522  \"Artificial Intelligence View All AI, ML and D...  "
      ]
     },
     "metadata": {},
     "output_type": "display_data"
    },
    {
     "data": {
      "text/markdown": [
       "---"
      ],
      "text/plain": [
       "<IPython.core.display.Markdown object>"
      ]
     },
     "metadata": {},
     "output_type": "display_data"
    },
    {
     "data": {
      "text/markdown": [
       "### Year: 2020"
      ],
      "text/plain": [
       "<IPython.core.display.Markdown object>"
      ]
     },
     "metadata": {},
     "output_type": "display_data"
    },
    {
     "data": {
      "text/markdown": [
       "Number of articles: 100"
      ],
      "text/plain": [
       "<IPython.core.display.Markdown object>"
      ]
     },
     "metadata": {},
     "output_type": "display_data"
    },
    {
     "data": {
      "text/html": [
       "<div>\n",
       "<style scoped>\n",
       "    .dataframe tbody tr th:only-of-type {\n",
       "        vertical-align: middle;\n",
       "    }\n",
       "\n",
       "    .dataframe tbody tr th {\n",
       "        vertical-align: top;\n",
       "    }\n",
       "\n",
       "    .dataframe thead th {\n",
       "        text-align: right;\n",
       "    }\n",
       "</style>\n",
       "<table border=\"1\" class=\"dataframe\">\n",
       "  <thead>\n",
       "    <tr style=\"text-align: right;\">\n",
       "      <th></th>\n",
       "      <th>id</th>\n",
       "      <th>year</th>\n",
       "      <th>title</th>\n",
       "      <th>url</th>\n",
       "      <th>text</th>\n",
       "    </tr>\n",
       "  </thead>\n",
       "  <tbody>\n",
       "    <tr>\n",
       "      <th>8065</th>\n",
       "      <td>8113</td>\n",
       "      <td>2020</td>\n",
       "      <td>\"The Romanian Orphans Are Adults Now - The Atl...</td>\n",
       "      <td>\"https://www.theatlantic.com/magazine/archive/...</td>\n",
       "      <td>\"Site Navigation The Atlantic Popular Latest N...</td>\n",
       "    </tr>\n",
       "    <tr>\n",
       "      <th>1513</th>\n",
       "      <td>1526</td>\n",
       "      <td>2020</td>\n",
       "      <td>\"A hybrid AI model lets it reason about the wo...</td>\n",
       "      <td>\"https://www.technologyreview.com/2020/03/06/9...</td>\n",
       "      <td>\"Featured Topics Newsletters Events Podcasts F...</td>\n",
       "    </tr>\n",
       "    <tr>\n",
       "      <th>16045</th>\n",
       "      <td>16112</td>\n",
       "      <td>2020</td>\n",
       "      <td>\"Apple reports record $64.7 billion revenue in...</td>\n",
       "      <td>\"https://venturebeat.com/2020/10/29/apple-repo...</td>\n",
       "      <td>\"Artificial Intelligence View All AI, ML and D...</td>\n",
       "    </tr>\n",
       "  </tbody>\n",
       "</table>\n",
       "</div>"
      ],
      "text/plain": [
       "          id  year                                              title  \\\n",
       "8065    8113  2020  \"The Romanian Orphans Are Adults Now - The Atl...   \n",
       "1513    1526  2020  \"A hybrid AI model lets it reason about the wo...   \n",
       "16045  16112  2020  \"Apple reports record $64.7 billion revenue in...   \n",
       "\n",
       "                                                     url  \\\n",
       "8065   \"https://www.theatlantic.com/magazine/archive/...   \n",
       "1513   \"https://www.technologyreview.com/2020/03/06/9...   \n",
       "16045  \"https://venturebeat.com/2020/10/29/apple-repo...   \n",
       "\n",
       "                                                    text  \n",
       "8065   \"Site Navigation The Atlantic Popular Latest N...  \n",
       "1513   \"Featured Topics Newsletters Events Podcasts F...  \n",
       "16045  \"Artificial Intelligence View All AI, ML and D...  "
      ]
     },
     "metadata": {},
     "output_type": "display_data"
    },
    {
     "data": {
      "text/markdown": [
       "---"
      ],
      "text/plain": [
       "<IPython.core.display.Markdown object>"
      ]
     },
     "metadata": {},
     "output_type": "display_data"
    },
    {
     "data": {
      "text/markdown": [
       "### Year: 2021"
      ],
      "text/plain": [
       "<IPython.core.display.Markdown object>"
      ]
     },
     "metadata": {},
     "output_type": "display_data"
    },
    {
     "data": {
      "text/markdown": [
       "Number of articles: 100"
      ],
      "text/plain": [
       "<IPython.core.display.Markdown object>"
      ]
     },
     "metadata": {},
     "output_type": "display_data"
    },
    {
     "data": {
      "text/html": [
       "<div>\n",
       "<style scoped>\n",
       "    .dataframe tbody tr th:only-of-type {\n",
       "        vertical-align: middle;\n",
       "    }\n",
       "\n",
       "    .dataframe tbody tr th {\n",
       "        vertical-align: top;\n",
       "    }\n",
       "\n",
       "    .dataframe thead th {\n",
       "        text-align: right;\n",
       "    }\n",
       "</style>\n",
       "<table border=\"1\" class=\"dataframe\">\n",
       "  <thead>\n",
       "    <tr style=\"text-align: right;\">\n",
       "      <th></th>\n",
       "      <th>id</th>\n",
       "      <th>year</th>\n",
       "      <th>title</th>\n",
       "      <th>url</th>\n",
       "      <th>text</th>\n",
       "    </tr>\n",
       "  </thead>\n",
       "  <tbody>\n",
       "    <tr>\n",
       "      <th>15260</th>\n",
       "      <td>15327</td>\n",
       "      <td>2021</td>\n",
       "      <td>\"Gartner prescribes a human-centric, hybrid-fo...</td>\n",
       "      <td>\"https://venturebeat.com/2021/10/19/gartner-pr...</td>\n",
       "      <td>\"Artificial Intelligence View All AI, ML and D...</td>\n",
       "    </tr>\n",
       "    <tr>\n",
       "      <th>14177</th>\n",
       "      <td>14244</td>\n",
       "      <td>2021</td>\n",
       "      <td>\"AI-powered marketing copy generator Anyword s...</td>\n",
       "      <td>\"https://venturebeat.com/uncategorized/ai-powe...</td>\n",
       "      <td>\"Artificial Intelligence View All AI, ML and D...</td>\n",
       "    </tr>\n",
       "    <tr>\n",
       "      <th>14468</th>\n",
       "      <td>14535</td>\n",
       "      <td>2021</td>\n",
       "      <td>\"Data labeling for AI research is highly incon...</td>\n",
       "      <td>\"https://venturebeat.com/business/data-labelin...</td>\n",
       "      <td>\"Artificial Intelligence View All AI, ML and D...</td>\n",
       "    </tr>\n",
       "  </tbody>\n",
       "</table>\n",
       "</div>"
      ],
      "text/plain": [
       "          id  year                                              title  \\\n",
       "15260  15327  2021  \"Gartner prescribes a human-centric, hybrid-fo...   \n",
       "14177  14244  2021  \"AI-powered marketing copy generator Anyword s...   \n",
       "14468  14535  2021  \"Data labeling for AI research is highly incon...   \n",
       "\n",
       "                                                     url  \\\n",
       "15260  \"https://venturebeat.com/2021/10/19/gartner-pr...   \n",
       "14177  \"https://venturebeat.com/uncategorized/ai-powe...   \n",
       "14468  \"https://venturebeat.com/business/data-labelin...   \n",
       "\n",
       "                                                    text  \n",
       "15260  \"Artificial Intelligence View All AI, ML and D...  \n",
       "14177  \"Artificial Intelligence View All AI, ML and D...  \n",
       "14468  \"Artificial Intelligence View All AI, ML and D...  "
      ]
     },
     "metadata": {},
     "output_type": "display_data"
    },
    {
     "data": {
      "text/markdown": [
       "---"
      ],
      "text/plain": [
       "<IPython.core.display.Markdown object>"
      ]
     },
     "metadata": {},
     "output_type": "display_data"
    },
    {
     "data": {
      "text/markdown": [
       "### Year: 2022"
      ],
      "text/plain": [
       "<IPython.core.display.Markdown object>"
      ]
     },
     "metadata": {},
     "output_type": "display_data"
    },
    {
     "data": {
      "text/markdown": [
       "Number of articles: 100"
      ],
      "text/plain": [
       "<IPython.core.display.Markdown object>"
      ]
     },
     "metadata": {},
     "output_type": "display_data"
    },
    {
     "data": {
      "text/html": [
       "<div>\n",
       "<style scoped>\n",
       "    .dataframe tbody tr th:only-of-type {\n",
       "        vertical-align: middle;\n",
       "    }\n",
       "\n",
       "    .dataframe tbody tr th {\n",
       "        vertical-align: top;\n",
       "    }\n",
       "\n",
       "    .dataframe thead th {\n",
       "        text-align: right;\n",
       "    }\n",
       "</style>\n",
       "<table border=\"1\" class=\"dataframe\">\n",
       "  <thead>\n",
       "    <tr style=\"text-align: right;\">\n",
       "      <th></th>\n",
       "      <th>id</th>\n",
       "      <th>year</th>\n",
       "      <th>title</th>\n",
       "      <th>url</th>\n",
       "      <th>text</th>\n",
       "    </tr>\n",
       "  </thead>\n",
       "  <tbody>\n",
       "    <tr>\n",
       "      <th>3422</th>\n",
       "      <td>3435</td>\n",
       "      <td>2022</td>\n",
       "      <td>\"Adapting industrial control system (ICS) secu...</td>\n",
       "      <td>\"https://venturebeat.com/datadecisionmakers/ad...</td>\n",
       "      <td>\"Artificial Intelligence View All AI, ML and D...</td>\n",
       "    </tr>\n",
       "    <tr>\n",
       "      <th>3507</th>\n",
       "      <td>3520</td>\n",
       "      <td>2022</td>\n",
       "      <td>\"To build sustainable products, start in the d...</td>\n",
       "      <td>\"https://venturebeat.com/data-infrastructure/t...</td>\n",
       "      <td>\"Artificial Intelligence View All AI, ML and D...</td>\n",
       "    </tr>\n",
       "    <tr>\n",
       "      <th>10600</th>\n",
       "      <td>10663</td>\n",
       "      <td>2022</td>\n",
       "      <td>\"Chess Is Just Poker Now - The Atlantic\"</td>\n",
       "      <td>\"https://www.theatlantic.com/technology/archiv...</td>\n",
       "      <td>\"Site Navigation The Atlantic Popular Latest N...</td>\n",
       "    </tr>\n",
       "  </tbody>\n",
       "</table>\n",
       "</div>"
      ],
      "text/plain": [
       "          id  year                                              title  \\\n",
       "3422    3435  2022  \"Adapting industrial control system (ICS) secu...   \n",
       "3507    3520  2022  \"To build sustainable products, start in the d...   \n",
       "10600  10663  2022           \"Chess Is Just Poker Now - The Atlantic\"   \n",
       "\n",
       "                                                     url  \\\n",
       "3422   \"https://venturebeat.com/datadecisionmakers/ad...   \n",
       "3507   \"https://venturebeat.com/data-infrastructure/t...   \n",
       "10600  \"https://www.theatlantic.com/technology/archiv...   \n",
       "\n",
       "                                                    text  \n",
       "3422   \"Artificial Intelligence View All AI, ML and D...  \n",
       "3507   \"Artificial Intelligence View All AI, ML and D...  \n",
       "10600  \"Site Navigation The Atlantic Popular Latest N...  "
      ]
     },
     "metadata": {},
     "output_type": "display_data"
    },
    {
     "data": {
      "text/markdown": [
       "---"
      ],
      "text/plain": [
       "<IPython.core.display.Markdown object>"
      ]
     },
     "metadata": {},
     "output_type": "display_data"
    },
    {
     "data": {
      "text/markdown": [
       "### Year: 2023"
      ],
      "text/plain": [
       "<IPython.core.display.Markdown object>"
      ]
     },
     "metadata": {},
     "output_type": "display_data"
    },
    {
     "data": {
      "text/markdown": [
       "Number of articles: 100"
      ],
      "text/plain": [
       "<IPython.core.display.Markdown object>"
      ]
     },
     "metadata": {},
     "output_type": "display_data"
    },
    {
     "data": {
      "text/html": [
       "<div>\n",
       "<style scoped>\n",
       "    .dataframe tbody tr th:only-of-type {\n",
       "        vertical-align: middle;\n",
       "    }\n",
       "\n",
       "    .dataframe tbody tr th {\n",
       "        vertical-align: top;\n",
       "    }\n",
       "\n",
       "    .dataframe thead th {\n",
       "        text-align: right;\n",
       "    }\n",
       "</style>\n",
       "<table border=\"1\" class=\"dataframe\">\n",
       "  <thead>\n",
       "    <tr style=\"text-align: right;\">\n",
       "      <th></th>\n",
       "      <th>id</th>\n",
       "      <th>year</th>\n",
       "      <th>title</th>\n",
       "      <th>url</th>\n",
       "      <th>text</th>\n",
       "    </tr>\n",
       "  </thead>\n",
       "  <tbody>\n",
       "    <tr>\n",
       "      <th>649</th>\n",
       "      <td>662</td>\n",
       "      <td>2023</td>\n",
       "      <td>\"Why Meta Is Breaking Its Own Walled Garden - ...</td>\n",
       "      <td>\"https://www.theatlantic.com/technology/archiv...</td>\n",
       "      <td>\"Site Navigation The Atlantic Popular Latest N...</td>\n",
       "    </tr>\n",
       "    <tr>\n",
       "      <th>14995</th>\n",
       "      <td>15062</td>\n",
       "      <td>2023</td>\n",
       "      <td>\"As Russia's Cyberattacks on Ukraine Mount, th...</td>\n",
       "      <td>\"https://www.cnet.com/tech/services-and-softwa...</td>\n",
       "      <td>\"Black Friday 2023 Live Blog Can You Trust AI ...</td>\n",
       "    </tr>\n",
       "    <tr>\n",
       "      <th>2658</th>\n",
       "      <td>2671</td>\n",
       "      <td>2023</td>\n",
       "      <td>\"Why generative AI is a game-changer for custo...</td>\n",
       "      <td>\"https://venturebeat.com/ai/why-generative-ai-...</td>\n",
       "      <td>\"Artificial Intelligence View All AI, ML and D...</td>\n",
       "    </tr>\n",
       "  </tbody>\n",
       "</table>\n",
       "</div>"
      ],
      "text/plain": [
       "          id  year                                              title  \\\n",
       "649      662  2023  \"Why Meta Is Breaking Its Own Walled Garden - ...   \n",
       "14995  15062  2023  \"As Russia's Cyberattacks on Ukraine Mount, th...   \n",
       "2658    2671  2023  \"Why generative AI is a game-changer for custo...   \n",
       "\n",
       "                                                     url  \\\n",
       "649    \"https://www.theatlantic.com/technology/archiv...   \n",
       "14995  \"https://www.cnet.com/tech/services-and-softwa...   \n",
       "2658   \"https://venturebeat.com/ai/why-generative-ai-...   \n",
       "\n",
       "                                                    text  \n",
       "649    \"Site Navigation The Atlantic Popular Latest N...  \n",
       "14995  \"Black Friday 2023 Live Blog Can You Trust AI ...  \n",
       "2658   \"Artificial Intelligence View All AI, ML and D...  "
      ]
     },
     "metadata": {},
     "output_type": "display_data"
    },
    {
     "data": {
      "text/markdown": [
       "---"
      ],
      "text/plain": [
       "<IPython.core.display.Markdown object>"
      ]
     },
     "metadata": {},
     "output_type": "display_data"
    }
   ],
   "source": [
    "for year in year_dictionary:\n",
    "    display(Markdown(f\"### Year: {year}\"))\n",
    "    display(Markdown(f\"Number of articles: {len(year_dictionary[year])}\"))\n",
    "    display(year_dictionary[year].head(3))\n",
    "    display(Markdown(\"---\"))\n"
   ]
  },
  {
   "cell_type": "markdown",
   "metadata": {},
   "source": [
    "Now that we have the year dictionary we can begin the process of sentiment analysis.\n",
    "\n",
    "The sentiment analysis model will return a sentiment number for each file. This number will then be averaged across all the files to get an average sentiment for the year.\n",
    "\n",
    "From there we can do cosine similarity and plot sentiment for each year."
   ]
  },
  {
   "cell_type": "code",
   "execution_count": 20,
   "metadata": {},
   "outputs": [],
   "source": [
    "count = 0\n",
    "def add_sentiment(dataframe):\n",
    "    global count\n",
    "    print(f\"{count:5d}: Adding sentiment to {len(dataframe)} articles\")\n",
    "    count += 1\n",
    "    \n",
    "    sentiment_model = SentimentIntensityAnalyzer()\n",
    "    neg_list = []\n",
    "    neu_list = []\n",
    "    pos_list = []\n",
    "    comp_list = []\n",
    "    \n",
    "    # pick random subset of 100 articles from df\n",
    "\n",
    "\n",
    "    for text in dataframe['text']:\n",
    "        score_dict = sentiment_model.polarity_scores(text)\n",
    "        neg_list.append(score_dict['neg'])\n",
    "        neu_list.append(score_dict['neu'])\n",
    "        pos_list.append(score_dict['pos'])\n",
    "        comp_list.append(score_dict['compound'])\n",
    "    \n",
    "    dataframe['negative'] = neg_list\n",
    "    dataframe['neutral'] =  neu_list\n",
    "    dataframe['positive'] = pos_list\n",
    "    dataframe['compound'] = comp_list\n"
   ]
  },
  {
   "cell_type": "code",
   "execution_count": 21,
   "metadata": {},
   "outputs": [],
   "source": [
    "# text = [\"CS89 is an amazing class!\"]\n",
    "\n",
    "# df = pd.DataFrame({'Text': text})\n",
    "\n",
    "# add_sentiment(df)\n",
    "# display(df)\n"
   ]
  },
  {
   "cell_type": "code",
   "execution_count": 22,
   "metadata": {},
   "outputs": [
    {
     "name": "stdout",
     "output_type": "stream",
     "text": [
      "    0: Adding sentiment to 31 articles\n",
      "    1: Adding sentiment to 8 articles\n",
      "    2: Adding sentiment to 15 articles\n",
      "    3: Adding sentiment to 1 articles\n",
      "    4: Adding sentiment to 9 articles\n",
      "    5: Adding sentiment to 5 articles\n",
      "    6: Adding sentiment to 14 articles\n",
      "    7: Adding sentiment to 26 articles\n",
      "    8: Adding sentiment to 17 articles\n",
      "    9: Adding sentiment to 20 articles\n",
      "   10: Adding sentiment to 31 articles\n",
      "   11: Adding sentiment to 52 articles\n",
      "   12: Adding sentiment to 100 articles\n",
      "   13: Adding sentiment to 100 articles\n",
      "   14: Adding sentiment to 100 articles\n",
      "   15: Adding sentiment to 100 articles\n",
      "   16: Adding sentiment to 100 articles\n",
      "   17: Adding sentiment to 100 articles\n",
      "   18: Adding sentiment to 100 articles\n",
      "   19: Adding sentiment to 100 articles\n",
      "   20: Adding sentiment to 100 articles\n",
      "   21: Adding sentiment to 100 articles\n",
      "   22: Adding sentiment to 100 articles\n",
      "   23: Adding sentiment to 100 articles\n"
     ]
    }
   ],
   "source": [
    "for df in year_dictionary.values():\n",
    "    add_sentiment(df)\n"
   ]
  },
  {
   "cell_type": "code",
   "execution_count": 23,
   "metadata": {},
   "outputs": [],
   "source": [
    "def get_sentiment(df, sentiment_type):\n",
    "    return np.mean(df[sentiment_type])\n"
   ]
  },
  {
   "cell_type": "code",
   "execution_count": 24,
   "metadata": {},
   "outputs": [],
   "source": [
    "def get_sentiment_data(year_dict):\n",
    "    \n",
    "    sentiment_types = ['negative', 'neutral', 'positive', 'compound']\n",
    "    sentiment_df = pd.DataFrame(columns=['year', 'negative', 'neutral', 'positive', 'compound'])\n",
    "    index = 0\n",
    "\n",
    "    for year, df in year_dict.items():\n",
    "        data_list = [int(year)]\n",
    "\n",
    "        for s_type in sentiment_types:\n",
    "            data_list.append(get_sentiment(df,s_type))\n",
    "            \n",
    "        sentiment_df.loc[index] = data_list\n",
    "        index = index + 1\n",
    "\n",
    "    sentiment_df.head(5)\n",
    "    return sentiment_df\n"
   ]
  },
  {
   "cell_type": "code",
   "execution_count": 25,
   "metadata": {},
   "outputs": [
    {
     "data": {
      "text/html": [
       "<div>\n",
       "<style scoped>\n",
       "    .dataframe tbody tr th:only-of-type {\n",
       "        vertical-align: middle;\n",
       "    }\n",
       "\n",
       "    .dataframe tbody tr th {\n",
       "        vertical-align: top;\n",
       "    }\n",
       "\n",
       "    .dataframe thead th {\n",
       "        text-align: right;\n",
       "    }\n",
       "</style>\n",
       "<table border=\"1\" class=\"dataframe\">\n",
       "  <thead>\n",
       "    <tr style=\"text-align: right;\">\n",
       "      <th></th>\n",
       "      <th>year</th>\n",
       "      <th>negative</th>\n",
       "      <th>neutral</th>\n",
       "      <th>positive</th>\n",
       "      <th>compound</th>\n",
       "    </tr>\n",
       "  </thead>\n",
       "  <tbody>\n",
       "    <tr>\n",
       "      <th>0</th>\n",
       "      <td>2000.0</td>\n",
       "      <td>0.044774</td>\n",
       "      <td>0.823226</td>\n",
       "      <td>0.131452</td>\n",
       "      <td>0.999626</td>\n",
       "    </tr>\n",
       "    <tr>\n",
       "      <th>1</th>\n",
       "      <td>2001.0</td>\n",
       "      <td>0.054500</td>\n",
       "      <td>0.828250</td>\n",
       "      <td>0.117250</td>\n",
       "      <td>0.749287</td>\n",
       "    </tr>\n",
       "    <tr>\n",
       "      <th>2</th>\n",
       "      <td>2002.0</td>\n",
       "      <td>0.054200</td>\n",
       "      <td>0.840467</td>\n",
       "      <td>0.105267</td>\n",
       "      <td>0.995560</td>\n",
       "    </tr>\n",
       "    <tr>\n",
       "      <th>3</th>\n",
       "      <td>2003.0</td>\n",
       "      <td>0.078000</td>\n",
       "      <td>0.807000</td>\n",
       "      <td>0.115000</td>\n",
       "      <td>0.982700</td>\n",
       "    </tr>\n",
       "    <tr>\n",
       "      <th>4</th>\n",
       "      <td>2004.0</td>\n",
       "      <td>0.057778</td>\n",
       "      <td>0.834667</td>\n",
       "      <td>0.107778</td>\n",
       "      <td>0.999022</td>\n",
       "    </tr>\n",
       "    <tr>\n",
       "      <th>5</th>\n",
       "      <td>2005.0</td>\n",
       "      <td>0.051200</td>\n",
       "      <td>0.841600</td>\n",
       "      <td>0.107200</td>\n",
       "      <td>0.999560</td>\n",
       "    </tr>\n",
       "    <tr>\n",
       "      <th>6</th>\n",
       "      <td>2006.0</td>\n",
       "      <td>0.069714</td>\n",
       "      <td>0.827214</td>\n",
       "      <td>0.103071</td>\n",
       "      <td>0.566200</td>\n",
       "    </tr>\n",
       "    <tr>\n",
       "      <th>7</th>\n",
       "      <td>2007.0</td>\n",
       "      <td>0.044423</td>\n",
       "      <td>0.828423</td>\n",
       "      <td>0.127077</td>\n",
       "      <td>0.760212</td>\n",
       "    </tr>\n",
       "    <tr>\n",
       "      <th>8</th>\n",
       "      <td>2008.0</td>\n",
       "      <td>0.049412</td>\n",
       "      <td>0.834353</td>\n",
       "      <td>0.116294</td>\n",
       "      <td>0.756047</td>\n",
       "    </tr>\n",
       "    <tr>\n",
       "      <th>9</th>\n",
       "      <td>2009.0</td>\n",
       "      <td>0.060550</td>\n",
       "      <td>0.829700</td>\n",
       "      <td>0.110000</td>\n",
       "      <td>0.608870</td>\n",
       "    </tr>\n",
       "    <tr>\n",
       "      <th>10</th>\n",
       "      <td>2010.0</td>\n",
       "      <td>0.047290</td>\n",
       "      <td>0.850097</td>\n",
       "      <td>0.102645</td>\n",
       "      <td>0.684916</td>\n",
       "    </tr>\n",
       "    <tr>\n",
       "      <th>11</th>\n",
       "      <td>2011.0</td>\n",
       "      <td>0.039750</td>\n",
       "      <td>0.856519</td>\n",
       "      <td>0.103750</td>\n",
       "      <td>0.875710</td>\n",
       "    </tr>\n",
       "    <tr>\n",
       "      <th>12</th>\n",
       "      <td>2012.0</td>\n",
       "      <td>0.037250</td>\n",
       "      <td>0.850410</td>\n",
       "      <td>0.112430</td>\n",
       "      <td>0.930606</td>\n",
       "    </tr>\n",
       "    <tr>\n",
       "      <th>13</th>\n",
       "      <td>2013.0</td>\n",
       "      <td>0.037000</td>\n",
       "      <td>0.851900</td>\n",
       "      <td>0.111010</td>\n",
       "      <td>0.934124</td>\n",
       "    </tr>\n",
       "    <tr>\n",
       "      <th>14</th>\n",
       "      <td>2014.0</td>\n",
       "      <td>0.029470</td>\n",
       "      <td>0.852200</td>\n",
       "      <td>0.118240</td>\n",
       "      <td>0.947655</td>\n",
       "    </tr>\n",
       "    <tr>\n",
       "      <th>15</th>\n",
       "      <td>2015.0</td>\n",
       "      <td>0.032100</td>\n",
       "      <td>0.841310</td>\n",
       "      <td>0.126570</td>\n",
       "      <td>0.936569</td>\n",
       "    </tr>\n",
       "    <tr>\n",
       "      <th>16</th>\n",
       "      <td>2016.0</td>\n",
       "      <td>0.032600</td>\n",
       "      <td>0.851360</td>\n",
       "      <td>0.115970</td>\n",
       "      <td>0.927607</td>\n",
       "    </tr>\n",
       "    <tr>\n",
       "      <th>17</th>\n",
       "      <td>2017.0</td>\n",
       "      <td>0.028420</td>\n",
       "      <td>0.852090</td>\n",
       "      <td>0.119590</td>\n",
       "      <td>0.903130</td>\n",
       "    </tr>\n",
       "    <tr>\n",
       "      <th>18</th>\n",
       "      <td>2018.0</td>\n",
       "      <td>0.033540</td>\n",
       "      <td>0.850240</td>\n",
       "      <td>0.116190</td>\n",
       "      <td>0.947029</td>\n",
       "    </tr>\n",
       "    <tr>\n",
       "      <th>19</th>\n",
       "      <td>2019.0</td>\n",
       "      <td>0.038320</td>\n",
       "      <td>0.842640</td>\n",
       "      <td>0.119050</td>\n",
       "      <td>0.897305</td>\n",
       "    </tr>\n",
       "    <tr>\n",
       "      <th>20</th>\n",
       "      <td>2020.0</td>\n",
       "      <td>0.041240</td>\n",
       "      <td>0.842050</td>\n",
       "      <td>0.116680</td>\n",
       "      <td>0.905829</td>\n",
       "    </tr>\n",
       "    <tr>\n",
       "      <th>21</th>\n",
       "      <td>2021.0</td>\n",
       "      <td>0.037800</td>\n",
       "      <td>0.847070</td>\n",
       "      <td>0.115160</td>\n",
       "      <td>0.896771</td>\n",
       "    </tr>\n",
       "    <tr>\n",
       "      <th>22</th>\n",
       "      <td>2022.0</td>\n",
       "      <td>0.036420</td>\n",
       "      <td>0.832980</td>\n",
       "      <td>0.130570</td>\n",
       "      <td>0.986432</td>\n",
       "    </tr>\n",
       "    <tr>\n",
       "      <th>23</th>\n",
       "      <td>2023.0</td>\n",
       "      <td>0.045920</td>\n",
       "      <td>0.833940</td>\n",
       "      <td>0.120060</td>\n",
       "      <td>0.853728</td>\n",
       "    </tr>\n",
       "  </tbody>\n",
       "</table>\n",
       "</div>"
      ],
      "text/plain": [
       "      year  negative   neutral  positive  compound\n",
       "0   2000.0  0.044774  0.823226  0.131452  0.999626\n",
       "1   2001.0  0.054500  0.828250  0.117250  0.749287\n",
       "2   2002.0  0.054200  0.840467  0.105267  0.995560\n",
       "3   2003.0  0.078000  0.807000  0.115000  0.982700\n",
       "4   2004.0  0.057778  0.834667  0.107778  0.999022\n",
       "5   2005.0  0.051200  0.841600  0.107200  0.999560\n",
       "6   2006.0  0.069714  0.827214  0.103071  0.566200\n",
       "7   2007.0  0.044423  0.828423  0.127077  0.760212\n",
       "8   2008.0  0.049412  0.834353  0.116294  0.756047\n",
       "9   2009.0  0.060550  0.829700  0.110000  0.608870\n",
       "10  2010.0  0.047290  0.850097  0.102645  0.684916\n",
       "11  2011.0  0.039750  0.856519  0.103750  0.875710\n",
       "12  2012.0  0.037250  0.850410  0.112430  0.930606\n",
       "13  2013.0  0.037000  0.851900  0.111010  0.934124\n",
       "14  2014.0  0.029470  0.852200  0.118240  0.947655\n",
       "15  2015.0  0.032100  0.841310  0.126570  0.936569\n",
       "16  2016.0  0.032600  0.851360  0.115970  0.927607\n",
       "17  2017.0  0.028420  0.852090  0.119590  0.903130\n",
       "18  2018.0  0.033540  0.850240  0.116190  0.947029\n",
       "19  2019.0  0.038320  0.842640  0.119050  0.897305\n",
       "20  2020.0  0.041240  0.842050  0.116680  0.905829\n",
       "21  2021.0  0.037800  0.847070  0.115160  0.896771\n",
       "22  2022.0  0.036420  0.832980  0.130570  0.986432\n",
       "23  2023.0  0.045920  0.833940  0.120060  0.853728"
      ]
     },
     "metadata": {},
     "output_type": "display_data"
    }
   ],
   "source": [
    "sentiment_data_df = get_sentiment_data(year_dictionary)\n",
    "display(sentiment_data_df)\n"
   ]
  },
  {
   "cell_type": "markdown",
   "metadata": {},
   "source": [
    "Plot the data with years on the x-axis and the sentiment types in different colors."
   ]
  },
  {
   "cell_type": "code",
   "execution_count": 26,
   "metadata": {},
   "outputs": [],
   "source": [
    "def plot_sentiment(df, title):\n",
    "    sentiment_types = ['negative', 'neutral', 'positive', 'compound']\n",
    "    colors_list = ['red', 'blue', 'gold', 'black'] \n",
    "    color_choice = 0\n",
    "\n",
    "    for sentiment_type in sentiment_types:\n",
    "        plt.plot(df['year'], df[sentiment_type], \"o--\", label=sentiment_type, color=colors_list[color_choice])\n",
    "        color_choice = color_choice + 1\n",
    "\n",
    "    plt.legend()\n",
    "    plt.title(title)\n",
    "    plt.xlabel('Year')\n",
    "    plt.ylabel('Sentiment Score')\n",
    "    plt.show()\n"
   ]
  },
  {
   "cell_type": "code",
   "execution_count": 27,
   "metadata": {},
   "outputs": [
    {
     "data": {
      "image/png": "[encoded data removed]",
      "text/plain": [
       "<Figure size 640x480 with 1 Axes>"
      ]
     },
     "metadata": {},
     "output_type": "display_data"
    }
   ],
   "source": [
    "plot_sentiment(sentiment_data_df, \"Sentiment over the years\")\n"
   ]
  },
  {
   "cell_type": "markdown",
   "metadata": {},
   "source": [
    "We can also perform topic modeling on the data. We can then analyze the sentiment within the context of the specific topic. \n",
    "\n",
    "I will be using the title column for each file to get an idea of the topic for A.I. Since we are only using the titles, I believe that utilizing LDA topic modeling should be sufficient. \n"
   ]
  },
  {
   "cell_type": "code",
   "execution_count": 28,
   "metadata": {},
   "outputs": [],
   "source": [
    "def get_titles(dictionary):\n",
    "\n",
    "    all_titles = []\n",
    "\n",
    "    for df in dictionary.values():\n",
    "        titles = df['title'].to_list()\n",
    "        all_titles.append(titles)\n",
    "\n",
    "    return all_titles\n"
   ]
  },
  {
   "cell_type": "code",
   "execution_count": 29,
   "metadata": {},
   "outputs": [],
   "source": [
    "#year_dictionary[2001]\n"
   ]
  },
  {
   "cell_type": "code",
   "execution_count": 30,
   "metadata": {},
   "outputs": [],
   "source": [
    "titles = get_titles(year_dictionary)\n"
   ]
  },
  {
   "cell_type": "code",
   "execution_count": 31,
   "metadata": {},
   "outputs": [],
   "source": [
    "def lemmatize(text):\n",
    "    \n",
    "    lemmer = WordNetLemmatizer()\n",
    "    pos_set = set(['n', 'a', 'v'])\n",
    "\n",
    "    lemmatized_text = [lemmer.lemmatize(tok, pos='n') if pos[0].lower() in pos_set else lemmer.lemmatize(tok) \n",
    "                        for sent in text for tok, pos in pos_tag(sent, tagset='universal')]\n",
    "    \n",
    "    return lemmatized_text\n"
   ]
  },
  {
   "cell_type": "code",
   "execution_count": 32,
   "metadata": {},
   "outputs": [],
   "source": [
    "def process_text(text):\n",
    "    text = lemmatize(text)\n",
    "    vect = CountVectorizer(stop_words='english')\n",
    "    features = vect.fit_transform(text)\n",
    "\n",
    "    return features\n"
   ]
  },
  {
   "cell_type": "code",
   "execution_count": 37,
   "metadata": {},
   "outputs": [],
   "source": [
    "import nltk\n",
    "# nltk.download('averaged_perceptron_tagger')\n",
    "# nltk.download('universal_tagset')\n",
    "# nltk.download('wordnet')\n",
    "processed_titles = process_text(titles)\n"
   ]
  },
  {
   "cell_type": "code",
   "execution_count": 38,
   "metadata": {},
   "outputs": [],
   "source": [
    "def get_add_topics(features, dictionary):\n",
    "    topic_dict ={}\n",
    "    \n",
    "    lda_model = LatentDirichletAllocation(n_components=5, learning_method='online',random_state=42).fit(features)\n",
    "\n",
    "    topic_num = 0\n",
    "    for words in lda_model.components_:\n",
    "        topic_dict[topic_num] = words.argsort()[:-10 - 1:-1]\n",
    "        topic_num = topic_num + 1\n",
    "\n",
    "    topics = lda_model.transform(features)\n",
    "    topics.shape\n",
    "\n",
    "    topic_index = -1\n",
    "    for df in dictionary.values():\n",
    "        # print(len(df))\n",
    "        title_topic = [topics[topic_index+i].argmax() for i in range(1,len(df)+1)]\n",
    "        df['topic'] = title_topic\n",
    "        topic_index = topic_index + len(df)\n",
    "\n",
    "    return topic_dict\n"
   ]
  },
  {
   "cell_type": "code",
   "execution_count": 39,
   "metadata": {},
   "outputs": [],
   "source": [
    "topics = get_add_topics(processed_titles, year_dictionary)\n"
   ]
  },
  {
   "cell_type": "code",
   "execution_count": null,
   "metadata": {},
   "outputs": [],
   "source": [
    "#print(year_dictionary[2023]['topic'].values)\n"
   ]
  },
  {
   "cell_type": "markdown",
   "metadata": {},
   "source": [
    "Now we can create dataframes grouped by topic and map the sentiment."
   ]
  },
  {
   "cell_type": "code",
   "execution_count": 40,
   "metadata": {},
   "outputs": [],
   "source": [
    "def create_topics_dict(dictionary):\n",
    "    \n",
    "    new_dict = {}\n",
    "    \n",
    "    for topic_num in range(5):\n",
    "        topic_df = pd.DataFrame()\n",
    "\n",
    "        for df in dictionary.values():\n",
    "            temp_df = df[df['topic'] == 0]\n",
    "            topic_df = pd.concat([topic_df, temp_df])\n",
    "        \n",
    "        new_dict[topic_num] = topic_df\n",
    "    \n",
    "    return new_dict\n"
   ]
  },
  {
   "cell_type": "code",
   "execution_count": 41,
   "metadata": {},
   "outputs": [],
   "source": [
    "topic_dictionary = create_topics_dict(year_dictionary)\n"
   ]
  },
  {
   "cell_type": "code",
   "execution_count": 42,
   "metadata": {},
   "outputs": [
    {
     "data": {
      "image/png": "[encoded data removed]",
      "text/plain": [
       "<Figure size 640x480 with 1 Axes>"
      ]
     },
     "metadata": {},
     "output_type": "display_data"
    },
    {
     "data": {
      "image/png": "[encoded data removed]",
      "text/plain": [
       "<Figure size 640x480 with 1 Axes>"
      ]
     },
     "metadata": {},
     "output_type": "display_data"
    },
    {
     "data": {
      "image/png": "[encoded data removed]",
      "text/plain": [
       "<Figure size 640x480 with 1 Axes>"
      ]
     },
     "metadata": {},
     "output_type": "display_data"
    },
    {
     "data": {
      "image/png": "[encoded data removed]",
      "text/plain": [
       "<Figure size 640x480 with 1 Axes>"
      ]
     },
     "metadata": {},
     "output_type": "display_data"
    },
    {
     "data": {
      "image/png": "[encoded data removed]",
      "text/plain": [
       "<Figure size 640x480 with 1 Axes>"
      ]
     },
     "metadata": {},
     "output_type": "display_data"
    }
   ],
   "source": [
    "for topic_num, df in sorted(topic_dictionary.items()):\n",
    "    title = f'Topic {topic_num}'\n",
    "    plot_sentiment(df, title)\n"
   ]
  }
 ],
 "metadata": {
  "kernelspec": {
   "display_name": "Python 3 (ipykernel)",
   "language": "python",
   "name": "python3"
  },
  "language_info": {
   "codemirror_mode": {
    "name": "ipython",
    "version": 3
   },
   "file_extension": ".py",
   "mimetype": "text/x-python",
   "name": "python",
   "nbconvert_exporter": "python",
   "pygments_lexer": "ipython3",
   "version": "3.11.5"
  }
 },
 "nbformat": 4,
 "nbformat_minor": 2
}
