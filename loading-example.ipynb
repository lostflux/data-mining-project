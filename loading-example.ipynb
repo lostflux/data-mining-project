{
 "cells": [
  {
   "cell_type": "markdown",
   "metadata": {},
   "source": [
    "## Example Loading the Dataset"
   ]
  },
  {
   "cell_type": "code",
   "execution_count": 1,
   "metadata": {},
   "outputs": [
    {
     "data": {
      "text/html": [
       "<div>\n",
       "<style scoped>\n",
       "    .dataframe tbody tr th:only-of-type {\n",
       "        vertical-align: middle;\n",
       "    }\n",
       "\n",
       "    .dataframe tbody tr th {\n",
       "        vertical-align: top;\n",
       "    }\n",
       "\n",
       "    .dataframe thead th {\n",
       "        text-align: right;\n",
       "    }\n",
       "</style>\n",
       "<table border=\"1\" class=\"dataframe\">\n",
       "  <thead>\n",
       "    <tr style=\"text-align: right;\">\n",
       "      <th></th>\n",
       "      <th>id</th>\n",
       "      <th>year</th>\n",
       "      <th>title</th>\n",
       "      <th>url</th>\n",
       "      <th>text</th>\n",
       "    </tr>\n",
       "  </thead>\n",
       "  <tbody>\n",
       "    <tr>\n",
       "      <th>0</th>\n",
       "      <td>0</td>\n",
       "      <td>2016</td>\n",
       "      <td>\"Human-Animal Chimeras Are Gestating on U.S. R...</td>\n",
       "      <td>\"https://www.technologyreview.com/s/545106/hum...</td>\n",
       "      <td>\"Featured Topics Newsletters Events Podcasts F...</td>\n",
       "    </tr>\n",
       "    <tr>\n",
       "      <th>1</th>\n",
       "      <td>1</td>\n",
       "      <td>2013</td>\n",
       "      <td>\"Too Much Information | MIT Technology Review\"</td>\n",
       "      <td>\"https://www.technologyreview.com/s/522661/too...</td>\n",
       "      <td>\"Featured Topics Newsletters Events Podcasts F...</td>\n",
       "    </tr>\n",
       "    <tr>\n",
       "      <th>2</th>\n",
       "      <td>2</td>\n",
       "      <td>2017</td>\n",
       "      <td>\"Hacking the Biological Clock | MIT Technology...</td>\n",
       "      <td>\"https://www.technologyreview.com/magazines/ha...</td>\n",
       "      <td>\"Featured Topics Newsletters Events Podcasts F...</td>\n",
       "    </tr>\n",
       "    <tr>\n",
       "      <th>3</th>\n",
       "      <td>3</td>\n",
       "      <td>2018</td>\n",
       "      <td>\"Six things to do with your data before you di...</td>\n",
       "      <td>\"https://www.technologyreview.com/2018/10/23/2...</td>\n",
       "      <td>\"Featured Topics Newsletters Events Podcasts F...</td>\n",
       "    </tr>\n",
       "    <tr>\n",
       "      <th>4</th>\n",
       "      <td>4</td>\n",
       "      <td>2018</td>\n",
       "      <td>\"Your genome, on demand | MIT Technology Review\"</td>\n",
       "      <td>\"https://www.technologyreview.com/2018/10/23/1...</td>\n",
       "      <td>\"Featured Topics Newsletters Events Podcasts F...</td>\n",
       "    </tr>\n",
       "  </tbody>\n",
       "</table>\n",
       "</div>"
      ],
      "text/plain": [
       "   id  year                                              title  \\\n",
       "0   0  2016  \"Human-Animal Chimeras Are Gestating on U.S. R...   \n",
       "1   1  2013     \"Too Much Information | MIT Technology Review\"   \n",
       "2   2  2017  \"Hacking the Biological Clock | MIT Technology...   \n",
       "3   3  2018  \"Six things to do with your data before you di...   \n",
       "4   4  2018   \"Your genome, on demand | MIT Technology Review\"   \n",
       "\n",
       "                                                 url  \\\n",
       "0  \"https://www.technologyreview.com/s/545106/hum...   \n",
       "1  \"https://www.technologyreview.com/s/522661/too...   \n",
       "2  \"https://www.technologyreview.com/magazines/ha...   \n",
       "3  \"https://www.technologyreview.com/2018/10/23/2...   \n",
       "4  \"https://www.technologyreview.com/2018/10/23/1...   \n",
       "\n",
       "                                                text  \n",
       "0  \"Featured Topics Newsletters Events Podcasts F...  \n",
       "1  \"Featured Topics Newsletters Events Podcasts F...  \n",
       "2  \"Featured Topics Newsletters Events Podcasts F...  \n",
       "3  \"Featured Topics Newsletters Events Podcasts F...  \n",
       "4  \"Featured Topics Newsletters Events Podcasts F...  "
      ]
     },
     "metadata": {},
     "output_type": "display_data"
    },
    {
     "data": {
      "text/markdown": [
       "### Year: 2023"
      ],
      "text/plain": [
       "<IPython.core.display.Markdown object>"
      ]
     },
     "metadata": {},
     "output_type": "display_data"
    },
    {
     "data": {
      "text/markdown": [
       "Number of articles: 3747"
      ],
      "text/plain": [
       "<IPython.core.display.Markdown object>"
      ]
     },
     "metadata": {},
     "output_type": "display_data"
    },
    {
     "data": {
      "text/html": [
       "<div>\n",
       "<style scoped>\n",
       "    .dataframe tbody tr th:only-of-type {\n",
       "        vertical-align: middle;\n",
       "    }\n",
       "\n",
       "    .dataframe tbody tr th {\n",
       "        vertical-align: top;\n",
       "    }\n",
       "\n",
       "    .dataframe thead th {\n",
       "        text-align: right;\n",
       "    }\n",
       "</style>\n",
       "<table border=\"1\" class=\"dataframe\">\n",
       "  <thead>\n",
       "    <tr style=\"text-align: right;\">\n",
       "      <th></th>\n",
       "      <th>id</th>\n",
       "      <th>year</th>\n",
       "      <th>title</th>\n",
       "      <th>url</th>\n",
       "      <th>text</th>\n",
       "    </tr>\n",
       "  </thead>\n",
       "  <tbody>\n",
       "    <tr>\n",
       "      <th>13</th>\n",
       "      <td>13</td>\n",
       "      <td>2023</td>\n",
       "      <td>\"Humane officially launches the AI Pin, its Op...</td>\n",
       "      <td>\"https://www.theverge.com/2023/11/9/23953901/h...</td>\n",
       "      <td>\"The Verge homepage The Verge homepage The Ver...</td>\n",
       "    </tr>\n",
       "    <tr>\n",
       "      <th>18</th>\n",
       "      <td>18</td>\n",
       "      <td>2023</td>\n",
       "      <td>\"The Mining Industry’s Next Frontier Is Deep, ...</td>\n",
       "      <td>\"https://www.wired.com/story/deep-sea-mining-e...</td>\n",
       "      <td>\"Open Navigation Menu To revist this article, ...</td>\n",
       "    </tr>\n",
       "    <tr>\n",
       "      <th>25</th>\n",
       "      <td>25</td>\n",
       "      <td>2023</td>\n",
       "      <td>\"SolarWinds: The Untold Story of the Boldest S...</td>\n",
       "      <td>\"https://www.wired.com/story/the-untold-story-...</td>\n",
       "      <td>\"Open Navigation Menu To revist this article, ...</td>\n",
       "    </tr>\n",
       "  </tbody>\n",
       "</table>\n",
       "</div>"
      ],
      "text/plain": [
       "    id  year                                              title  \\\n",
       "13  13  2023  \"Humane officially launches the AI Pin, its Op...   \n",
       "18  18  2023  \"The Mining Industry’s Next Frontier Is Deep, ...   \n",
       "25  25  2023  \"SolarWinds: The Untold Story of the Boldest S...   \n",
       "\n",
       "                                                  url  \\\n",
       "13  \"https://www.theverge.com/2023/11/9/23953901/h...   \n",
       "18  \"https://www.wired.com/story/deep-sea-mining-e...   \n",
       "25  \"https://www.wired.com/story/the-untold-story-...   \n",
       "\n",
       "                                                 text  \n",
       "13  \"The Verge homepage The Verge homepage The Ver...  \n",
       "18  \"Open Navigation Menu To revist this article, ...  \n",
       "25  \"Open Navigation Menu To revist this article, ...  "
      ]
     },
     "metadata": {},
     "output_type": "display_data"
    },
    {
     "data": {
      "text/markdown": [
       "---"
      ],
      "text/plain": [
       "<IPython.core.display.Markdown object>"
      ]
     },
     "metadata": {},
     "output_type": "display_data"
    },
    {
     "data": {
      "text/markdown": [
       "### Year: 2022"
      ],
      "text/plain": [
       "<IPython.core.display.Markdown object>"
      ]
     },
     "metadata": {},
     "output_type": "display_data"
    },
    {
     "data": {
      "text/markdown": [
       "Number of articles: 2313"
      ],
      "text/plain": [
       "<IPython.core.display.Markdown object>"
      ]
     },
     "metadata": {},
     "output_type": "display_data"
    },
    {
     "data": {
      "text/html": [
       "<div>\n",
       "<style scoped>\n",
       "    .dataframe tbody tr th:only-of-type {\n",
       "        vertical-align: middle;\n",
       "    }\n",
       "\n",
       "    .dataframe tbody tr th {\n",
       "        vertical-align: top;\n",
       "    }\n",
       "\n",
       "    .dataframe thead th {\n",
       "        text-align: right;\n",
       "    }\n",
       "</style>\n",
       "<table border=\"1\" class=\"dataframe\">\n",
       "  <thead>\n",
       "    <tr style=\"text-align: right;\">\n",
       "      <th></th>\n",
       "      <th>id</th>\n",
       "      <th>year</th>\n",
       "      <th>title</th>\n",
       "      <th>url</th>\n",
       "      <th>text</th>\n",
       "    </tr>\n",
       "  </thead>\n",
       "  <tbody>\n",
       "    <tr>\n",
       "      <th>14</th>\n",
       "      <td>14</td>\n",
       "      <td>2022</td>\n",
       "      <td>\"This startup plans to create realistic human ...</td>\n",
       "      <td>\"https://www.technologyreview.com/2022/08/04/1...</td>\n",
       "      <td>\"Featured Topics Newsletters Events Podcasts F...</td>\n",
       "    </tr>\n",
       "    <tr>\n",
       "      <th>26</th>\n",
       "      <td>26</td>\n",
       "      <td>2022</td>\n",
       "      <td>\"Your Microsoft Exchange Server Is a Security ...</td>\n",
       "      <td>\"https://www.wired.com/story/microsoft-exchang...</td>\n",
       "      <td>\"Open Navigation Menu To revist this article, ...</td>\n",
       "    </tr>\n",
       "    <tr>\n",
       "      <th>27</th>\n",
       "      <td>27</td>\n",
       "      <td>2022</td>\n",
       "      <td>\"Why the Belarus Railways Hack Marks a First f...</td>\n",
       "      <td>\"https://www.wired.com/story/belarus-railways-...</td>\n",
       "      <td>\"Open Navigation Menu To revist this article, ...</td>\n",
       "    </tr>\n",
       "  </tbody>\n",
       "</table>\n",
       "</div>"
      ],
      "text/plain": [
       "    id  year                                              title  \\\n",
       "14  14  2022  \"This startup plans to create realistic human ...   \n",
       "26  26  2022  \"Your Microsoft Exchange Server Is a Security ...   \n",
       "27  27  2022  \"Why the Belarus Railways Hack Marks a First f...   \n",
       "\n",
       "                                                  url  \\\n",
       "14  \"https://www.technologyreview.com/2022/08/04/1...   \n",
       "26  \"https://www.wired.com/story/microsoft-exchang...   \n",
       "27  \"https://www.wired.com/story/belarus-railways-...   \n",
       "\n",
       "                                                 text  \n",
       "14  \"Featured Topics Newsletters Events Podcasts F...  \n",
       "26  \"Open Navigation Menu To revist this article, ...  \n",
       "27  \"Open Navigation Menu To revist this article, ...  "
      ]
     },
     "metadata": {},
     "output_type": "display_data"
    },
    {
     "data": {
      "text/markdown": [
       "---"
      ],
      "text/plain": [
       "<IPython.core.display.Markdown object>"
      ]
     },
     "metadata": {},
     "output_type": "display_data"
    },
    {
     "data": {
      "text/markdown": [
       "### Year: 2021"
      ],
      "text/plain": [
       "<IPython.core.display.Markdown object>"
      ]
     },
     "metadata": {},
     "output_type": "display_data"
    },
    {
     "data": {
      "text/markdown": [
       "Number of articles: 2144"
      ],
      "text/plain": [
       "<IPython.core.display.Markdown object>"
      ]
     },
     "metadata": {},
     "output_type": "display_data"
    },
    {
     "data": {
      "text/html": [
       "<div>\n",
       "<style scoped>\n",
       "    .dataframe tbody tr th:only-of-type {\n",
       "        vertical-align: middle;\n",
       "    }\n",
       "\n",
       "    .dataframe tbody tr th {\n",
       "        vertical-align: top;\n",
       "    }\n",
       "\n",
       "    .dataframe thead th {\n",
       "        text-align: right;\n",
       "    }\n",
       "</style>\n",
       "<table border=\"1\" class=\"dataframe\">\n",
       "  <thead>\n",
       "    <tr style=\"text-align: right;\">\n",
       "      <th></th>\n",
       "      <th>id</th>\n",
       "      <th>year</th>\n",
       "      <th>title</th>\n",
       "      <th>url</th>\n",
       "      <th>text</th>\n",
       "    </tr>\n",
       "  </thead>\n",
       "  <tbody>\n",
       "    <tr>\n",
       "      <th>15</th>\n",
       "      <td>15</td>\n",
       "      <td>2021</td>\n",
       "      <td>\"Israel’s “green pass” vaccine passport is an ...</td>\n",
       "      <td>\"https://www.technologyreview.com/2021/03/01/1...</td>\n",
       "      <td>\"Featured Topics Newsletters Events Podcasts F...</td>\n",
       "    </tr>\n",
       "    <tr>\n",
       "      <th>17</th>\n",
       "      <td>17</td>\n",
       "      <td>2021</td>\n",
       "      <td>\"Will Future Electric Vehicles Be Powered by D...</td>\n",
       "      <td>\"https://www.wired.com/story/will-future-elect...</td>\n",
       "      <td>\"Open Navigation Menu To revist this article, ...</td>\n",
       "    </tr>\n",
       "    <tr>\n",
       "      <th>19</th>\n",
       "      <td>19</td>\n",
       "      <td>2021</td>\n",
       "      <td>\"2021 Was the Year Space Tourism Opened Up. Bu...</td>\n",
       "      <td>\"https://www.wired.com/story/2021-was-the-year...</td>\n",
       "      <td>\"Open Navigation Menu To revist this article, ...</td>\n",
       "    </tr>\n",
       "  </tbody>\n",
       "</table>\n",
       "</div>"
      ],
      "text/plain": [
       "    id  year                                              title  \\\n",
       "15  15  2021  \"Israel’s “green pass” vaccine passport is an ...   \n",
       "17  17  2021  \"Will Future Electric Vehicles Be Powered by D...   \n",
       "19  19  2021  \"2021 Was the Year Space Tourism Opened Up. Bu...   \n",
       "\n",
       "                                                  url  \\\n",
       "15  \"https://www.technologyreview.com/2021/03/01/1...   \n",
       "17  \"https://www.wired.com/story/will-future-elect...   \n",
       "19  \"https://www.wired.com/story/2021-was-the-year...   \n",
       "\n",
       "                                                 text  \n",
       "15  \"Featured Topics Newsletters Events Podcasts F...  \n",
       "17  \"Open Navigation Menu To revist this article, ...  \n",
       "19  \"Open Navigation Menu To revist this article, ...  "
      ]
     },
     "metadata": {},
     "output_type": "display_data"
    },
    {
     "data": {
      "text/markdown": [
       "---"
      ],
      "text/plain": [
       "<IPython.core.display.Markdown object>"
      ]
     },
     "metadata": {},
     "output_type": "display_data"
    },
    {
     "data": {
      "text/markdown": [
       "### Year: 2020"
      ],
      "text/plain": [
       "<IPython.core.display.Markdown object>"
      ]
     },
     "metadata": {},
     "output_type": "display_data"
    },
    {
     "data": {
      "text/markdown": [
       "Number of articles: 1856"
      ],
      "text/plain": [
       "<IPython.core.display.Markdown object>"
      ]
     },
     "metadata": {},
     "output_type": "display_data"
    },
    {
     "data": {
      "text/html": [
       "<div>\n",
       "<style scoped>\n",
       "    .dataframe tbody tr th:only-of-type {\n",
       "        vertical-align: middle;\n",
       "    }\n",
       "\n",
       "    .dataframe tbody tr th {\n",
       "        vertical-align: top;\n",
       "    }\n",
       "\n",
       "    .dataframe thead th {\n",
       "        text-align: right;\n",
       "    }\n",
       "</style>\n",
       "<table border=\"1\" class=\"dataframe\">\n",
       "  <thead>\n",
       "    <tr style=\"text-align: right;\">\n",
       "      <th></th>\n",
       "      <th>id</th>\n",
       "      <th>year</th>\n",
       "      <th>title</th>\n",
       "      <th>url</th>\n",
       "      <th>text</th>\n",
       "    </tr>\n",
       "  </thead>\n",
       "  <tbody>\n",
       "    <tr>\n",
       "      <th>28</th>\n",
       "      <td>28</td>\n",
       "      <td>2020</td>\n",
       "      <td>\"Ransomware Has Gone Corporate—and Gotten More...</td>\n",
       "      <td>\"https://www.wired.com/story/ransomware-gone-c...</td>\n",
       "      <td>\"Open Navigation Menu To revist this article, ...</td>\n",
       "    </tr>\n",
       "    <tr>\n",
       "      <th>44</th>\n",
       "      <td>44</td>\n",
       "      <td>2020</td>\n",
       "      <td>\"Big Tech’s Role in Policing the Protests | WI...</td>\n",
       "      <td>\"https://www.wired.com/story/gadget-lab-podcas...</td>\n",
       "      <td>\"Open Navigation Menu To revist this article, ...</td>\n",
       "    </tr>\n",
       "    <tr>\n",
       "      <th>46</th>\n",
       "      <td>46</td>\n",
       "      <td>2020</td>\n",
       "      <td>\"This Drone Maker Is Swooping In Amid US Pushb...</td>\n",
       "      <td>\"https://www.wired.com/story/drone-maker-swoop...</td>\n",
       "      <td>\"Open Navigation Menu To revist this article, ...</td>\n",
       "    </tr>\n",
       "  </tbody>\n",
       "</table>\n",
       "</div>"
      ],
      "text/plain": [
       "    id  year                                              title  \\\n",
       "28  28  2020  \"Ransomware Has Gone Corporate—and Gotten More...   \n",
       "44  44  2020  \"Big Tech’s Role in Policing the Protests | WI...   \n",
       "46  46  2020  \"This Drone Maker Is Swooping In Amid US Pushb...   \n",
       "\n",
       "                                                  url  \\\n",
       "28  \"https://www.wired.com/story/ransomware-gone-c...   \n",
       "44  \"https://www.wired.com/story/gadget-lab-podcas...   \n",
       "46  \"https://www.wired.com/story/drone-maker-swoop...   \n",
       "\n",
       "                                                 text  \n",
       "28  \"Open Navigation Menu To revist this article, ...  \n",
       "44  \"Open Navigation Menu To revist this article, ...  \n",
       "46  \"Open Navigation Menu To revist this article, ...  "
      ]
     },
     "metadata": {},
     "output_type": "display_data"
    },
    {
     "data": {
      "text/markdown": [
       "---"
      ],
      "text/plain": [
       "<IPython.core.display.Markdown object>"
      ]
     },
     "metadata": {},
     "output_type": "display_data"
    },
    {
     "data": {
      "text/markdown": [
       "### Year: 2019"
      ],
      "text/plain": [
       "<IPython.core.display.Markdown object>"
      ]
     },
     "metadata": {},
     "output_type": "display_data"
    },
    {
     "data": {
      "text/markdown": [
       "Number of articles: 1914"
      ],
      "text/plain": [
       "<IPython.core.display.Markdown object>"
      ]
     },
     "metadata": {},
     "output_type": "display_data"
    },
    {
     "data": {
      "text/html": [
       "<div>\n",
       "<style scoped>\n",
       "    .dataframe tbody tr th:only-of-type {\n",
       "        vertical-align: middle;\n",
       "    }\n",
       "\n",
       "    .dataframe tbody tr th {\n",
       "        vertical-align: top;\n",
       "    }\n",
       "\n",
       "    .dataframe thead th {\n",
       "        text-align: right;\n",
       "    }\n",
       "</style>\n",
       "<table border=\"1\" class=\"dataframe\">\n",
       "  <thead>\n",
       "    <tr style=\"text-align: right;\">\n",
       "      <th></th>\n",
       "      <th>id</th>\n",
       "      <th>year</th>\n",
       "      <th>title</th>\n",
       "      <th>url</th>\n",
       "      <th>text</th>\n",
       "    </tr>\n",
       "  </thead>\n",
       "  <tbody>\n",
       "    <tr>\n",
       "      <th>31</th>\n",
       "      <td>31</td>\n",
       "      <td>2019</td>\n",
       "      <td>\"Alleged Russian Hacker Behind $100 Million Ev...</td>\n",
       "      <td>\"https://www.wired.com/story/alleged-russian-h...</td>\n",
       "      <td>\"Open Navigation Menu To revist this article, ...</td>\n",
       "    </tr>\n",
       "    <tr>\n",
       "      <th>45</th>\n",
       "      <td>45</td>\n",
       "      <td>2019</td>\n",
       "      <td>\"Riot Games Makes More Than Just 'League of Le...</td>\n",
       "      <td>\"https://www.wired.com/story/riot-games-announ...</td>\n",
       "      <td>\"Open Navigation Menu To revist this article, ...</td>\n",
       "    </tr>\n",
       "    <tr>\n",
       "      <th>63</th>\n",
       "      <td>63</td>\n",
       "      <td>2019</td>\n",
       "      <td>\"Why the ‘Queen of Shitty Robots’ Renounced He...</td>\n",
       "      <td>\"https://www.wired.com/story/simone-giertz-bui...</td>\n",
       "      <td>\"Open Navigation Menu To revist this article, ...</td>\n",
       "    </tr>\n",
       "  </tbody>\n",
       "</table>\n",
       "</div>"
      ],
      "text/plain": [
       "    id  year                                              title  \\\n",
       "31  31  2019  \"Alleged Russian Hacker Behind $100 Million Ev...   \n",
       "45  45  2019  \"Riot Games Makes More Than Just 'League of Le...   \n",
       "63  63  2019  \"Why the ‘Queen of Shitty Robots’ Renounced He...   \n",
       "\n",
       "                                                  url  \\\n",
       "31  \"https://www.wired.com/story/alleged-russian-h...   \n",
       "45  \"https://www.wired.com/story/riot-games-announ...   \n",
       "63  \"https://www.wired.com/story/simone-giertz-bui...   \n",
       "\n",
       "                                                 text  \n",
       "31  \"Open Navigation Menu To revist this article, ...  \n",
       "45  \"Open Navigation Menu To revist this article, ...  \n",
       "63  \"Open Navigation Menu To revist this article, ...  "
      ]
     },
     "metadata": {},
     "output_type": "display_data"
    },
    {
     "data": {
      "text/markdown": [
       "---"
      ],
      "text/plain": [
       "<IPython.core.display.Markdown object>"
      ]
     },
     "metadata": {},
     "output_type": "display_data"
    },
    {
     "data": {
      "text/markdown": [
       "### Year: 2018"
      ],
      "text/plain": [
       "<IPython.core.display.Markdown object>"
      ]
     },
     "metadata": {},
     "output_type": "display_data"
    },
    {
     "data": {
      "text/markdown": [
       "Number of articles: 1339"
      ],
      "text/plain": [
       "<IPython.core.display.Markdown object>"
      ]
     },
     "metadata": {},
     "output_type": "display_data"
    },
    {
     "data": {
      "text/html": [
       "<div>\n",
       "<style scoped>\n",
       "    .dataframe tbody tr th:only-of-type {\n",
       "        vertical-align: middle;\n",
       "    }\n",
       "\n",
       "    .dataframe tbody tr th {\n",
       "        vertical-align: top;\n",
       "    }\n",
       "\n",
       "    .dataframe thead th {\n",
       "        text-align: right;\n",
       "    }\n",
       "</style>\n",
       "<table border=\"1\" class=\"dataframe\">\n",
       "  <thead>\n",
       "    <tr style=\"text-align: right;\">\n",
       "      <th></th>\n",
       "      <th>id</th>\n",
       "      <th>year</th>\n",
       "      <th>title</th>\n",
       "      <th>url</th>\n",
       "      <th>text</th>\n",
       "    </tr>\n",
       "  </thead>\n",
       "  <tbody>\n",
       "    <tr>\n",
       "      <th>3</th>\n",
       "      <td>3</td>\n",
       "      <td>2018</td>\n",
       "      <td>\"Six things to do with your data before you di...</td>\n",
       "      <td>\"https://www.technologyreview.com/2018/10/23/2...</td>\n",
       "      <td>\"Featured Topics Newsletters Events Podcasts F...</td>\n",
       "    </tr>\n",
       "    <tr>\n",
       "      <th>4</th>\n",
       "      <td>4</td>\n",
       "      <td>2018</td>\n",
       "      <td>\"Your genome, on demand | MIT Technology Review\"</td>\n",
       "      <td>\"https://www.technologyreview.com/2018/10/23/1...</td>\n",
       "      <td>\"Featured Topics Newsletters Events Podcasts F...</td>\n",
       "    </tr>\n",
       "    <tr>\n",
       "      <th>5</th>\n",
       "      <td>5</td>\n",
       "      <td>2018</td>\n",
       "      <td>\"Genes I wish they would find | MIT Technology...</td>\n",
       "      <td>\"https://www.technologyreview.com/2018/10/23/1...</td>\n",
       "      <td>\"Featured Topics Newsletters Events Podcasts F...</td>\n",
       "    </tr>\n",
       "  </tbody>\n",
       "</table>\n",
       "</div>"
      ],
      "text/plain": [
       "   id  year                                              title  \\\n",
       "3   3  2018  \"Six things to do with your data before you di...   \n",
       "4   4  2018   \"Your genome, on demand | MIT Technology Review\"   \n",
       "5   5  2018  \"Genes I wish they would find | MIT Technology...   \n",
       "\n",
       "                                                 url  \\\n",
       "3  \"https://www.technologyreview.com/2018/10/23/2...   \n",
       "4  \"https://www.technologyreview.com/2018/10/23/1...   \n",
       "5  \"https://www.technologyreview.com/2018/10/23/1...   \n",
       "\n",
       "                                                text  \n",
       "3  \"Featured Topics Newsletters Events Podcasts F...  \n",
       "4  \"Featured Topics Newsletters Events Podcasts F...  \n",
       "5  \"Featured Topics Newsletters Events Podcasts F...  "
      ]
     },
     "metadata": {},
     "output_type": "display_data"
    },
    {
     "data": {
      "text/markdown": [
       "---"
      ],
      "text/plain": [
       "<IPython.core.display.Markdown object>"
      ]
     },
     "metadata": {},
     "output_type": "display_data"
    },
    {
     "data": {
      "text/markdown": [
       "### Year: 2017"
      ],
      "text/plain": [
       "<IPython.core.display.Markdown object>"
      ]
     },
     "metadata": {},
     "output_type": "display_data"
    },
    {
     "data": {
      "text/markdown": [
       "Number of articles: 1177"
      ],
      "text/plain": [
       "<IPython.core.display.Markdown object>"
      ]
     },
     "metadata": {},
     "output_type": "display_data"
    },
    {
     "data": {
      "text/html": [
       "<div>\n",
       "<style scoped>\n",
       "    .dataframe tbody tr th:only-of-type {\n",
       "        vertical-align: middle;\n",
       "    }\n",
       "\n",
       "    .dataframe tbody tr th {\n",
       "        vertical-align: top;\n",
       "    }\n",
       "\n",
       "    .dataframe thead th {\n",
       "        text-align: right;\n",
       "    }\n",
       "</style>\n",
       "<table border=\"1\" class=\"dataframe\">\n",
       "  <thead>\n",
       "    <tr style=\"text-align: right;\">\n",
       "      <th></th>\n",
       "      <th>id</th>\n",
       "      <th>year</th>\n",
       "      <th>title</th>\n",
       "      <th>url</th>\n",
       "      <th>text</th>\n",
       "    </tr>\n",
       "  </thead>\n",
       "  <tbody>\n",
       "    <tr>\n",
       "      <th>2</th>\n",
       "      <td>2</td>\n",
       "      <td>2017</td>\n",
       "      <td>\"Hacking the Biological Clock | MIT Technology...</td>\n",
       "      <td>\"https://www.technologyreview.com/magazines/ha...</td>\n",
       "      <td>\"Featured Topics Newsletters Events Podcasts F...</td>\n",
       "    </tr>\n",
       "    <tr>\n",
       "      <th>16</th>\n",
       "      <td>16</td>\n",
       "      <td>2017</td>\n",
       "      <td>\"The Georgia Runoff Election Doesn't Have a Pa...</td>\n",
       "      <td>\"https://www.wired.com/story/georgia-runoff-el...</td>\n",
       "      <td>\"Open Navigation Menu To revist this article, ...</td>\n",
       "    </tr>\n",
       "    <tr>\n",
       "      <th>22</th>\n",
       "      <td>22</td>\n",
       "      <td>2017</td>\n",
       "      <td>\"How to Use Tor and Go Anonymous Online | WIRED\"</td>\n",
       "      <td>\"https://www.wired.com/story/the-grand-tor\"</td>\n",
       "      <td>\"Open Navigation Menu To revist this article, ...</td>\n",
       "    </tr>\n",
       "  </tbody>\n",
       "</table>\n",
       "</div>"
      ],
      "text/plain": [
       "    id  year                                              title  \\\n",
       "2    2  2017  \"Hacking the Biological Clock | MIT Technology...   \n",
       "16  16  2017  \"The Georgia Runoff Election Doesn't Have a Pa...   \n",
       "22  22  2017   \"How to Use Tor and Go Anonymous Online | WIRED\"   \n",
       "\n",
       "                                                  url  \\\n",
       "2   \"https://www.technologyreview.com/magazines/ha...   \n",
       "16  \"https://www.wired.com/story/georgia-runoff-el...   \n",
       "22        \"https://www.wired.com/story/the-grand-tor\"   \n",
       "\n",
       "                                                 text  \n",
       "2   \"Featured Topics Newsletters Events Podcasts F...  \n",
       "16  \"Open Navigation Menu To revist this article, ...  \n",
       "22  \"Open Navigation Menu To revist this article, ...  "
      ]
     },
     "metadata": {},
     "output_type": "display_data"
    },
    {
     "data": {
      "text/markdown": [
       "---"
      ],
      "text/plain": [
       "<IPython.core.display.Markdown object>"
      ]
     },
     "metadata": {},
     "output_type": "display_data"
    },
    {
     "data": {
      "text/markdown": [
       "### Year: 2016"
      ],
      "text/plain": [
       "<IPython.core.display.Markdown object>"
      ]
     },
     "metadata": {},
     "output_type": "display_data"
    },
    {
     "data": {
      "text/markdown": [
       "Number of articles: 777"
      ],
      "text/plain": [
       "<IPython.core.display.Markdown object>"
      ]
     },
     "metadata": {},
     "output_type": "display_data"
    },
    {
     "data": {
      "text/html": [
       "<div>\n",
       "<style scoped>\n",
       "    .dataframe tbody tr th:only-of-type {\n",
       "        vertical-align: middle;\n",
       "    }\n",
       "\n",
       "    .dataframe tbody tr th {\n",
       "        vertical-align: top;\n",
       "    }\n",
       "\n",
       "    .dataframe thead th {\n",
       "        text-align: right;\n",
       "    }\n",
       "</style>\n",
       "<table border=\"1\" class=\"dataframe\">\n",
       "  <thead>\n",
       "    <tr style=\"text-align: right;\">\n",
       "      <th></th>\n",
       "      <th>id</th>\n",
       "      <th>year</th>\n",
       "      <th>title</th>\n",
       "      <th>url</th>\n",
       "      <th>text</th>\n",
       "    </tr>\n",
       "  </thead>\n",
       "  <tbody>\n",
       "    <tr>\n",
       "      <th>0</th>\n",
       "      <td>0</td>\n",
       "      <td>2016</td>\n",
       "      <td>\"Human-Animal Chimeras Are Gestating on U.S. R...</td>\n",
       "      <td>\"https://www.technologyreview.com/s/545106/hum...</td>\n",
       "      <td>\"Featured Topics Newsletters Events Podcasts F...</td>\n",
       "    </tr>\n",
       "    <tr>\n",
       "      <th>43</th>\n",
       "      <td>43</td>\n",
       "      <td>2016</td>\n",
       "      <td>\"Boosted: The Electric Skateboard Company That...</td>\n",
       "      <td>\"https://www.wired.com/2016/08/electric-skateb...</td>\n",
       "      <td>\"Open Navigation Menu To revist this article, ...</td>\n",
       "    </tr>\n",
       "    <tr>\n",
       "      <th>133</th>\n",
       "      <td>133</td>\n",
       "      <td>2016</td>\n",
       "      <td>\"The Panama Papers and the Monster Stories of ...</td>\n",
       "      <td>\"https://www.newyorker.com/news/news-desk/the-...</td>\n",
       "      <td>\"Newsletter To revisit this article, select My...</td>\n",
       "    </tr>\n",
       "  </tbody>\n",
       "</table>\n",
       "</div>"
      ],
      "text/plain": [
       "      id  year                                              title  \\\n",
       "0      0  2016  \"Human-Animal Chimeras Are Gestating on U.S. R...   \n",
       "43    43  2016  \"Boosted: The Electric Skateboard Company That...   \n",
       "133  133  2016  \"The Panama Papers and the Monster Stories of ...   \n",
       "\n",
       "                                                   url  \\\n",
       "0    \"https://www.technologyreview.com/s/545106/hum...   \n",
       "43   \"https://www.wired.com/2016/08/electric-skateb...   \n",
       "133  \"https://www.newyorker.com/news/news-desk/the-...   \n",
       "\n",
       "                                                  text  \n",
       "0    \"Featured Topics Newsletters Events Podcasts F...  \n",
       "43   \"Open Navigation Menu To revist this article, ...  \n",
       "133  \"Newsletter To revisit this article, select My...  "
      ]
     },
     "metadata": {},
     "output_type": "display_data"
    },
    {
     "data": {
      "text/markdown": [
       "---"
      ],
      "text/plain": [
       "<IPython.core.display.Markdown object>"
      ]
     },
     "metadata": {},
     "output_type": "display_data"
    },
    {
     "data": {
      "text/markdown": [
       "### Year: 2015"
      ],
      "text/plain": [
       "<IPython.core.display.Markdown object>"
      ]
     },
     "metadata": {},
     "output_type": "display_data"
    },
    {
     "data": {
      "text/markdown": [
       "Number of articles: 743"
      ],
      "text/plain": [
       "<IPython.core.display.Markdown object>"
      ]
     },
     "metadata": {},
     "output_type": "display_data"
    },
    {
     "data": {
      "text/html": [
       "<div>\n",
       "<style scoped>\n",
       "    .dataframe tbody tr th:only-of-type {\n",
       "        vertical-align: middle;\n",
       "    }\n",
       "\n",
       "    .dataframe tbody tr th {\n",
       "        vertical-align: top;\n",
       "    }\n",
       "\n",
       "    .dataframe thead th {\n",
       "        text-align: right;\n",
       "    }\n",
       "</style>\n",
       "<table border=\"1\" class=\"dataframe\">\n",
       "  <thead>\n",
       "    <tr style=\"text-align: right;\">\n",
       "      <th></th>\n",
       "      <th>id</th>\n",
       "      <th>year</th>\n",
       "      <th>title</th>\n",
       "      <th>url</th>\n",
       "      <th>text</th>\n",
       "    </tr>\n",
       "  </thead>\n",
       "  <tbody>\n",
       "    <tr>\n",
       "      <th>57</th>\n",
       "      <td>57</td>\n",
       "      <td>2015</td>\n",
       "      <td>\"The coming of the eSIM | VentureBeat\"</td>\n",
       "      <td>\"https://venturebeat.com/2015/10/25/the-coming...</td>\n",
       "      <td>\"Artificial Intelligence View All AI, ML and D...</td>\n",
       "    </tr>\n",
       "    <tr>\n",
       "      <th>156</th>\n",
       "      <td>156</td>\n",
       "      <td>2015</td>\n",
       "      <td>\"Tallis Gomes | MIT Technology Review\"</td>\n",
       "      <td>\"https://www.technologyreview.com/innovator/ta...</td>\n",
       "      <td>\"Featured Topics Newsletters Events Podcasts F...</td>\n",
       "    </tr>\n",
       "    <tr>\n",
       "      <th>158</th>\n",
       "      <td>158</td>\n",
       "      <td>2015</td>\n",
       "      <td>\"Radha Boya | MIT Technology Review\"</td>\n",
       "      <td>\"https://www.technologyreview.com/innovator/ra...</td>\n",
       "      <td>\"Featured Topics Newsletters Events Podcasts F...</td>\n",
       "    </tr>\n",
       "  </tbody>\n",
       "</table>\n",
       "</div>"
      ],
      "text/plain": [
       "      id  year                                   title  \\\n",
       "57    57  2015  \"The coming of the eSIM | VentureBeat\"   \n",
       "156  156  2015  \"Tallis Gomes | MIT Technology Review\"   \n",
       "158  158  2015    \"Radha Boya | MIT Technology Review\"   \n",
       "\n",
       "                                                   url  \\\n",
       "57   \"https://venturebeat.com/2015/10/25/the-coming...   \n",
       "156  \"https://www.technologyreview.com/innovator/ta...   \n",
       "158  \"https://www.technologyreview.com/innovator/ra...   \n",
       "\n",
       "                                                  text  \n",
       "57   \"Artificial Intelligence View All AI, ML and D...  \n",
       "156  \"Featured Topics Newsletters Events Podcasts F...  \n",
       "158  \"Featured Topics Newsletters Events Podcasts F...  "
      ]
     },
     "metadata": {},
     "output_type": "display_data"
    },
    {
     "data": {
      "text/markdown": [
       "---"
      ],
      "text/plain": [
       "<IPython.core.display.Markdown object>"
      ]
     },
     "metadata": {},
     "output_type": "display_data"
    },
    {
     "data": {
      "text/markdown": [
       "### Year: 2014"
      ],
      "text/plain": [
       "<IPython.core.display.Markdown object>"
      ]
     },
     "metadata": {},
     "output_type": "display_data"
    },
    {
     "data": {
      "text/markdown": [
       "Number of articles: 588"
      ],
      "text/plain": [
       "<IPython.core.display.Markdown object>"
      ]
     },
     "metadata": {},
     "output_type": "display_data"
    },
    {
     "data": {
      "text/html": [
       "<div>\n",
       "<style scoped>\n",
       "    .dataframe tbody tr th:only-of-type {\n",
       "        vertical-align: middle;\n",
       "    }\n",
       "\n",
       "    .dataframe tbody tr th {\n",
       "        vertical-align: top;\n",
       "    }\n",
       "\n",
       "    .dataframe thead th {\n",
       "        text-align: right;\n",
       "    }\n",
       "</style>\n",
       "<table border=\"1\" class=\"dataframe\">\n",
       "  <thead>\n",
       "    <tr style=\"text-align: right;\">\n",
       "      <th></th>\n",
       "      <th>id</th>\n",
       "      <th>year</th>\n",
       "      <th>title</th>\n",
       "      <th>url</th>\n",
       "      <th>text</th>\n",
       "    </tr>\n",
       "  </thead>\n",
       "  <tbody>\n",
       "    <tr>\n",
       "      <th>73</th>\n",
       "      <td>73</td>\n",
       "      <td>2014</td>\n",
       "      <td>\"Watch \"Star Wars Explained\" Answers More Star...</td>\n",
       "      <td>\"https://www.wired.com/video/watch/star-wars-s...</td>\n",
       "      <td>\"Open Navigation Menu To revisit this article,...</td>\n",
       "    </tr>\n",
       "    <tr>\n",
       "      <th>174</th>\n",
       "      <td>174</td>\n",
       "      <td>2014</td>\n",
       "      <td>\"Bill Liu | MIT Technology Review\"</td>\n",
       "      <td>\"https://www.technologyreview.com/innovator/bi...</td>\n",
       "      <td>\"Featured Topics Newsletters Events Podcasts F...</td>\n",
       "    </tr>\n",
       "    <tr>\n",
       "      <th>403</th>\n",
       "      <td>416</td>\n",
       "      <td>2014</td>\n",
       "      <td>\"Neurotechnology is here. Without laws, your b...</td>\n",
       "      <td>\"https://www.vox.com/future-perfect/2023/3/17/...</td>\n",
       "      <td>\"Vox homepage Give Give Newsletters Newsletter...</td>\n",
       "    </tr>\n",
       "  </tbody>\n",
       "</table>\n",
       "</div>"
      ],
      "text/plain": [
       "      id  year                                              title  \\\n",
       "73    73  2014  \"Watch \"Star Wars Explained\" Answers More Star...   \n",
       "174  174  2014                 \"Bill Liu | MIT Technology Review\"   \n",
       "403  416  2014  \"Neurotechnology is here. Without laws, your b...   \n",
       "\n",
       "                                                   url  \\\n",
       "73   \"https://www.wired.com/video/watch/star-wars-s...   \n",
       "174  \"https://www.technologyreview.com/innovator/bi...   \n",
       "403  \"https://www.vox.com/future-perfect/2023/3/17/...   \n",
       "\n",
       "                                                  text  \n",
       "73   \"Open Navigation Menu To revisit this article,...  \n",
       "174  \"Featured Topics Newsletters Events Podcasts F...  \n",
       "403  \"Vox homepage Give Give Newsletters Newsletter...  "
      ]
     },
     "metadata": {},
     "output_type": "display_data"
    },
    {
     "data": {
      "text/markdown": [
       "---"
      ],
      "text/plain": [
       "<IPython.core.display.Markdown object>"
      ]
     },
     "metadata": {},
     "output_type": "display_data"
    },
    {
     "data": {
      "text/markdown": [
       "### Year: 2013"
      ],
      "text/plain": [
       "<IPython.core.display.Markdown object>"
      ]
     },
     "metadata": {},
     "output_type": "display_data"
    },
    {
     "data": {
      "text/markdown": [
       "Number of articles: 124"
      ],
      "text/plain": [
       "<IPython.core.display.Markdown object>"
      ]
     },
     "metadata": {},
     "output_type": "display_data"
    },
    {
     "data": {
      "text/html": [
       "<div>\n",
       "<style scoped>\n",
       "    .dataframe tbody tr th:only-of-type {\n",
       "        vertical-align: middle;\n",
       "    }\n",
       "\n",
       "    .dataframe tbody tr th {\n",
       "        vertical-align: top;\n",
       "    }\n",
       "\n",
       "    .dataframe thead th {\n",
       "        text-align: right;\n",
       "    }\n",
       "</style>\n",
       "<table border=\"1\" class=\"dataframe\">\n",
       "  <thead>\n",
       "    <tr style=\"text-align: right;\">\n",
       "      <th></th>\n",
       "      <th>id</th>\n",
       "      <th>year</th>\n",
       "      <th>title</th>\n",
       "      <th>url</th>\n",
       "      <th>text</th>\n",
       "    </tr>\n",
       "  </thead>\n",
       "  <tbody>\n",
       "    <tr>\n",
       "      <th>1</th>\n",
       "      <td>1</td>\n",
       "      <td>2013</td>\n",
       "      <td>\"Too Much Information | MIT Technology Review\"</td>\n",
       "      <td>\"https://www.technologyreview.com/s/522661/too...</td>\n",
       "      <td>\"Featured Topics Newsletters Events Podcasts F...</td>\n",
       "    </tr>\n",
       "    <tr>\n",
       "      <th>20</th>\n",
       "      <td>20</td>\n",
       "      <td>2013</td>\n",
       "      <td>\"New Asteroid Mining Company Aims to Manufactu...</td>\n",
       "      <td>\"https://www.wired.com/2013/01/deep-space-aste...</td>\n",
       "      <td>\"Open Navigation Menu To revist this article, ...</td>\n",
       "    </tr>\n",
       "    <tr>\n",
       "      <th>740</th>\n",
       "      <td>753</td>\n",
       "      <td>2013</td>\n",
       "      <td>\"How Ray Kurzweil Will Help Google Make the Ul...</td>\n",
       "      <td>\"https://www.wired.com/business/2013/04/kurzwe...</td>\n",
       "      <td>\"Open Navigation Menu To revist this article, ...</td>\n",
       "    </tr>\n",
       "  </tbody>\n",
       "</table>\n",
       "</div>"
      ],
      "text/plain": [
       "      id  year                                              title  \\\n",
       "1      1  2013     \"Too Much Information | MIT Technology Review\"   \n",
       "20    20  2013  \"New Asteroid Mining Company Aims to Manufactu...   \n",
       "740  753  2013  \"How Ray Kurzweil Will Help Google Make the Ul...   \n",
       "\n",
       "                                                   url  \\\n",
       "1    \"https://www.technologyreview.com/s/522661/too...   \n",
       "20   \"https://www.wired.com/2013/01/deep-space-aste...   \n",
       "740  \"https://www.wired.com/business/2013/04/kurzwe...   \n",
       "\n",
       "                                                  text  \n",
       "1    \"Featured Topics Newsletters Events Podcasts F...  \n",
       "20   \"Open Navigation Menu To revist this article, ...  \n",
       "740  \"Open Navigation Menu To revist this article, ...  "
      ]
     },
     "metadata": {},
     "output_type": "display_data"
    },
    {
     "data": {
      "text/markdown": [
       "---"
      ],
      "text/plain": [
       "<IPython.core.display.Markdown object>"
      ]
     },
     "metadata": {},
     "output_type": "display_data"
    },
    {
     "data": {
      "text/markdown": [
       "### Year: 2012"
      ],
      "text/plain": [
       "<IPython.core.display.Markdown object>"
      ]
     },
     "metadata": {},
     "output_type": "display_data"
    },
    {
     "data": {
      "text/markdown": [
       "Number of articles: 141"
      ],
      "text/plain": [
       "<IPython.core.display.Markdown object>"
      ]
     },
     "metadata": {},
     "output_type": "display_data"
    },
    {
     "data": {
      "text/html": [
       "<div>\n",
       "<style scoped>\n",
       "    .dataframe tbody tr th:only-of-type {\n",
       "        vertical-align: middle;\n",
       "    }\n",
       "\n",
       "    .dataframe tbody tr th {\n",
       "        vertical-align: top;\n",
       "    }\n",
       "\n",
       "    .dataframe thead th {\n",
       "        text-align: right;\n",
       "    }\n",
       "</style>\n",
       "<table border=\"1\" class=\"dataframe\">\n",
       "  <thead>\n",
       "    <tr style=\"text-align: right;\">\n",
       "      <th></th>\n",
       "      <th>id</th>\n",
       "      <th>year</th>\n",
       "      <th>title</th>\n",
       "      <th>url</th>\n",
       "      <th>text</th>\n",
       "    </tr>\n",
       "  </thead>\n",
       "  <tbody>\n",
       "    <tr>\n",
       "      <th>107</th>\n",
       "      <td>107</td>\n",
       "      <td>2012</td>\n",
       "      <td>\"Review: Sony PlayStation Vita | WIRED\"</td>\n",
       "      <td>\"https://www.wired.com/2012/01/sony-playstatio...</td>\n",
       "      <td>\"Open Navigation Menu To revisit this article,...</td>\n",
       "    </tr>\n",
       "    <tr>\n",
       "      <th>503</th>\n",
       "      <td>516</td>\n",
       "      <td>2012</td>\n",
       "      <td>\"Report: US and Israel Behind Flame Espionage ...</td>\n",
       "      <td>\"https://www.wired.com/2012/06/us-and-israel-b...</td>\n",
       "      <td>\"Open Navigation Menu To revist this article, ...</td>\n",
       "    </tr>\n",
       "    <tr>\n",
       "      <th>533</th>\n",
       "      <td>546</td>\n",
       "      <td>2012</td>\n",
       "      <td>\"Better Than Human: Why Robots Will — And Must...</td>\n",
       "      <td>\"https://www.wired.com/2012/12/ff-robots-will-...</td>\n",
       "      <td>\"Open Navigation Menu To revist this article, ...</td>\n",
       "    </tr>\n",
       "  </tbody>\n",
       "</table>\n",
       "</div>"
      ],
      "text/plain": [
       "      id  year                                              title  \\\n",
       "107  107  2012            \"Review: Sony PlayStation Vita | WIRED\"   \n",
       "503  516  2012  \"Report: US and Israel Behind Flame Espionage ...   \n",
       "533  546  2012  \"Better Than Human: Why Robots Will — And Must...   \n",
       "\n",
       "                                                   url  \\\n",
       "107  \"https://www.wired.com/2012/01/sony-playstatio...   \n",
       "503  \"https://www.wired.com/2012/06/us-and-israel-b...   \n",
       "533  \"https://www.wired.com/2012/12/ff-robots-will-...   \n",
       "\n",
       "                                                  text  \n",
       "107  \"Open Navigation Menu To revisit this article,...  \n",
       "503  \"Open Navigation Menu To revist this article, ...  \n",
       "533  \"Open Navigation Menu To revist this article, ...  "
      ]
     },
     "metadata": {},
     "output_type": "display_data"
    },
    {
     "data": {
      "text/markdown": [
       "---"
      ],
      "text/plain": [
       "<IPython.core.display.Markdown object>"
      ]
     },
     "metadata": {},
     "output_type": "display_data"
    },
    {
     "data": {
      "text/markdown": [
       "### Year: 2011"
      ],
      "text/plain": [
       "<IPython.core.display.Markdown object>"
      ]
     },
     "metadata": {},
     "output_type": "display_data"
    },
    {
     "data": {
      "text/markdown": [
       "Number of articles: 52"
      ],
      "text/plain": [
       "<IPython.core.display.Markdown object>"
      ]
     },
     "metadata": {},
     "output_type": "display_data"
    },
    {
     "data": {
      "text/html": [
       "<div>\n",
       "<style scoped>\n",
       "    .dataframe tbody tr th:only-of-type {\n",
       "        vertical-align: middle;\n",
       "    }\n",
       "\n",
       "    .dataframe tbody tr th {\n",
       "        vertical-align: top;\n",
       "    }\n",
       "\n",
       "    .dataframe thead th {\n",
       "        text-align: right;\n",
       "    }\n",
       "</style>\n",
       "<table border=\"1\" class=\"dataframe\">\n",
       "  <thead>\n",
       "    <tr style=\"text-align: right;\">\n",
       "      <th></th>\n",
       "      <th>id</th>\n",
       "      <th>year</th>\n",
       "      <th>title</th>\n",
       "      <th>url</th>\n",
       "      <th>text</th>\n",
       "    </tr>\n",
       "  </thead>\n",
       "  <tbody>\n",
       "    <tr>\n",
       "      <th>61</th>\n",
       "      <td>61</td>\n",
       "      <td>2011</td>\n",
       "      <td>\"The Untold Story of Magic Leap, the World's M...</td>\n",
       "      <td>\"https://www.wired.com/2016/04/magic-leap-vr\"</td>\n",
       "      <td>\"Hyper Vision The worlds hottest startup isn...</td>\n",
       "    </tr>\n",
       "    <tr>\n",
       "      <th>138</th>\n",
       "      <td>138</td>\n",
       "      <td>2011</td>\n",
       "      <td>\"What Bitcoin Is, and Why It Matters | MIT Tec...</td>\n",
       "      <td>\"https://www.technologyreview.com/s/424091/wha...</td>\n",
       "      <td>\"Featured Topics Newsletters Events Podcasts F...</td>\n",
       "    </tr>\n",
       "    <tr>\n",
       "      <th>192</th>\n",
       "      <td>192</td>\n",
       "      <td>2011</td>\n",
       "      <td>\"The Rise and Fall of Bitcoin | WIRED\"</td>\n",
       "      <td>\"https://www.wired.com/2011/11/mf-bitcoin\"</td>\n",
       "      <td>\"Open Navigation Menu To revist this article, ...</td>\n",
       "    </tr>\n",
       "  </tbody>\n",
       "</table>\n",
       "</div>"
      ],
      "text/plain": [
       "      id  year                                              title  \\\n",
       "61    61  2011  \"The Untold Story of Magic Leap, the World's M...   \n",
       "138  138  2011  \"What Bitcoin Is, and Why It Matters | MIT Tec...   \n",
       "192  192  2011             \"The Rise and Fall of Bitcoin | WIRED\"   \n",
       "\n",
       "                                                   url  \\\n",
       "61       \"https://www.wired.com/2016/04/magic-leap-vr\"   \n",
       "138  \"https://www.technologyreview.com/s/424091/wha...   \n",
       "192         \"https://www.wired.com/2011/11/mf-bitcoin\"   \n",
       "\n",
       "                                                  text  \n",
       "61   \"Hyper Vision The worlds hottest startup isn...  \n",
       "138  \"Featured Topics Newsletters Events Podcasts F...  \n",
       "192  \"Open Navigation Menu To revist this article, ...  "
      ]
     },
     "metadata": {},
     "output_type": "display_data"
    },
    {
     "data": {
      "text/markdown": [
       "---"
      ],
      "text/plain": [
       "<IPython.core.display.Markdown object>"
      ]
     },
     "metadata": {},
     "output_type": "display_data"
    },
    {
     "data": {
      "text/markdown": [
       "### Year: 2010"
      ],
      "text/plain": [
       "<IPython.core.display.Markdown object>"
      ]
     },
     "metadata": {},
     "output_type": "display_data"
    },
    {
     "data": {
      "text/markdown": [
       "Number of articles: 31"
      ],
      "text/plain": [
       "<IPython.core.display.Markdown object>"
      ]
     },
     "metadata": {},
     "output_type": "display_data"
    },
    {
     "data": {
      "text/html": [
       "<div>\n",
       "<style scoped>\n",
       "    .dataframe tbody tr th:only-of-type {\n",
       "        vertical-align: middle;\n",
       "    }\n",
       "\n",
       "    .dataframe tbody tr th {\n",
       "        vertical-align: top;\n",
       "    }\n",
       "\n",
       "    .dataframe thead th {\n",
       "        text-align: right;\n",
       "    }\n",
       "</style>\n",
       "<table border=\"1\" class=\"dataframe\">\n",
       "  <thead>\n",
       "    <tr style=\"text-align: right;\">\n",
       "      <th></th>\n",
       "      <th>id</th>\n",
       "      <th>year</th>\n",
       "      <th>title</th>\n",
       "      <th>url</th>\n",
       "      <th>text</th>\n",
       "    </tr>\n",
       "  </thead>\n",
       "  <tbody>\n",
       "    <tr>\n",
       "      <th>715</th>\n",
       "      <td>728</td>\n",
       "      <td>2010</td>\n",
       "      <td>\"Satya Nadella's Got a Plan to Make You Care A...</td>\n",
       "      <td>\"https://www.wired.com/2015/01/microsoft-nadella\"</td>\n",
       "      <td>\"subscribe SCROLL DOWN Satya Nadella’s Got a P...</td>\n",
       "    </tr>\n",
       "    <tr>\n",
       "      <th>854</th>\n",
       "      <td>867</td>\n",
       "      <td>2010</td>\n",
       "      <td>\"January 1997: CES Happens in Vegas, Stays in ...</td>\n",
       "      <td>\"https://www.wired.com/thisdayintech/2010/01/0...</td>\n",
       "      <td>\"Open Navigation Menu To revist this article, ...</td>\n",
       "    </tr>\n",
       "    <tr>\n",
       "      <th>7416</th>\n",
       "      <td>7464</td>\n",
       "      <td>2010</td>\n",
       "      <td>\"Watch Why The Average Human Couldn't Drive An...</td>\n",
       "      <td>\"https://www.wired.com/video/watch/wired-news-...</td>\n",
       "      <td>\"Open Navigation Menu To revisit this article,...</td>\n",
       "    </tr>\n",
       "  </tbody>\n",
       "</table>\n",
       "</div>"
      ],
      "text/plain": [
       "        id  year                                              title  \\\n",
       "715    728  2010  \"Satya Nadella's Got a Plan to Make You Care A...   \n",
       "854    867  2010  \"January 1997: CES Happens in Vegas, Stays in ...   \n",
       "7416  7464  2010  \"Watch Why The Average Human Couldn't Drive An...   \n",
       "\n",
       "                                                    url  \\\n",
       "715   \"https://www.wired.com/2015/01/microsoft-nadella\"   \n",
       "854   \"https://www.wired.com/thisdayintech/2010/01/0...   \n",
       "7416  \"https://www.wired.com/video/watch/wired-news-...   \n",
       "\n",
       "                                                   text  \n",
       "715   \"subscribe SCROLL DOWN Satya Nadella’s Got a P...  \n",
       "854   \"Open Navigation Menu To revist this article, ...  \n",
       "7416  \"Open Navigation Menu To revisit this article,...  "
      ]
     },
     "metadata": {},
     "output_type": "display_data"
    },
    {
     "data": {
      "text/markdown": [
       "---"
      ],
      "text/plain": [
       "<IPython.core.display.Markdown object>"
      ]
     },
     "metadata": {},
     "output_type": "display_data"
    },
    {
     "data": {
      "text/markdown": [
       "### Year: 2009"
      ],
      "text/plain": [
       "<IPython.core.display.Markdown object>"
      ]
     },
     "metadata": {},
     "output_type": "display_data"
    },
    {
     "data": {
      "text/markdown": [
       "Number of articles: 20"
      ],
      "text/plain": [
       "<IPython.core.display.Markdown object>"
      ]
     },
     "metadata": {},
     "output_type": "display_data"
    },
    {
     "data": {
      "text/html": [
       "<div>\n",
       "<style scoped>\n",
       "    .dataframe tbody tr th:only-of-type {\n",
       "        vertical-align: middle;\n",
       "    }\n",
       "\n",
       "    .dataframe tbody tr th {\n",
       "        vertical-align: top;\n",
       "    }\n",
       "\n",
       "    .dataframe thead th {\n",
       "        text-align: right;\n",
       "    }\n",
       "</style>\n",
       "<table border=\"1\" class=\"dataframe\">\n",
       "  <thead>\n",
       "    <tr style=\"text-align: right;\">\n",
       "      <th></th>\n",
       "      <th>id</th>\n",
       "      <th>year</th>\n",
       "      <th>title</th>\n",
       "      <th>url</th>\n",
       "      <th>text</th>\n",
       "    </tr>\n",
       "  </thead>\n",
       "  <tbody>\n",
       "    <tr>\n",
       "      <th>416</th>\n",
       "      <td>429</td>\n",
       "      <td>2009</td>\n",
       "      <td>\"What is artificial intelligence? Your AI ques...</td>\n",
       "      <td>\"https://www.vox.com/future-perfect/2018/12/21...</td>\n",
       "      <td>\"Vox homepage Give Give Newsletters Newsletter...</td>\n",
       "    </tr>\n",
       "    <tr>\n",
       "      <th>443</th>\n",
       "      <td>456</td>\n",
       "      <td>2009</td>\n",
       "      <td>\"How to understand AI: it’s a tragedy of the c...</td>\n",
       "      <td>\"https://www.vox.com/future-perfect/2023/7/7/2...</td>\n",
       "      <td>\"Vox homepage Give Give Newsletters Newsletter...</td>\n",
       "    </tr>\n",
       "    <tr>\n",
       "      <th>445</th>\n",
       "      <td>458</td>\n",
       "      <td>2009</td>\n",
       "      <td>\"The AI-nuclear weapons analogy, explained - Vox\"</td>\n",
       "      <td>\"https://www.vox.com/future-perfect/2023/6/29/...</td>\n",
       "      <td>\"Vox homepage Give Give Newsletters Newsletter...</td>\n",
       "    </tr>\n",
       "  </tbody>\n",
       "</table>\n",
       "</div>"
      ],
      "text/plain": [
       "      id  year                                              title  \\\n",
       "416  429  2009  \"What is artificial intelligence? Your AI ques...   \n",
       "443  456  2009  \"How to understand AI: it’s a tragedy of the c...   \n",
       "445  458  2009  \"The AI-nuclear weapons analogy, explained - Vox\"   \n",
       "\n",
       "                                                   url  \\\n",
       "416  \"https://www.vox.com/future-perfect/2018/12/21...   \n",
       "443  \"https://www.vox.com/future-perfect/2023/7/7/2...   \n",
       "445  \"https://www.vox.com/future-perfect/2023/6/29/...   \n",
       "\n",
       "                                                  text  \n",
       "416  \"Vox homepage Give Give Newsletters Newsletter...  \n",
       "443  \"Vox homepage Give Give Newsletters Newsletter...  \n",
       "445  \"Vox homepage Give Give Newsletters Newsletter...  "
      ]
     },
     "metadata": {},
     "output_type": "display_data"
    },
    {
     "data": {
      "text/markdown": [
       "---"
      ],
      "text/plain": [
       "<IPython.core.display.Markdown object>"
      ]
     },
     "metadata": {},
     "output_type": "display_data"
    },
    {
     "data": {
      "text/markdown": [
       "### Year: 2008"
      ],
      "text/plain": [
       "<IPython.core.display.Markdown object>"
      ]
     },
     "metadata": {},
     "output_type": "display_data"
    },
    {
     "data": {
      "text/markdown": [
       "Number of articles: 17"
      ],
      "text/plain": [
       "<IPython.core.display.Markdown object>"
      ]
     },
     "metadata": {},
     "output_type": "display_data"
    },
    {
     "data": {
      "text/html": [
       "<div>\n",
       "<style scoped>\n",
       "    .dataframe tbody tr th:only-of-type {\n",
       "        vertical-align: middle;\n",
       "    }\n",
       "\n",
       "    .dataframe tbody tr th {\n",
       "        vertical-align: top;\n",
       "    }\n",
       "\n",
       "    .dataframe thead th {\n",
       "        text-align: right;\n",
       "    }\n",
       "</style>\n",
       "<table border=\"1\" class=\"dataframe\">\n",
       "  <thead>\n",
       "    <tr style=\"text-align: right;\">\n",
       "      <th></th>\n",
       "      <th>id</th>\n",
       "      <th>year</th>\n",
       "      <th>title</th>\n",
       "      <th>url</th>\n",
       "      <th>text</th>\n",
       "    </tr>\n",
       "  </thead>\n",
       "  <tbody>\n",
       "    <tr>\n",
       "      <th>456</th>\n",
       "      <td>469</td>\n",
       "      <td>2008</td>\n",
       "      <td>\"AI-generated video like “Balenciaga Harry Pot...</td>\n",
       "      <td>\"https://www.vox.com/culture/23678708/ai-art-b...</td>\n",
       "      <td>\"Vox homepage Give Give Newsletters Newsletter...</td>\n",
       "    </tr>\n",
       "    <tr>\n",
       "      <th>695</th>\n",
       "      <td>708</td>\n",
       "      <td>2008</td>\n",
       "      <td>\"Is Google Making Us Stupid? - The Atlantic\"</td>\n",
       "      <td>\"https://www.theatlantic.com/magazine/archive/...</td>\n",
       "      <td>\"Site Navigation The Atlantic Popular Latest N...</td>\n",
       "    </tr>\n",
       "    <tr>\n",
       "      <th>762</th>\n",
       "      <td>775</td>\n",
       "      <td>2008</td>\n",
       "      <td>\"Watch WIRED25: Google CEO Sundar Pichai on Do...</td>\n",
       "      <td>\"https://www.wired.com/video/watch/google-ceo-...</td>\n",
       "      <td>\"Open Navigation Menu To revisit this article,...</td>\n",
       "    </tr>\n",
       "  </tbody>\n",
       "</table>\n",
       "</div>"
      ],
      "text/plain": [
       "      id  year                                              title  \\\n",
       "456  469  2008  \"AI-generated video like “Balenciaga Harry Pot...   \n",
       "695  708  2008       \"Is Google Making Us Stupid? - The Atlantic\"   \n",
       "762  775  2008  \"Watch WIRED25: Google CEO Sundar Pichai on Do...   \n",
       "\n",
       "                                                   url  \\\n",
       "456  \"https://www.vox.com/culture/23678708/ai-art-b...   \n",
       "695  \"https://www.theatlantic.com/magazine/archive/...   \n",
       "762  \"https://www.wired.com/video/watch/google-ceo-...   \n",
       "\n",
       "                                                  text  \n",
       "456  \"Vox homepage Give Give Newsletters Newsletter...  \n",
       "695  \"Site Navigation The Atlantic Popular Latest N...  \n",
       "762  \"Open Navigation Menu To revisit this article,...  "
      ]
     },
     "metadata": {},
     "output_type": "display_data"
    },
    {
     "data": {
      "text/markdown": [
       "---"
      ],
      "text/plain": [
       "<IPython.core.display.Markdown object>"
      ]
     },
     "metadata": {},
     "output_type": "display_data"
    },
    {
     "data": {
      "text/markdown": [
       "### Year: 2007"
      ],
      "text/plain": [
       "<IPython.core.display.Markdown object>"
      ]
     },
     "metadata": {},
     "output_type": "display_data"
    },
    {
     "data": {
      "text/markdown": [
       "Number of articles: 26"
      ],
      "text/plain": [
       "<IPython.core.display.Markdown object>"
      ]
     },
     "metadata": {},
     "output_type": "display_data"
    },
    {
     "data": {
      "text/html": [
       "<div>\n",
       "<style scoped>\n",
       "    .dataframe tbody tr th:only-of-type {\n",
       "        vertical-align: middle;\n",
       "    }\n",
       "\n",
       "    .dataframe tbody tr th {\n",
       "        vertical-align: top;\n",
       "    }\n",
       "\n",
       "    .dataframe thead th {\n",
       "        text-align: right;\n",
       "    }\n",
       "</style>\n",
       "<table border=\"1\" class=\"dataframe\">\n",
       "  <thead>\n",
       "    <tr style=\"text-align: right;\">\n",
       "      <th></th>\n",
       "      <th>id</th>\n",
       "      <th>year</th>\n",
       "      <th>title</th>\n",
       "      <th>url</th>\n",
       "      <th>text</th>\n",
       "    </tr>\n",
       "  </thead>\n",
       "  <tbody>\n",
       "    <tr>\n",
       "      <th>455</th>\n",
       "      <td>468</td>\n",
       "      <td>2007</td>\n",
       "      <td>\"WGA strike: A Hollywood writers strike needs ...</td>\n",
       "      <td>\"https://www.vox.com/culture/23700519/writers-...</td>\n",
       "      <td>\"Vox homepage Give Give Newsletters Newsletter...</td>\n",
       "    </tr>\n",
       "    <tr>\n",
       "      <th>951</th>\n",
       "      <td>964</td>\n",
       "      <td>2007</td>\n",
       "      <td>\"Donald Michie | Science | The Guardian\"</td>\n",
       "      <td>\"https://www.theguardian.com/science/2007/jul/...</td>\n",
       "      <td>\"US edition US edition UK edition Australia ed...</td>\n",
       "    </tr>\n",
       "    <tr>\n",
       "      <th>2158</th>\n",
       "      <td>2171</td>\n",
       "      <td>2007</td>\n",
       "      <td>\"Sequencing in a Flash | MIT Technology Review\"</td>\n",
       "      <td>\"https://www.technologyreview.com/2007/05/01/2...</td>\n",
       "      <td>\"Featured Topics Newsletters Events Podcasts F...</td>\n",
       "    </tr>\n",
       "  </tbody>\n",
       "</table>\n",
       "</div>"
      ],
      "text/plain": [
       "        id  year                                              title  \\\n",
       "455    468  2007  \"WGA strike: A Hollywood writers strike needs ...   \n",
       "951    964  2007           \"Donald Michie | Science | The Guardian\"   \n",
       "2158  2171  2007    \"Sequencing in a Flash | MIT Technology Review\"   \n",
       "\n",
       "                                                    url  \\\n",
       "455   \"https://www.vox.com/culture/23700519/writers-...   \n",
       "951   \"https://www.theguardian.com/science/2007/jul/...   \n",
       "2158  \"https://www.technologyreview.com/2007/05/01/2...   \n",
       "\n",
       "                                                   text  \n",
       "455   \"Vox homepage Give Give Newsletters Newsletter...  \n",
       "951   \"US edition US edition UK edition Australia ed...  \n",
       "2158  \"Featured Topics Newsletters Events Podcasts F...  "
      ]
     },
     "metadata": {},
     "output_type": "display_data"
    },
    {
     "data": {
      "text/markdown": [
       "---"
      ],
      "text/plain": [
       "<IPython.core.display.Markdown object>"
      ]
     },
     "metadata": {},
     "output_type": "display_data"
    },
    {
     "data": {
      "text/markdown": [
       "### Year: 2006"
      ],
      "text/plain": [
       "<IPython.core.display.Markdown object>"
      ]
     },
     "metadata": {},
     "output_type": "display_data"
    },
    {
     "data": {
      "text/markdown": [
       "Number of articles: 14"
      ],
      "text/plain": [
       "<IPython.core.display.Markdown object>"
      ]
     },
     "metadata": {},
     "output_type": "display_data"
    },
    {
     "data": {
      "text/html": [
       "<div>\n",
       "<style scoped>\n",
       "    .dataframe tbody tr th:only-of-type {\n",
       "        vertical-align: middle;\n",
       "    }\n",
       "\n",
       "    .dataframe tbody tr th {\n",
       "        vertical-align: top;\n",
       "    }\n",
       "\n",
       "    .dataframe thead th {\n",
       "        text-align: right;\n",
       "    }\n",
       "</style>\n",
       "<table border=\"1\" class=\"dataframe\">\n",
       "  <thead>\n",
       "    <tr style=\"text-align: right;\">\n",
       "      <th></th>\n",
       "      <th>id</th>\n",
       "      <th>year</th>\n",
       "      <th>title</th>\n",
       "      <th>url</th>\n",
       "      <th>text</th>\n",
       "    </tr>\n",
       "  </thead>\n",
       "  <tbody>\n",
       "    <tr>\n",
       "      <th>123</th>\n",
       "      <td>123</td>\n",
       "      <td>2006</td>\n",
       "      <td>\"Privacy Debacle Hall of Fame | WIRED\"</td>\n",
       "      <td>\"https://www.wired.com/2006/08/privacy-debacle...</td>\n",
       "      <td>\"Open Navigation Menu To revist this article, ...</td>\n",
       "    </tr>\n",
       "    <tr>\n",
       "      <th>131</th>\n",
       "      <td>131</td>\n",
       "      <td>2006</td>\n",
       "      <td>\"The Resurrection of Al Gore | WIRED\"</td>\n",
       "      <td>\"https://www.wired.com/2006/05/gore-2\"</td>\n",
       "      <td>\"Open Navigation Menu To revist this article, ...</td>\n",
       "    </tr>\n",
       "    <tr>\n",
       "      <th>591</th>\n",
       "      <td>604</td>\n",
       "      <td>2006</td>\n",
       "      <td>\"Vinge’s Singular Vision | MIT Technology Review\"</td>\n",
       "      <td>\"https://www.technologyreview.com/2006/07/01/2...</td>\n",
       "      <td>\"Featured Topics Newsletters Events Podcasts F...</td>\n",
       "    </tr>\n",
       "  </tbody>\n",
       "</table>\n",
       "</div>"
      ],
      "text/plain": [
       "      id  year                                              title  \\\n",
       "123  123  2006             \"Privacy Debacle Hall of Fame | WIRED\"   \n",
       "131  131  2006              \"The Resurrection of Al Gore | WIRED\"   \n",
       "591  604  2006  \"Vinge’s Singular Vision | MIT Technology Review\"   \n",
       "\n",
       "                                                   url  \\\n",
       "123  \"https://www.wired.com/2006/08/privacy-debacle...   \n",
       "131             \"https://www.wired.com/2006/05/gore-2\"   \n",
       "591  \"https://www.technologyreview.com/2006/07/01/2...   \n",
       "\n",
       "                                                  text  \n",
       "123  \"Open Navigation Menu To revist this article, ...  \n",
       "131  \"Open Navigation Menu To revist this article, ...  \n",
       "591  \"Featured Topics Newsletters Events Podcasts F...  "
      ]
     },
     "metadata": {},
     "output_type": "display_data"
    },
    {
     "data": {
      "text/markdown": [
       "---"
      ],
      "text/plain": [
       "<IPython.core.display.Markdown object>"
      ]
     },
     "metadata": {},
     "output_type": "display_data"
    },
    {
     "data": {
      "text/markdown": [
       "### Year: 2005"
      ],
      "text/plain": [
       "<IPython.core.display.Markdown object>"
      ]
     },
     "metadata": {},
     "output_type": "display_data"
    },
    {
     "data": {
      "text/markdown": [
       "Number of articles: 5"
      ],
      "text/plain": [
       "<IPython.core.display.Markdown object>"
      ]
     },
     "metadata": {},
     "output_type": "display_data"
    },
    {
     "data": {
      "text/html": [
       "<div>\n",
       "<style scoped>\n",
       "    .dataframe tbody tr th:only-of-type {\n",
       "        vertical-align: middle;\n",
       "    }\n",
       "\n",
       "    .dataframe tbody tr th {\n",
       "        vertical-align: top;\n",
       "    }\n",
       "\n",
       "    .dataframe thead th {\n",
       "        text-align: right;\n",
       "    }\n",
       "</style>\n",
       "<table border=\"1\" class=\"dataframe\">\n",
       "  <thead>\n",
       "    <tr style=\"text-align: right;\">\n",
       "      <th></th>\n",
       "      <th>id</th>\n",
       "      <th>year</th>\n",
       "      <th>title</th>\n",
       "      <th>url</th>\n",
       "      <th>text</th>\n",
       "    </tr>\n",
       "  </thead>\n",
       "  <tbody>\n",
       "    <tr>\n",
       "      <th>1897</th>\n",
       "      <td>1910</td>\n",
       "      <td>2005</td>\n",
       "      <td>\"Implanting Hope | MIT Technology Review\"</td>\n",
       "      <td>\"https://www.technologyreview.com/s/403761/imp...</td>\n",
       "      <td>\"Featured Topics Newsletters Events Podcasts F...</td>\n",
       "    </tr>\n",
       "    <tr>\n",
       "      <th>9268</th>\n",
       "      <td>9316</td>\n",
       "      <td>2005</td>\n",
       "      <td>\"Mind Control | WIRED\"</td>\n",
       "      <td>\"https://www.wired.com/2005/03/brain-3\"</td>\n",
       "      <td>\"Open Navigation Menu To revist this article, ...</td>\n",
       "    </tr>\n",
       "    <tr>\n",
       "      <th>9274</th>\n",
       "      <td>9322</td>\n",
       "      <td>2005</td>\n",
       "      <td>\"Implanting Hope | MIT Technology Review\"</td>\n",
       "      <td>\"https://www.technologyreview.com/2005/03/01/2...</td>\n",
       "      <td>\"Featured Topics Newsletters Events Podcasts F...</td>\n",
       "    </tr>\n",
       "  </tbody>\n",
       "</table>\n",
       "</div>"
      ],
      "text/plain": [
       "        id  year                                      title  \\\n",
       "1897  1910  2005  \"Implanting Hope | MIT Technology Review\"   \n",
       "9268  9316  2005                     \"Mind Control | WIRED\"   \n",
       "9274  9322  2005  \"Implanting Hope | MIT Technology Review\"   \n",
       "\n",
       "                                                    url  \\\n",
       "1897  \"https://www.technologyreview.com/s/403761/imp...   \n",
       "9268            \"https://www.wired.com/2005/03/brain-3\"   \n",
       "9274  \"https://www.technologyreview.com/2005/03/01/2...   \n",
       "\n",
       "                                                   text  \n",
       "1897  \"Featured Topics Newsletters Events Podcasts F...  \n",
       "9268  \"Open Navigation Menu To revist this article, ...  \n",
       "9274  \"Featured Topics Newsletters Events Podcasts F...  "
      ]
     },
     "metadata": {},
     "output_type": "display_data"
    },
    {
     "data": {
      "text/markdown": [
       "---"
      ],
      "text/plain": [
       "<IPython.core.display.Markdown object>"
      ]
     },
     "metadata": {},
     "output_type": "display_data"
    },
    {
     "data": {
      "text/markdown": [
       "### Year: 2004"
      ],
      "text/plain": [
       "<IPython.core.display.Markdown object>"
      ]
     },
     "metadata": {},
     "output_type": "display_data"
    },
    {
     "data": {
      "text/markdown": [
       "Number of articles: 9"
      ],
      "text/plain": [
       "<IPython.core.display.Markdown object>"
      ]
     },
     "metadata": {},
     "output_type": "display_data"
    },
    {
     "data": {
      "text/html": [
       "<div>\n",
       "<style scoped>\n",
       "    .dataframe tbody tr th:only-of-type {\n",
       "        vertical-align: middle;\n",
       "    }\n",
       "\n",
       "    .dataframe tbody tr th {\n",
       "        vertical-align: top;\n",
       "    }\n",
       "\n",
       "    .dataframe thead th {\n",
       "        text-align: right;\n",
       "    }\n",
       "</style>\n",
       "<table border=\"1\" class=\"dataframe\">\n",
       "  <thead>\n",
       "    <tr style=\"text-align: right;\">\n",
       "      <th></th>\n",
       "      <th>id</th>\n",
       "      <th>year</th>\n",
       "      <th>title</th>\n",
       "      <th>url</th>\n",
       "      <th>text</th>\n",
       "    </tr>\n",
       "  </thead>\n",
       "  <tbody>\n",
       "    <tr>\n",
       "      <th>388</th>\n",
       "      <td>401</td>\n",
       "      <td>2004</td>\n",
       "      <td>\"Shoshana Zuboff on Kara Swisher podcast: Goog...</td>\n",
       "      <td>\"https://www.vox.com/2019/2/20/18232469/shosha...</td>\n",
       "      <td>\"Vox homepage Give Give Newsletters Newsletter...</td>\n",
       "    </tr>\n",
       "    <tr>\n",
       "      <th>408</th>\n",
       "      <td>421</td>\n",
       "      <td>2004</td>\n",
       "      <td>\"What is biohacking? The new “science” of opti...</td>\n",
       "      <td>\"https://www.vox.com/future-perfect/2019/6/25/...</td>\n",
       "      <td>\"We have a request Vox's journalism is free, b...</td>\n",
       "    </tr>\n",
       "    <tr>\n",
       "      <th>535</th>\n",
       "      <td>548</td>\n",
       "      <td>2004</td>\n",
       "      <td>\"Craig Venter's Epic Voyage to Redefine the Or...</td>\n",
       "      <td>\"https://www.wired.com/2004/08/venter\"</td>\n",
       "      <td>\"Open Navigation Menu To revist this article, ...</td>\n",
       "    </tr>\n",
       "  </tbody>\n",
       "</table>\n",
       "</div>"
      ],
      "text/plain": [
       "      id  year                                              title  \\\n",
       "388  401  2004  \"Shoshana Zuboff on Kara Swisher podcast: Goog...   \n",
       "408  421  2004  \"What is biohacking? The new “science” of opti...   \n",
       "535  548  2004  \"Craig Venter's Epic Voyage to Redefine the Or...   \n",
       "\n",
       "                                                   url  \\\n",
       "388  \"https://www.vox.com/2019/2/20/18232469/shosha...   \n",
       "408  \"https://www.vox.com/future-perfect/2019/6/25/...   \n",
       "535             \"https://www.wired.com/2004/08/venter\"   \n",
       "\n",
       "                                                  text  \n",
       "388  \"Vox homepage Give Give Newsletters Newsletter...  \n",
       "408  \"We have a request Vox's journalism is free, b...  \n",
       "535  \"Open Navigation Menu To revist this article, ...  "
      ]
     },
     "metadata": {},
     "output_type": "display_data"
    },
    {
     "data": {
      "text/markdown": [
       "---"
      ],
      "text/plain": [
       "<IPython.core.display.Markdown object>"
      ]
     },
     "metadata": {},
     "output_type": "display_data"
    },
    {
     "data": {
      "text/markdown": [
       "### Year: 2003"
      ],
      "text/plain": [
       "<IPython.core.display.Markdown object>"
      ]
     },
     "metadata": {},
     "output_type": "display_data"
    },
    {
     "data": {
      "text/markdown": [
       "Number of articles: 1"
      ],
      "text/plain": [
       "<IPython.core.display.Markdown object>"
      ]
     },
     "metadata": {},
     "output_type": "display_data"
    },
    {
     "data": {
      "text/html": [
       "<div>\n",
       "<style scoped>\n",
       "    .dataframe tbody tr th:only-of-type {\n",
       "        vertical-align: middle;\n",
       "    }\n",
       "\n",
       "    .dataframe tbody tr th {\n",
       "        vertical-align: top;\n",
       "    }\n",
       "\n",
       "    .dataframe thead th {\n",
       "        text-align: right;\n",
       "    }\n",
       "</style>\n",
       "<table border=\"1\" class=\"dataframe\">\n",
       "  <thead>\n",
       "    <tr style=\"text-align: right;\">\n",
       "      <th></th>\n",
       "      <th>id</th>\n",
       "      <th>year</th>\n",
       "      <th>title</th>\n",
       "      <th>url</th>\n",
       "      <th>text</th>\n",
       "    </tr>\n",
       "  </thead>\n",
       "  <tbody>\n",
       "    <tr>\n",
       "      <th>884</th>\n",
       "      <td>897</td>\n",
       "      <td>2003</td>\n",
       "      <td>\"Microsoft Sued for Weak Security | WIRED\"</td>\n",
       "      <td>\"https://www.wired.com/2003/10/microsoft-sued-...</td>\n",
       "      <td>\"Open Navigation Menu To revist this article, ...</td>\n",
       "    </tr>\n",
       "  </tbody>\n",
       "</table>\n",
       "</div>"
      ],
      "text/plain": [
       "      id  year                                       title  \\\n",
       "884  897  2003  \"Microsoft Sued for Weak Security | WIRED\"   \n",
       "\n",
       "                                                   url  \\\n",
       "884  \"https://www.wired.com/2003/10/microsoft-sued-...   \n",
       "\n",
       "                                                  text  \n",
       "884  \"Open Navigation Menu To revist this article, ...  "
      ]
     },
     "metadata": {},
     "output_type": "display_data"
    },
    {
     "data": {
      "text/markdown": [
       "---"
      ],
      "text/plain": [
       "<IPython.core.display.Markdown object>"
      ]
     },
     "metadata": {},
     "output_type": "display_data"
    },
    {
     "data": {
      "text/markdown": [
       "### Year: 2002"
      ],
      "text/plain": [
       "<IPython.core.display.Markdown object>"
      ]
     },
     "metadata": {},
     "output_type": "display_data"
    },
    {
     "data": {
      "text/markdown": [
       "Number of articles: 15"
      ],
      "text/plain": [
       "<IPython.core.display.Markdown object>"
      ]
     },
     "metadata": {},
     "output_type": "display_data"
    },
    {
     "data": {
      "text/html": [
       "<div>\n",
       "<style scoped>\n",
       "    .dataframe tbody tr th:only-of-type {\n",
       "        vertical-align: middle;\n",
       "    }\n",
       "\n",
       "    .dataframe tbody tr th {\n",
       "        vertical-align: top;\n",
       "    }\n",
       "\n",
       "    .dataframe thead th {\n",
       "        text-align: right;\n",
       "    }\n",
       "</style>\n",
       "<table border=\"1\" class=\"dataframe\">\n",
       "  <thead>\n",
       "    <tr style=\"text-align: right;\">\n",
       "      <th></th>\n",
       "      <th>id</th>\n",
       "      <th>year</th>\n",
       "      <th>title</th>\n",
       "      <th>url</th>\n",
       "      <th>text</th>\n",
       "    </tr>\n",
       "  </thead>\n",
       "  <tbody>\n",
       "    <tr>\n",
       "      <th>383</th>\n",
       "      <td>396</td>\n",
       "      <td>2002</td>\n",
       "      <td>\"Vox Archives - Innovation - Page 1\"</td>\n",
       "      <td>\"https://www.vox.com/innovation/archives\"</td>\n",
       "      <td>\"Vox homepage Give Give Newsletters Newsletter...</td>\n",
       "    </tr>\n",
       "    <tr>\n",
       "      <th>398</th>\n",
       "      <td>411</td>\n",
       "      <td>2002</td>\n",
       "      <td>\"Vox Archives - Google - Page 1\"</td>\n",
       "      <td>\"https://www.vox.com/google/archives\"</td>\n",
       "      <td>\"Vox homepage Give Give Newsletters Newsletter...</td>\n",
       "    </tr>\n",
       "    <tr>\n",
       "      <th>459</th>\n",
       "      <td>472</td>\n",
       "      <td>2002</td>\n",
       "      <td>\"Artificial Intelligence - Vox\"</td>\n",
       "      <td>\"https://www.vox.com/artificial-intelligence\"</td>\n",
       "      <td>\"Vox homepage Give Give Newsletters Newsletter...</td>\n",
       "    </tr>\n",
       "  </tbody>\n",
       "</table>\n",
       "</div>"
      ],
      "text/plain": [
       "      id  year                                 title  \\\n",
       "383  396  2002  \"Vox Archives - Innovation - Page 1\"   \n",
       "398  411  2002      \"Vox Archives - Google - Page 1\"   \n",
       "459  472  2002       \"Artificial Intelligence - Vox\"   \n",
       "\n",
       "                                               url  \\\n",
       "383      \"https://www.vox.com/innovation/archives\"   \n",
       "398          \"https://www.vox.com/google/archives\"   \n",
       "459  \"https://www.vox.com/artificial-intelligence\"   \n",
       "\n",
       "                                                  text  \n",
       "383  \"Vox homepage Give Give Newsletters Newsletter...  \n",
       "398  \"Vox homepage Give Give Newsletters Newsletter...  \n",
       "459  \"Vox homepage Give Give Newsletters Newsletter...  "
      ]
     },
     "metadata": {},
     "output_type": "display_data"
    },
    {
     "data": {
      "text/markdown": [
       "---"
      ],
      "text/plain": [
       "<IPython.core.display.Markdown object>"
      ]
     },
     "metadata": {},
     "output_type": "display_data"
    },
    {
     "data": {
      "text/markdown": [
       "### Year: 2001"
      ],
      "text/plain": [
       "<IPython.core.display.Markdown object>"
      ]
     },
     "metadata": {},
     "output_type": "display_data"
    },
    {
     "data": {
      "text/markdown": [
       "Number of articles: 8"
      ],
      "text/plain": [
       "<IPython.core.display.Markdown object>"
      ]
     },
     "metadata": {},
     "output_type": "display_data"
    },
    {
     "data": {
      "text/html": [
       "<div>\n",
       "<style scoped>\n",
       "    .dataframe tbody tr th:only-of-type {\n",
       "        vertical-align: middle;\n",
       "    }\n",
       "\n",
       "    .dataframe tbody tr th {\n",
       "        vertical-align: top;\n",
       "    }\n",
       "\n",
       "    .dataframe thead th {\n",
       "        text-align: right;\n",
       "    }\n",
       "</style>\n",
       "<table border=\"1\" class=\"dataframe\">\n",
       "  <thead>\n",
       "    <tr style=\"text-align: right;\">\n",
       "      <th></th>\n",
       "      <th>id</th>\n",
       "      <th>year</th>\n",
       "      <th>title</th>\n",
       "      <th>url</th>\n",
       "      <th>text</th>\n",
       "    </tr>\n",
       "  </thead>\n",
       "  <tbody>\n",
       "    <tr>\n",
       "      <th>2055</th>\n",
       "      <td>2068</td>\n",
       "      <td>2001</td>\n",
       "      <td>\"The 11 Best Sci-Fi Movies You Can Stream Righ...</td>\n",
       "      <td>\"https://www.wired.com/2017/03/best-sci-fi-str...</td>\n",
       "      <td>\"Open Navigation Menu To revist this article, ...</td>\n",
       "    </tr>\n",
       "    <tr>\n",
       "      <th>6990</th>\n",
       "      <td>7038</td>\n",
       "      <td>2001</td>\n",
       "      <td>\"S | Keywords | The Guardian\"</td>\n",
       "      <td>\"https://www.theguardian.com/index/subjects/s\"</td>\n",
       "      <td>\"Account overview Billing Profile Emails &amp; mar...</td>\n",
       "    </tr>\n",
       "    <tr>\n",
       "      <th>9549</th>\n",
       "      <td>9599</td>\n",
       "      <td>2001</td>\n",
       "      <td>\"Matt Marshall, Author at VentureBeat\"</td>\n",
       "      <td>\"https://venturebeat.com/author/matt-marshall\"</td>\n",
       "      <td>\"Artificial Intelligence View All AI, ML and D...</td>\n",
       "    </tr>\n",
       "  </tbody>\n",
       "</table>\n",
       "</div>"
      ],
      "text/plain": [
       "        id  year                                              title  \\\n",
       "2055  2068  2001  \"The 11 Best Sci-Fi Movies You Can Stream Righ...   \n",
       "6990  7038  2001                      \"S | Keywords | The Guardian\"   \n",
       "9549  9599  2001             \"Matt Marshall, Author at VentureBeat\"   \n",
       "\n",
       "                                                    url  \\\n",
       "2055  \"https://www.wired.com/2017/03/best-sci-fi-str...   \n",
       "6990     \"https://www.theguardian.com/index/subjects/s\"   \n",
       "9549     \"https://venturebeat.com/author/matt-marshall\"   \n",
       "\n",
       "                                                   text  \n",
       "2055  \"Open Navigation Menu To revist this article, ...  \n",
       "6990  \"Account overview Billing Profile Emails & mar...  \n",
       "9549  \"Artificial Intelligence View All AI, ML and D...  "
      ]
     },
     "metadata": {},
     "output_type": "display_data"
    },
    {
     "data": {
      "text/markdown": [
       "---"
      ],
      "text/plain": [
       "<IPython.core.display.Markdown object>"
      ]
     },
     "metadata": {},
     "output_type": "display_data"
    },
    {
     "data": {
      "text/markdown": [
       "### Year: 2000"
      ],
      "text/plain": [
       "<IPython.core.display.Markdown object>"
      ]
     },
     "metadata": {},
     "output_type": "display_data"
    },
    {
     "data": {
      "text/markdown": [
       "Number of articles: 31"
      ],
      "text/plain": [
       "<IPython.core.display.Markdown object>"
      ]
     },
     "metadata": {},
     "output_type": "display_data"
    },
    {
     "data": {
      "text/html": [
       "<div>\n",
       "<style scoped>\n",
       "    .dataframe tbody tr th:only-of-type {\n",
       "        vertical-align: middle;\n",
       "    }\n",
       "\n",
       "    .dataframe tbody tr th {\n",
       "        vertical-align: top;\n",
       "    }\n",
       "\n",
       "    .dataframe thead th {\n",
       "        text-align: right;\n",
       "    }\n",
       "</style>\n",
       "<table border=\"1\" class=\"dataframe\">\n",
       "  <thead>\n",
       "    <tr style=\"text-align: right;\">\n",
       "      <th></th>\n",
       "      <th>id</th>\n",
       "      <th>year</th>\n",
       "      <th>title</th>\n",
       "      <th>url</th>\n",
       "      <th>text</th>\n",
       "    </tr>\n",
       "  </thead>\n",
       "  <tbody>\n",
       "    <tr>\n",
       "      <th>249</th>\n",
       "      <td>259</td>\n",
       "      <td>2000</td>\n",
       "      <td>\"The Coming Air Age - The Atlantic\"</td>\n",
       "      <td>\"https://www.theatlantic.com/magazine/archive/...</td>\n",
       "      <td>\"Site Navigation The Atlantic Popular Latest N...</td>\n",
       "    </tr>\n",
       "    <tr>\n",
       "      <th>278</th>\n",
       "      <td>291</td>\n",
       "      <td>2000</td>\n",
       "      <td>\"The Computers of Tomorrow - The Atlantic\"</td>\n",
       "      <td>\"https://www.theatlantic.com/magazine/archive/...</td>\n",
       "      <td>\"Site Navigation The Atlantic Popular Latest N...</td>\n",
       "    </tr>\n",
       "    <tr>\n",
       "      <th>345</th>\n",
       "      <td>358</td>\n",
       "      <td>2000</td>\n",
       "      <td>\"Shelf Improvement book subscriptions\"</td>\n",
       "      <td>\"https://www.theguardian.com/shelf-improvement\"</td>\n",
       "      <td>\"Toggle menu Visit the Guardian Compare Wish L...</td>\n",
       "    </tr>\n",
       "  </tbody>\n",
       "</table>\n",
       "</div>"
      ],
      "text/plain": [
       "      id  year                                       title  \\\n",
       "249  259  2000         \"The Coming Air Age - The Atlantic\"   \n",
       "278  291  2000  \"The Computers of Tomorrow - The Atlantic\"   \n",
       "345  358  2000      \"Shelf Improvement book subscriptions\"   \n",
       "\n",
       "                                                   url  \\\n",
       "249  \"https://www.theatlantic.com/magazine/archive/...   \n",
       "278  \"https://www.theatlantic.com/magazine/archive/...   \n",
       "345    \"https://www.theguardian.com/shelf-improvement\"   \n",
       "\n",
       "                                                  text  \n",
       "249  \"Site Navigation The Atlantic Popular Latest N...  \n",
       "278  \"Site Navigation The Atlantic Popular Latest N...  \n",
       "345  \"Toggle menu Visit the Guardian Compare Wish L...  "
      ]
     },
     "metadata": {},
     "output_type": "display_data"
    },
    {
     "data": {
      "text/markdown": [
       "---"
      ],
      "text/plain": [
       "<IPython.core.display.Markdown object>"
      ]
     },
     "metadata": {},
     "output_type": "display_data"
    }
   ],
   "source": [
    "# %pip install datasets\n",
    "import datasets\n",
    "\n",
    "# %pip install Ipython\n",
    "from IPython.display import display, Markdown\n",
    "\n",
    "# for more details see https://huggingface.co/datasets/siavava/ai-tech-articles\n",
    "dataset = datasets.load_dataset(\"siavava/ai-tech-articles\")\n",
    "df = dataset[\"train\"].to_pandas()  # there's only the 'train' split because HF requires it.\n",
    "display(df.head(5))\n",
    "\n",
    "# split df by year, if you want to\n",
    "years = df[\"year\"].unique()\n",
    "dfs = {}\n",
    "for year in years:\n",
    "    dfs[year] = df[df[\"year\"] == year]\n",
    "    \n",
    "for year in sorted(years, reverse=True):\n",
    "    display(Markdown(f\"### Year: {year}\"))\n",
    "    display(Markdown(f\"Number of articles: {len(dfs[year])}\"))\n",
    "    display(dfs[year].head(3))\n",
    "    display(Markdown(\"---\"))\n",
    "    \n"
   ]
  }
 ],
 "metadata": {
  "kernelspec": {
   "display_name": "Python 3",
   "language": "python",
   "name": "python3"
  },
  "language_info": {
   "codemirror_mode": {
    "name": "ipython",
    "version": 3
   },
   "file_extension": ".py",
   "mimetype": "text/x-python",
   "name": "python",
   "nbconvert_exporter": "python",
   "pygments_lexer": "ipython3",
   "version": "3.11.5"
  }
 },
 "nbformat": 4,
 "nbformat_minor": 2
}
