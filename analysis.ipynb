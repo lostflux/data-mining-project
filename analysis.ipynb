{
 "cells": [
  {
   "cell_type": "code",
   "execution_count": 211,
   "metadata": {},
   "outputs": [],
   "source": [
    "import pandas as pd\n",
    "import numpy as np\n",
    "import gensim\n",
    "import re\n",
    "from pathlib import Path\n",
    "from sklearn.feature_extraction.text import CountVectorizer\n",
    "from nltk.sentiment import SentimentIntensityAnalyzer\n",
    "from sklearn.decomposition import LatentDirichletAllocation\n",
    "from matplotlib import pyplot as plt\n",
    "from nltk.stem import WordNetLemmatizer\n",
    "from nltk.tokenize import word_tokenize\n",
    "from nltk.tag import pos_tag\n",
    "from IPython.display import display, Markdown\n",
    "import datasets\n"
   ]
  },
  {
   "cell_type": "markdown",
   "metadata": {},
   "source": [
    "The data is separated by year. I will be starting from 2000 and I removed the unknown sub-folder within the data folder Each of the folders will be converted to dataframes that correspond to a specific year with rows that represent each of the files.\n",
    "\n",
    "Each of the files in the folders will be first go through a content check (if the document is too short (empty) or too long (over 1000 lines) it will be discarded).\n",
    "\n",
    "If the file passes the length check it will then be shortened to remove the header and have its contents added to the dataframe.\n",
    "\n",
    "This dataframe will then be added to a dictionary that maps years to the corresponding dataframe. "
   ]
  },
  {
   "cell_type": "code",
   "execution_count": 212,
   "metadata": {},
   "outputs": [],
   "source": [
    "def remove_files(text):\n",
    "    count = len(text.split(\" \"))\n",
    "    if  count < 1000 or count > 100000:\n",
    "        return True\n",
    "    return False"
   ]
  },
  {
   "cell_type": "code",
   "execution_count": 213,
   "metadata": {},
   "outputs": [],
   "source": [
    "def create_dictionary():\n",
    "    dataset = datasets.load_dataset(\"siavava/ai-tech-articles\")\n",
    "    df = dataset[\"train\"].to_pandas()  # there's only the 'train' split because HF requires it.\n",
    "\n",
    "    # split df by year\n",
    "    years = df[\"year\"].unique()\n",
    "    dfs = {}\n",
    "    for year in sorted(years):\n",
    "        year_df = df[df[\"year\"] == year]\n",
    "        year_df.apply(lambda row: np.nan if remove_files(row['text']) else row['text'], axis = 1)\n",
    "        year_df = year_df.dropna(subset=['text'])\n",
    "        year_df = year_df.sample(n=min(100, len(year_df)), random_state=5432534)\n",
    "        dfs[year] = year_df \n",
    "\n",
    "    return dfs"
   ]
  },
  {
   "cell_type": "code",
   "execution_count": 214,
   "metadata": {},
   "outputs": [],
   "source": [
    "year_dictionary = create_dictionary()"
   ]
  },
  {
   "cell_type": "code",
   "execution_count": 215,
   "metadata": {},
   "outputs": [
    {
     "data": {
      "text/markdown": [
       "### Year: 2001"
      ],
      "text/plain": [
       "<IPython.core.display.Markdown object>"
      ]
     },
     "metadata": {},
     "output_type": "display_data"
    },
    {
     "data": {
      "text/markdown": [
       "Number of articles: 3"
      ],
      "text/plain": [
       "<IPython.core.display.Markdown object>"
      ]
     },
     "metadata": {},
     "output_type": "display_data"
    },
    {
     "data": {
      "text/html": [
       "<div>\n",
       "<style scoped>\n",
       "    .dataframe tbody tr th:only-of-type {\n",
       "        vertical-align: middle;\n",
       "    }\n",
       "\n",
       "    .dataframe tbody tr th {\n",
       "        vertical-align: top;\n",
       "    }\n",
       "\n",
       "    .dataframe thead th {\n",
       "        text-align: right;\n",
       "    }\n",
       "</style>\n",
       "<table border=\"1\" class=\"dataframe\">\n",
       "  <thead>\n",
       "    <tr style=\"text-align: right;\">\n",
       "      <th></th>\n",
       "      <th>id</th>\n",
       "      <th>year</th>\n",
       "      <th>title</th>\n",
       "      <th>url</th>\n",
       "      <th>text</th>\n",
       "    </tr>\n",
       "  </thead>\n",
       "  <tbody>\n",
       "    <tr>\n",
       "      <th>1143</th>\n",
       "      <td>1184</td>\n",
       "      <td>2001</td>\n",
       "      <td>\"Department Of Computer Science | Makerere Uni...</td>\n",
       "      <td>\"https://cs.mak.ac.ug/curriculum/undergraduate...</td>\n",
       "      <td>\"Makerere University Department of Computer Sc...</td>\n",
       "    </tr>\n",
       "    <tr>\n",
       "      <th>1122</th>\n",
       "      <td>1155</td>\n",
       "      <td>2001</td>\n",
       "      <td>\"Chromosome territories, nuclear architecture ...</td>\n",
       "      <td>\"https://doi.org/10.1038%2F35066075\"</td>\n",
       "      <td>\"Thank you for visiting nature.com. You are us...</td>\n",
       "    </tr>\n",
       "    <tr>\n",
       "      <th>1142</th>\n",
       "      <td>1183</td>\n",
       "      <td>2001</td>\n",
       "      <td>\"Department Of Computer Science | Makerere Uni...</td>\n",
       "      <td>\"https://cs.mak.ac.ug/curriculum\"</td>\n",
       "      <td>\"Makerere University Department of Computer Sc...</td>\n",
       "    </tr>\n",
       "  </tbody>\n",
       "</table>\n",
       "</div>"
      ],
      "text/plain": [
       "        id  year                                              title  \\\n",
       "1143  1184  2001  \"Department Of Computer Science | Makerere Uni...   \n",
       "1122  1155  2001  \"Chromosome territories, nuclear architecture ...   \n",
       "1142  1183  2001  \"Department Of Computer Science | Makerere Uni...   \n",
       "\n",
       "                                                    url  \\\n",
       "1143  \"https://cs.mak.ac.ug/curriculum/undergraduate...   \n",
       "1122               \"https://doi.org/10.1038%2F35066075\"   \n",
       "1142                  \"https://cs.mak.ac.ug/curriculum\"   \n",
       "\n",
       "                                                   text  \n",
       "1143  \"Makerere University Department of Computer Sc...  \n",
       "1122  \"Thank you for visiting nature.com. You are us...  \n",
       "1142  \"Makerere University Department of Computer Sc...  "
      ]
     },
     "metadata": {},
     "output_type": "display_data"
    },
    {
     "data": {
      "text/markdown": [
       "---"
      ],
      "text/plain": [
       "<IPython.core.display.Markdown object>"
      ]
     },
     "metadata": {},
     "output_type": "display_data"
    },
    {
     "data": {
      "text/markdown": [
       "### Year: 2003"
      ],
      "text/plain": [
       "<IPython.core.display.Markdown object>"
      ]
     },
     "metadata": {},
     "output_type": "display_data"
    },
    {
     "data": {
      "text/markdown": [
       "Number of articles: 1"
      ],
      "text/plain": [
       "<IPython.core.display.Markdown object>"
      ]
     },
     "metadata": {},
     "output_type": "display_data"
    },
    {
     "data": {
      "text/html": [
       "<div>\n",
       "<style scoped>\n",
       "    .dataframe tbody tr th:only-of-type {\n",
       "        vertical-align: middle;\n",
       "    }\n",
       "\n",
       "    .dataframe tbody tr th {\n",
       "        vertical-align: top;\n",
       "    }\n",
       "\n",
       "    .dataframe thead th {\n",
       "        text-align: right;\n",
       "    }\n",
       "</style>\n",
       "<table border=\"1\" class=\"dataframe\">\n",
       "  <thead>\n",
       "    <tr style=\"text-align: right;\">\n",
       "      <th></th>\n",
       "      <th>id</th>\n",
       "      <th>year</th>\n",
       "      <th>title</th>\n",
       "      <th>url</th>\n",
       "      <th>text</th>\n",
       "    </tr>\n",
       "  </thead>\n",
       "  <tbody>\n",
       "    <tr>\n",
       "      <th>2266</th>\n",
       "      <td>2326</td>\n",
       "      <td>2003</td>\n",
       "      <td>\"Introduction to the Old English poem called B...</td>\n",
       "      <td>\"https://www.heorot.dk/beowulf-vorwort\"</td>\n",
       "      <td>\"An Introduction to the Structure &amp; Making of ...</td>\n",
       "    </tr>\n",
       "  </tbody>\n",
       "</table>\n",
       "</div>"
      ],
      "text/plain": [
       "        id  year                                              title  \\\n",
       "2266  2326  2003  \"Introduction to the Old English poem called B...   \n",
       "\n",
       "                                          url  \\\n",
       "2266  \"https://www.heorot.dk/beowulf-vorwort\"   \n",
       "\n",
       "                                                   text  \n",
       "2266  \"An Introduction to the Structure & Making of ...  "
      ]
     },
     "metadata": {},
     "output_type": "display_data"
    },
    {
     "data": {
      "text/markdown": [
       "---"
      ],
      "text/plain": [
       "<IPython.core.display.Markdown object>"
      ]
     },
     "metadata": {},
     "output_type": "display_data"
    },
    {
     "data": {
      "text/markdown": [
       "### Year: 2004"
      ],
      "text/plain": [
       "<IPython.core.display.Markdown object>"
      ]
     },
     "metadata": {},
     "output_type": "display_data"
    },
    {
     "data": {
      "text/markdown": [
       "Number of articles: 1"
      ],
      "text/plain": [
       "<IPython.core.display.Markdown object>"
      ]
     },
     "metadata": {},
     "output_type": "display_data"
    },
    {
     "data": {
      "text/html": [
       "<div>\n",
       "<style scoped>\n",
       "    .dataframe tbody tr th:only-of-type {\n",
       "        vertical-align: middle;\n",
       "    }\n",
       "\n",
       "    .dataframe tbody tr th {\n",
       "        vertical-align: top;\n",
       "    }\n",
       "\n",
       "    .dataframe thead th {\n",
       "        text-align: right;\n",
       "    }\n",
       "</style>\n",
       "<table border=\"1\" class=\"dataframe\">\n",
       "  <thead>\n",
       "    <tr style=\"text-align: right;\">\n",
       "      <th></th>\n",
       "      <th>id</th>\n",
       "      <th>year</th>\n",
       "      <th>title</th>\n",
       "      <th>url</th>\n",
       "      <th>text</th>\n",
       "    </tr>\n",
       "  </thead>\n",
       "  <tbody>\n",
       "    <tr>\n",
       "      <th>2298</th>\n",
       "      <td>2362</td>\n",
       "      <td>2004</td>\n",
       "      <td>\"Halo 2 | Halo Alpha | Fandom\"</td>\n",
       "      <td>\"https://halo.fandom.com/wiki/Halo_2\"</td>\n",
       "      <td>\"Explore Main Page Discuss All Pages Community...</td>\n",
       "    </tr>\n",
       "  </tbody>\n",
       "</table>\n",
       "</div>"
      ],
      "text/plain": [
       "        id  year                           title  \\\n",
       "2298  2362  2004  \"Halo 2 | Halo Alpha | Fandom\"   \n",
       "\n",
       "                                        url  \\\n",
       "2298  \"https://halo.fandom.com/wiki/Halo_2\"   \n",
       "\n",
       "                                                   text  \n",
       "2298  \"Explore Main Page Discuss All Pages Community...  "
      ]
     },
     "metadata": {},
     "output_type": "display_data"
    },
    {
     "data": {
      "text/markdown": [
       "---"
      ],
      "text/plain": [
       "<IPython.core.display.Markdown object>"
      ]
     },
     "metadata": {},
     "output_type": "display_data"
    },
    {
     "data": {
      "text/markdown": [
       "### Year: 2005"
      ],
      "text/plain": [
       "<IPython.core.display.Markdown object>"
      ]
     },
     "metadata": {},
     "output_type": "display_data"
    },
    {
     "data": {
      "text/markdown": [
       "Number of articles: 6"
      ],
      "text/plain": [
       "<IPython.core.display.Markdown object>"
      ]
     },
     "metadata": {},
     "output_type": "display_data"
    },
    {
     "data": {
      "text/html": [
       "<div>\n",
       "<style scoped>\n",
       "    .dataframe tbody tr th:only-of-type {\n",
       "        vertical-align: middle;\n",
       "    }\n",
       "\n",
       "    .dataframe tbody tr th {\n",
       "        vertical-align: top;\n",
       "    }\n",
       "\n",
       "    .dataframe thead th {\n",
       "        text-align: right;\n",
       "    }\n",
       "</style>\n",
       "<table border=\"1\" class=\"dataframe\">\n",
       "  <thead>\n",
       "    <tr style=\"text-align: right;\">\n",
       "      <th></th>\n",
       "      <th>id</th>\n",
       "      <th>year</th>\n",
       "      <th>title</th>\n",
       "      <th>url</th>\n",
       "      <th>text</th>\n",
       "    </tr>\n",
       "  </thead>\n",
       "  <tbody>\n",
       "    <tr>\n",
       "      <th>903</th>\n",
       "      <td>935</td>\n",
       "      <td>2005</td>\n",
       "      <td>\"ISOTOPES IN MARINE SEDIMENTS | SpringerLink\"</td>\n",
       "      <td>\"https://doi.org/10.1007%2F1-4020-2504-1_06\"</td>\n",
       "      <td>\"Advertisement Log in Menu Search Cart Isotope...</td>\n",
       "    </tr>\n",
       "    <tr>\n",
       "      <th>2016</th>\n",
       "      <td>2071</td>\n",
       "      <td>2005</td>\n",
       "      <td>\"Intel's Brain-Inspired Loihi 2 Chip Can Hold ...</td>\n",
       "      <td>\"https://blubrry.com/singularityhub/81843287/i...</td>\n",
       "      <td>\"Podcast Hosting Hosting Plans Easy-to-use too...</td>\n",
       "    </tr>\n",
       "    <tr>\n",
       "      <th>902</th>\n",
       "      <td>934</td>\n",
       "      <td>2005</td>\n",
       "      <td>\"自然語言處理 - 维基百科，自由的百科全书\"</td>\n",
       "      <td>\"https://zh.wikipedia.org/wiki/%E8%87%AA%E7%84...</td>\n",
       "      <td>\"主菜单 首页 分类索引 特色内容 新闻动态 最近更改 随机条目 资助维基百科 帮助 维基社...</td>\n",
       "    </tr>\n",
       "  </tbody>\n",
       "</table>\n",
       "</div>"
      ],
      "text/plain": [
       "        id  year                                              title  \\\n",
       "903    935  2005      \"ISOTOPES IN MARINE SEDIMENTS | SpringerLink\"   \n",
       "2016  2071  2005  \"Intel's Brain-Inspired Loihi 2 Chip Can Hold ...   \n",
       "902    934  2005                            \"自然語言處理 - 维基百科，自由的百科全书\"   \n",
       "\n",
       "                                                    url  \\\n",
       "903        \"https://doi.org/10.1007%2F1-4020-2504-1_06\"   \n",
       "2016  \"https://blubrry.com/singularityhub/81843287/i...   \n",
       "902   \"https://zh.wikipedia.org/wiki/%E8%87%AA%E7%84...   \n",
       "\n",
       "                                                   text  \n",
       "903   \"Advertisement Log in Menu Search Cart Isotope...  \n",
       "2016  \"Podcast Hosting Hosting Plans Easy-to-use too...  \n",
       "902   \"主菜单 首页 分类索引 特色内容 新闻动态 最近更改 随机条目 资助维基百科 帮助 维基社...  "
      ]
     },
     "metadata": {},
     "output_type": "display_data"
    },
    {
     "data": {
      "text/markdown": [
       "---"
      ],
      "text/plain": [
       "<IPython.core.display.Markdown object>"
      ]
     },
     "metadata": {},
     "output_type": "display_data"
    },
    {
     "data": {
      "text/markdown": [
       "### Year: 2006"
      ],
      "text/plain": [
       "<IPython.core.display.Markdown object>"
      ]
     },
     "metadata": {},
     "output_type": "display_data"
    },
    {
     "data": {
      "text/markdown": [
       "Number of articles: 4"
      ],
      "text/plain": [
       "<IPython.core.display.Markdown object>"
      ]
     },
     "metadata": {},
     "output_type": "display_data"
    },
    {
     "data": {
      "text/html": [
       "<div>\n",
       "<style scoped>\n",
       "    .dataframe tbody tr th:only-of-type {\n",
       "        vertical-align: middle;\n",
       "    }\n",
       "\n",
       "    .dataframe tbody tr th {\n",
       "        vertical-align: top;\n",
       "    }\n",
       "\n",
       "    .dataframe thead th {\n",
       "        text-align: right;\n",
       "    }\n",
       "</style>\n",
       "<table border=\"1\" class=\"dataframe\">\n",
       "  <thead>\n",
       "    <tr style=\"text-align: right;\">\n",
       "      <th></th>\n",
       "      <th>id</th>\n",
       "      <th>year</th>\n",
       "      <th>title</th>\n",
       "      <th>url</th>\n",
       "      <th>text</th>\n",
       "    </tr>\n",
       "  </thead>\n",
       "  <tbody>\n",
       "    <tr>\n",
       "      <th>697</th>\n",
       "      <td>720</td>\n",
       "      <td>2006</td>\n",
       "      <td>\"\"CBLL, Research Projects, Computational and B...</td>\n",
       "      <td>\"http://www.cs.nyu.edu/~yann/research\"</td>\n",
       "      <td>\"CBLL HOME VLG Group News/Events Seminars Peop...</td>\n",
       "    </tr>\n",
       "    <tr>\n",
       "      <th>2297</th>\n",
       "      <td>2361</td>\n",
       "      <td>2006</td>\n",
       "      <td>\"Halo: Ghosts of Onyx | Halo Alpha | Fandom\"</td>\n",
       "      <td>\"https://halo.fandom.com/wiki/Halo:_Ghosts_of_...</td>\n",
       "      <td>\"Explore Main Page Discuss All Pages Community...</td>\n",
       "    </tr>\n",
       "    <tr>\n",
       "      <th>1124</th>\n",
       "      <td>1158</td>\n",
       "      <td>2006</td>\n",
       "      <td>\"An integrated view of protein evolution | Nat...</td>\n",
       "      <td>\"https://doi.org/10.1038%2Fnrg1838\"</td>\n",
       "      <td>\"Thank you for visiting nature.com. You are us...</td>\n",
       "    </tr>\n",
       "  </tbody>\n",
       "</table>\n",
       "</div>"
      ],
      "text/plain": [
       "        id  year                                              title  \\\n",
       "697    720  2006  \"\"CBLL, Research Projects, Computational and B...   \n",
       "2297  2361  2006       \"Halo: Ghosts of Onyx | Halo Alpha | Fandom\"   \n",
       "1124  1158  2006  \"An integrated view of protein evolution | Nat...   \n",
       "\n",
       "                                                    url  \\\n",
       "697              \"http://www.cs.nyu.edu/~yann/research\"   \n",
       "2297  \"https://halo.fandom.com/wiki/Halo:_Ghosts_of_...   \n",
       "1124                \"https://doi.org/10.1038%2Fnrg1838\"   \n",
       "\n",
       "                                                   text  \n",
       "697   \"CBLL HOME VLG Group News/Events Seminars Peop...  \n",
       "2297  \"Explore Main Page Discuss All Pages Community...  \n",
       "1124  \"Thank you for visiting nature.com. You are us...  "
      ]
     },
     "metadata": {},
     "output_type": "display_data"
    },
    {
     "data": {
      "text/markdown": [
       "---"
      ],
      "text/plain": [
       "<IPython.core.display.Markdown object>"
      ]
     },
     "metadata": {},
     "output_type": "display_data"
    },
    {
     "data": {
      "text/markdown": [
       "### Year: 2007"
      ],
      "text/plain": [
       "<IPython.core.display.Markdown object>"
      ]
     },
     "metadata": {},
     "output_type": "display_data"
    },
    {
     "data": {
      "text/markdown": [
       "Number of articles: 3"
      ],
      "text/plain": [
       "<IPython.core.display.Markdown object>"
      ]
     },
     "metadata": {},
     "output_type": "display_data"
    },
    {
     "data": {
      "text/html": [
       "<div>\n",
       "<style scoped>\n",
       "    .dataframe tbody tr th:only-of-type {\n",
       "        vertical-align: middle;\n",
       "    }\n",
       "\n",
       "    .dataframe tbody tr th {\n",
       "        vertical-align: top;\n",
       "    }\n",
       "\n",
       "    .dataframe thead th {\n",
       "        text-align: right;\n",
       "    }\n",
       "</style>\n",
       "<table border=\"1\" class=\"dataframe\">\n",
       "  <thead>\n",
       "    <tr style=\"text-align: right;\">\n",
       "      <th></th>\n",
       "      <th>id</th>\n",
       "      <th>year</th>\n",
       "      <th>title</th>\n",
       "      <th>url</th>\n",
       "      <th>text</th>\n",
       "    </tr>\n",
       "  </thead>\n",
       "  <tbody>\n",
       "    <tr>\n",
       "      <th>1123</th>\n",
       "      <td>1157</td>\n",
       "      <td>2007</td>\n",
       "      <td>\"Identification and analysis of functional ele...</td>\n",
       "      <td>\"https://doi.org/10.1038%2Fnature05874\"</td>\n",
       "      <td>\"Thank you for visiting nature.com. You are us...</td>\n",
       "    </tr>\n",
       "    <tr>\n",
       "      <th>699</th>\n",
       "      <td>723</td>\n",
       "      <td>2007</td>\n",
       "      <td>\"\"CBLL, Research Projects, Computational and B...</td>\n",
       "      <td>\"http://www.cs.nyu.edu/~yann/research/relreg\"</td>\n",
       "      <td>\"CBLL HOME VLG Group News/Events Seminars Peop...</td>\n",
       "    </tr>\n",
       "    <tr>\n",
       "      <th>1120</th>\n",
       "      <td>1153</td>\n",
       "      <td>2007</td>\n",
       "      <td>\"Discovering DNA: Friedrich Miescher and the e...</td>\n",
       "      <td>\"https://doi.org/10.1007%2Fs00439-007-0433-0\"</td>\n",
       "      <td>\"Advertisement Log in Menu Search Cart Home Hu...</td>\n",
       "    </tr>\n",
       "  </tbody>\n",
       "</table>\n",
       "</div>"
      ],
      "text/plain": [
       "        id  year                                              title  \\\n",
       "1123  1157  2007  \"Identification and analysis of functional ele...   \n",
       "699    723  2007  \"\"CBLL, Research Projects, Computational and B...   \n",
       "1120  1153  2007  \"Discovering DNA: Friedrich Miescher and the e...   \n",
       "\n",
       "                                                url  \\\n",
       "1123        \"https://doi.org/10.1038%2Fnature05874\"   \n",
       "699   \"http://www.cs.nyu.edu/~yann/research/relreg\"   \n",
       "1120  \"https://doi.org/10.1007%2Fs00439-007-0433-0\"   \n",
       "\n",
       "                                                   text  \n",
       "1123  \"Thank you for visiting nature.com. You are us...  \n",
       "699   \"CBLL HOME VLG Group News/Events Seminars Peop...  \n",
       "1120  \"Advertisement Log in Menu Search Cart Home Hu...  "
      ]
     },
     "metadata": {},
     "output_type": "display_data"
    },
    {
     "data": {
      "text/markdown": [
       "---"
      ],
      "text/plain": [
       "<IPython.core.display.Markdown object>"
      ]
     },
     "metadata": {},
     "output_type": "display_data"
    },
    {
     "data": {
      "text/markdown": [
       "### Year: 2008"
      ],
      "text/plain": [
       "<IPython.core.display.Markdown object>"
      ]
     },
     "metadata": {},
     "output_type": "display_data"
    },
    {
     "data": {
      "text/markdown": [
       "Number of articles: 5"
      ],
      "text/plain": [
       "<IPython.core.display.Markdown object>"
      ]
     },
     "metadata": {},
     "output_type": "display_data"
    },
    {
     "data": {
      "text/html": [
       "<div>\n",
       "<style scoped>\n",
       "    .dataframe tbody tr th:only-of-type {\n",
       "        vertical-align: middle;\n",
       "    }\n",
       "\n",
       "    .dataframe tbody tr th {\n",
       "        vertical-align: top;\n",
       "    }\n",
       "\n",
       "    .dataframe thead th {\n",
       "        text-align: right;\n",
       "    }\n",
       "</style>\n",
       "<table border=\"1\" class=\"dataframe\">\n",
       "  <thead>\n",
       "    <tr style=\"text-align: right;\">\n",
       "      <th></th>\n",
       "      <th>id</th>\n",
       "      <th>year</th>\n",
       "      <th>title</th>\n",
       "      <th>url</th>\n",
       "      <th>text</th>\n",
       "    </tr>\n",
       "  </thead>\n",
       "  <tbody>\n",
       "    <tr>\n",
       "      <th>400</th>\n",
       "      <td>420</td>\n",
       "      <td>2008</td>\n",
       "      <td>\"Diversity and Evolution of Coral Fluorescent ...</td>\n",
       "      <td>\"http://www.ncbi.nlm.nih.gov/pmc/articles/PMC2...</td>\n",
       "      <td>\"An official website of the United States gove...</td>\n",
       "    </tr>\n",
       "    <tr>\n",
       "      <th>2286</th>\n",
       "      <td>2350</td>\n",
       "      <td>2008</td>\n",
       "      <td>\"Abe Burmeister – On my Om\"</td>\n",
       "      <td>\"https://pi.co/abe-burmeister\"</td>\n",
       "      <td>\"On my Om On Technology &amp; Change Search About ...</td>\n",
       "    </tr>\n",
       "    <tr>\n",
       "      <th>265</th>\n",
       "      <td>277</td>\n",
       "      <td>2008</td>\n",
       "      <td>\"Abundance360 by Peter Diamandis\"</td>\n",
       "      <td>\"https://www.abundance360.com\"</td>\n",
       "      <td>\"Abundance360 Applications Are Now Open by Sin...</td>\n",
       "    </tr>\n",
       "  </tbody>\n",
       "</table>\n",
       "</div>"
      ],
      "text/plain": [
       "        id  year                                              title  \\\n",
       "400    420  2008  \"Diversity and Evolution of Coral Fluorescent ...   \n",
       "2286  2350  2008                        \"Abe Burmeister – On my Om\"   \n",
       "265    277  2008                  \"Abundance360 by Peter Diamandis\"   \n",
       "\n",
       "                                                    url  \\\n",
       "400   \"http://www.ncbi.nlm.nih.gov/pmc/articles/PMC2...   \n",
       "2286                     \"https://pi.co/abe-burmeister\"   \n",
       "265                      \"https://www.abundance360.com\"   \n",
       "\n",
       "                                                   text  \n",
       "400   \"An official website of the United States gove...  \n",
       "2286  \"On my Om On Technology & Change Search About ...  \n",
       "265   \"Abundance360 Applications Are Now Open by Sin...  "
      ]
     },
     "metadata": {},
     "output_type": "display_data"
    },
    {
     "data": {
      "text/markdown": [
       "---"
      ],
      "text/plain": [
       "<IPython.core.display.Markdown object>"
      ]
     },
     "metadata": {},
     "output_type": "display_data"
    },
    {
     "data": {
      "text/markdown": [
       "### Year: 2009"
      ],
      "text/plain": [
       "<IPython.core.display.Markdown object>"
      ]
     },
     "metadata": {},
     "output_type": "display_data"
    },
    {
     "data": {
      "text/markdown": [
       "Number of articles: 12"
      ],
      "text/plain": [
       "<IPython.core.display.Markdown object>"
      ]
     },
     "metadata": {},
     "output_type": "display_data"
    },
    {
     "data": {
      "text/html": [
       "<div>\n",
       "<style scoped>\n",
       "    .dataframe tbody tr th:only-of-type {\n",
       "        vertical-align: middle;\n",
       "    }\n",
       "\n",
       "    .dataframe tbody tr th {\n",
       "        vertical-align: top;\n",
       "    }\n",
       "\n",
       "    .dataframe thead th {\n",
       "        text-align: right;\n",
       "    }\n",
       "</style>\n",
       "<table border=\"1\" class=\"dataframe\">\n",
       "  <thead>\n",
       "    <tr style=\"text-align: right;\">\n",
       "      <th></th>\n",
       "      <th>id</th>\n",
       "      <th>year</th>\n",
       "      <th>title</th>\n",
       "      <th>url</th>\n",
       "      <th>text</th>\n",
       "    </tr>\n",
       "  </thead>\n",
       "  <tbody>\n",
       "    <tr>\n",
       "      <th>1760</th>\n",
       "      <td>1812</td>\n",
       "      <td>2009</td>\n",
       "      <td>\"Blue Zones: Places in the World Where People ...</td>\n",
       "      <td>\"https://singularityhub.com/2009/07/20/blue-zo...</td>\n",
       "      <td>\"Topics AI Biotech Computing Space Energy Futu...</td>\n",
       "    </tr>\n",
       "    <tr>\n",
       "      <th>899</th>\n",
       "      <td>930</td>\n",
       "      <td>2009</td>\n",
       "      <td>\"Implementing an online help desk system based...</td>\n",
       "      <td>\"https://doi.org/10.1145%2F1643823.1643908\"</td>\n",
       "      <td>\"Dartmouth College Advanced Search Browse Abou...</td>\n",
       "    </tr>\n",
       "    <tr>\n",
       "      <th>2300</th>\n",
       "      <td>2364</td>\n",
       "      <td>2009</td>\n",
       "      <td>\"Halo Wars | Halo Alpha | Fandom\"</td>\n",
       "      <td>\"https://halo.fandom.com/wiki/Halo_Wars\"</td>\n",
       "      <td>\"Explore Main Page Discuss All Pages Community...</td>\n",
       "    </tr>\n",
       "  </tbody>\n",
       "</table>\n",
       "</div>"
      ],
      "text/plain": [
       "        id  year                                              title  \\\n",
       "1760  1812  2009  \"Blue Zones: Places in the World Where People ...   \n",
       "899    930  2009  \"Implementing an online help desk system based...   \n",
       "2300  2364  2009                  \"Halo Wars | Halo Alpha | Fandom\"   \n",
       "\n",
       "                                                    url  \\\n",
       "1760  \"https://singularityhub.com/2009/07/20/blue-zo...   \n",
       "899         \"https://doi.org/10.1145%2F1643823.1643908\"   \n",
       "2300           \"https://halo.fandom.com/wiki/Halo_Wars\"   \n",
       "\n",
       "                                                   text  \n",
       "1760  \"Topics AI Biotech Computing Space Energy Futu...  \n",
       "899   \"Dartmouth College Advanced Search Browse Abou...  \n",
       "2300  \"Explore Main Page Discuss All Pages Community...  "
      ]
     },
     "metadata": {},
     "output_type": "display_data"
    },
    {
     "data": {
      "text/markdown": [
       "---"
      ],
      "text/plain": [
       "<IPython.core.display.Markdown object>"
      ]
     },
     "metadata": {},
     "output_type": "display_data"
    },
    {
     "data": {
      "text/markdown": [
       "### Year: 2010"
      ],
      "text/plain": [
       "<IPython.core.display.Markdown object>"
      ]
     },
     "metadata": {},
     "output_type": "display_data"
    },
    {
     "data": {
      "text/markdown": [
       "Number of articles: 3"
      ],
      "text/plain": [
       "<IPython.core.display.Markdown object>"
      ]
     },
     "metadata": {},
     "output_type": "display_data"
    },
    {
     "data": {
      "text/html": [
       "<div>\n",
       "<style scoped>\n",
       "    .dataframe tbody tr th:only-of-type {\n",
       "        vertical-align: middle;\n",
       "    }\n",
       "\n",
       "    .dataframe tbody tr th {\n",
       "        vertical-align: top;\n",
       "    }\n",
       "\n",
       "    .dataframe thead th {\n",
       "        text-align: right;\n",
       "    }\n",
       "</style>\n",
       "<table border=\"1\" class=\"dataframe\">\n",
       "  <thead>\n",
       "    <tr style=\"text-align: right;\">\n",
       "      <th></th>\n",
       "      <th>id</th>\n",
       "      <th>year</th>\n",
       "      <th>title</th>\n",
       "      <th>url</th>\n",
       "      <th>text</th>\n",
       "    </tr>\n",
       "  </thead>\n",
       "  <tbody>\n",
       "    <tr>\n",
       "      <th>1606</th>\n",
       "      <td>1655</td>\n",
       "      <td>2010</td>\n",
       "      <td>\"REBUS and the Anarchic Brain: Toward a Unifie...</td>\n",
       "      <td>\"https://doi.org/10.1124/pr.118.017160\"</td>\n",
       "      <td>\"Main menu Home Articles Current Issue Fast Fo...</td>\n",
       "    </tr>\n",
       "    <tr>\n",
       "      <th>401</th>\n",
       "      <td>421</td>\n",
       "      <td>2010</td>\n",
       "      <td>\"Synthetic biology: applications come of age -...</td>\n",
       "      <td>\"http://www.ncbi.nlm.nih.gov/pmc/articles/PMC2...</td>\n",
       "      <td>\"An official website of the United States gove...</td>\n",
       "    </tr>\n",
       "    <tr>\n",
       "      <th>408</th>\n",
       "      <td>428</td>\n",
       "      <td>2010</td>\n",
       "      <td>\"Synthetic biology: applications come of age |...</td>\n",
       "      <td>\"https://doi.org/10.1038%2Fnrg2775\"</td>\n",
       "      <td>\"Thank you for visiting nature.com. You are us...</td>\n",
       "    </tr>\n",
       "  </tbody>\n",
       "</table>\n",
       "</div>"
      ],
      "text/plain": [
       "        id  year                                              title  \\\n",
       "1606  1655  2010  \"REBUS and the Anarchic Brain: Toward a Unifie...   \n",
       "401    421  2010  \"Synthetic biology: applications come of age -...   \n",
       "408    428  2010  \"Synthetic biology: applications come of age |...   \n",
       "\n",
       "                                                    url  \\\n",
       "1606            \"https://doi.org/10.1124/pr.118.017160\"   \n",
       "401   \"http://www.ncbi.nlm.nih.gov/pmc/articles/PMC2...   \n",
       "408                 \"https://doi.org/10.1038%2Fnrg2775\"   \n",
       "\n",
       "                                                   text  \n",
       "1606  \"Main menu Home Articles Current Issue Fast Fo...  \n",
       "401   \"An official website of the United States gove...  \n",
       "408   \"Thank you for visiting nature.com. You are us...  "
      ]
     },
     "metadata": {},
     "output_type": "display_data"
    },
    {
     "data": {
      "text/markdown": [
       "---"
      ],
      "text/plain": [
       "<IPython.core.display.Markdown object>"
      ]
     },
     "metadata": {},
     "output_type": "display_data"
    },
    {
     "data": {
      "text/markdown": [
       "### Year: 2011"
      ],
      "text/plain": [
       "<IPython.core.display.Markdown object>"
      ]
     },
     "metadata": {},
     "output_type": "display_data"
    },
    {
     "data": {
      "text/markdown": [
       "Number of articles: 4"
      ],
      "text/plain": [
       "<IPython.core.display.Markdown object>"
      ]
     },
     "metadata": {},
     "output_type": "display_data"
    },
    {
     "data": {
      "text/html": [
       "<div>\n",
       "<style scoped>\n",
       "    .dataframe tbody tr th:only-of-type {\n",
       "        vertical-align: middle;\n",
       "    }\n",
       "\n",
       "    .dataframe tbody tr th {\n",
       "        vertical-align: top;\n",
       "    }\n",
       "\n",
       "    .dataframe thead th {\n",
       "        text-align: right;\n",
       "    }\n",
       "</style>\n",
       "<table border=\"1\" class=\"dataframe\">\n",
       "  <thead>\n",
       "    <tr style=\"text-align: right;\">\n",
       "      <th></th>\n",
       "      <th>id</th>\n",
       "      <th>year</th>\n",
       "      <th>title</th>\n",
       "      <th>url</th>\n",
       "      <th>text</th>\n",
       "    </tr>\n",
       "  </thead>\n",
       "  <tbody>\n",
       "    <tr>\n",
       "      <th>730</th>\n",
       "      <td>756</td>\n",
       "      <td>2011</td>\n",
       "      <td>\"Stochastic gradient descent - Wikipedia\"</td>\n",
       "      <td>\"https://en.wikipedia.org/wiki/Stochastic_grad...</td>\n",
       "      <td>\"Main menu Main page Contents Current events R...</td>\n",
       "    </tr>\n",
       "    <tr>\n",
       "      <th>2059</th>\n",
       "      <td>2114</td>\n",
       "      <td>2011</td>\n",
       "      <td>\"Kurzweil Speaks on the Future of Computer Tra...</td>\n",
       "      <td>\"https://singularityhub.com/2011/06/23/kurzwei...</td>\n",
       "      <td>\"Topics AI Biotech Computing Space Energy Futu...</td>\n",
       "    </tr>\n",
       "    <tr>\n",
       "      <th>2027</th>\n",
       "      <td>2082</td>\n",
       "      <td>2011</td>\n",
       "      <td>\"David J. Hill, Author at Singularity Hub\"</td>\n",
       "      <td>\"https://singularityhub.com/author/dhill\"</td>\n",
       "      <td>\"Topics AI Biotech Computing Space Energy Futu...</td>\n",
       "    </tr>\n",
       "  </tbody>\n",
       "</table>\n",
       "</div>"
      ],
      "text/plain": [
       "        id  year                                              title  \\\n",
       "730    756  2011          \"Stochastic gradient descent - Wikipedia\"   \n",
       "2059  2114  2011  \"Kurzweil Speaks on the Future of Computer Tra...   \n",
       "2027  2082  2011         \"David J. Hill, Author at Singularity Hub\"   \n",
       "\n",
       "                                                    url  \\\n",
       "730   \"https://en.wikipedia.org/wiki/Stochastic_grad...   \n",
       "2059  \"https://singularityhub.com/2011/06/23/kurzwei...   \n",
       "2027          \"https://singularityhub.com/author/dhill\"   \n",
       "\n",
       "                                                   text  \n",
       "730   \"Main menu Main page Contents Current events R...  \n",
       "2059  \"Topics AI Biotech Computing Space Energy Futu...  \n",
       "2027  \"Topics AI Biotech Computing Space Energy Futu...  "
      ]
     },
     "metadata": {},
     "output_type": "display_data"
    },
    {
     "data": {
      "text/markdown": [
       "---"
      ],
      "text/plain": [
       "<IPython.core.display.Markdown object>"
      ]
     },
     "metadata": {},
     "output_type": "display_data"
    },
    {
     "data": {
      "text/markdown": [
       "### Year: 2012"
      ],
      "text/plain": [
       "<IPython.core.display.Markdown object>"
      ]
     },
     "metadata": {},
     "output_type": "display_data"
    },
    {
     "data": {
      "text/markdown": [
       "Number of articles: 8"
      ],
      "text/plain": [
       "<IPython.core.display.Markdown object>"
      ]
     },
     "metadata": {},
     "output_type": "display_data"
    },
    {
     "data": {
      "text/html": [
       "<div>\n",
       "<style scoped>\n",
       "    .dataframe tbody tr th:only-of-type {\n",
       "        vertical-align: middle;\n",
       "    }\n",
       "\n",
       "    .dataframe tbody tr th {\n",
       "        vertical-align: top;\n",
       "    }\n",
       "\n",
       "    .dataframe thead th {\n",
       "        text-align: right;\n",
       "    }\n",
       "</style>\n",
       "<table border=\"1\" class=\"dataframe\">\n",
       "  <thead>\n",
       "    <tr style=\"text-align: right;\">\n",
       "      <th></th>\n",
       "      <th>id</th>\n",
       "      <th>year</th>\n",
       "      <th>title</th>\n",
       "      <th>url</th>\n",
       "      <th>text</th>\n",
       "    </tr>\n",
       "  </thead>\n",
       "  <tbody>\n",
       "    <tr>\n",
       "      <th>985</th>\n",
       "      <td>1017</td>\n",
       "      <td>2012</td>\n",
       "      <td>\"Fiji: an open-source platform for biological-...</td>\n",
       "      <td>\"https://doi.org/10.1038%2Fnmeth.2019\"</td>\n",
       "      <td>\"Thank you for visiting nature.com. You are us...</td>\n",
       "    </tr>\n",
       "    <tr>\n",
       "      <th>1621</th>\n",
       "      <td>1670</td>\n",
       "      <td>2012</td>\n",
       "      <td>\"About Us - Fusion Processing\"</td>\n",
       "      <td>\"https://www.fusionproc.com/about-us\"</td>\n",
       "      <td>\"Autonomous Vehicle Systems CAVstar® Automated...</td>\n",
       "    </tr>\n",
       "    <tr>\n",
       "      <th>2097</th>\n",
       "      <td>2152</td>\n",
       "      <td>2012</td>\n",
       "      <td>\"Weather Analysis and Forecasting - American M...</td>\n",
       "      <td>\"https://www.ametsoc.org/ams/index.cfm/about-a...</td>\n",
       "      <td>\"Attention Internet Explorer User: Parts of th...</td>\n",
       "    </tr>\n",
       "  </tbody>\n",
       "</table>\n",
       "</div>"
      ],
      "text/plain": [
       "        id  year                                              title  \\\n",
       "985   1017  2012  \"Fiji: an open-source platform for biological-...   \n",
       "1621  1670  2012                     \"About Us - Fusion Processing\"   \n",
       "2097  2152  2012  \"Weather Analysis and Forecasting - American M...   \n",
       "\n",
       "                                                    url  \\\n",
       "985              \"https://doi.org/10.1038%2Fnmeth.2019\"   \n",
       "1621              \"https://www.fusionproc.com/about-us\"   \n",
       "2097  \"https://www.ametsoc.org/ams/index.cfm/about-a...   \n",
       "\n",
       "                                                   text  \n",
       "985   \"Thank you for visiting nature.com. You are us...  \n",
       "1621  \"Autonomous Vehicle Systems CAVstar® Automated...  \n",
       "2097  \"Attention Internet Explorer User: Parts of th...  "
      ]
     },
     "metadata": {},
     "output_type": "display_data"
    },
    {
     "data": {
      "text/markdown": [
       "---"
      ],
      "text/plain": [
       "<IPython.core.display.Markdown object>"
      ]
     },
     "metadata": {},
     "output_type": "display_data"
    },
    {
     "data": {
      "text/markdown": [
       "### Year: 2013"
      ],
      "text/plain": [
       "<IPython.core.display.Markdown object>"
      ]
     },
     "metadata": {},
     "output_type": "display_data"
    },
    {
     "data": {
      "text/markdown": [
       "Number of articles: 6"
      ],
      "text/plain": [
       "<IPython.core.display.Markdown object>"
      ]
     },
     "metadata": {},
     "output_type": "display_data"
    },
    {
     "data": {
      "text/html": [
       "<div>\n",
       "<style scoped>\n",
       "    .dataframe tbody tr th:only-of-type {\n",
       "        vertical-align: middle;\n",
       "    }\n",
       "\n",
       "    .dataframe tbody tr th {\n",
       "        vertical-align: top;\n",
       "    }\n",
       "\n",
       "    .dataframe thead th {\n",
       "        text-align: right;\n",
       "    }\n",
       "</style>\n",
       "<table border=\"1\" class=\"dataframe\">\n",
       "  <thead>\n",
       "    <tr style=\"text-align: right;\">\n",
       "      <th></th>\n",
       "      <th>id</th>\n",
       "      <th>year</th>\n",
       "      <th>title</th>\n",
       "      <th>url</th>\n",
       "      <th>text</th>\n",
       "    </tr>\n",
       "  </thead>\n",
       "  <tbody>\n",
       "    <tr>\n",
       "      <th>669</th>\n",
       "      <td>691</td>\n",
       "      <td>2013</td>\n",
       "      <td>\"Tech Policy Lab | University of Washington\"</td>\n",
       "      <td>\"https://techpolicylab.uw.edu\"</td>\n",
       "      <td>\"Tech Policy Lab University of Washington Join...</td>\n",
       "    </tr>\n",
       "    <tr>\n",
       "      <th>2265</th>\n",
       "      <td>2325</td>\n",
       "      <td>2013</td>\n",
       "      <td>\"Annotated List of Beowulf Translations: The L...</td>\n",
       "      <td>\"https://web.archive.org/web/20141121165748/ht...</td>\n",
       "      <td>\"Oct NOV May 21 2013 2014 2016 success fail Ab...</td>\n",
       "    </tr>\n",
       "    <tr>\n",
       "      <th>311</th>\n",
       "      <td>325</td>\n",
       "      <td>2013</td>\n",
       "      <td>\"Chill: Robots Won't Take All Our Jobs | WIRED\"</td>\n",
       "      <td>\"https://www.wired.com/2017/08/robots-will-not...</td>\n",
       "      <td>\"WIRED Logo The Great Tech Panic: Robots Won’t...</td>\n",
       "    </tr>\n",
       "  </tbody>\n",
       "</table>\n",
       "</div>"
      ],
      "text/plain": [
       "        id  year                                              title  \\\n",
       "669    691  2013       \"Tech Policy Lab | University of Washington\"   \n",
       "2265  2325  2013  \"Annotated List of Beowulf Translations: The L...   \n",
       "311    325  2013    \"Chill: Robots Won't Take All Our Jobs | WIRED\"   \n",
       "\n",
       "                                                    url  \\\n",
       "669                      \"https://techpolicylab.uw.edu\"   \n",
       "2265  \"https://web.archive.org/web/20141121165748/ht...   \n",
       "311   \"https://www.wired.com/2017/08/robots-will-not...   \n",
       "\n",
       "                                                   text  \n",
       "669   \"Tech Policy Lab University of Washington Join...  \n",
       "2265  \"Oct NOV May 21 2013 2014 2016 success fail Ab...  \n",
       "311   \"WIRED Logo The Great Tech Panic: Robots Won’t...  "
      ]
     },
     "metadata": {},
     "output_type": "display_data"
    },
    {
     "data": {
      "text/markdown": [
       "---"
      ],
      "text/plain": [
       "<IPython.core.display.Markdown object>"
      ]
     },
     "metadata": {},
     "output_type": "display_data"
    },
    {
     "data": {
      "text/markdown": [
       "### Year: 2014"
      ],
      "text/plain": [
       "<IPython.core.display.Markdown object>"
      ]
     },
     "metadata": {},
     "output_type": "display_data"
    },
    {
     "data": {
      "text/markdown": [
       "Number of articles: 10"
      ],
      "text/plain": [
       "<IPython.core.display.Markdown object>"
      ]
     },
     "metadata": {},
     "output_type": "display_data"
    },
    {
     "data": {
      "text/html": [
       "<div>\n",
       "<style scoped>\n",
       "    .dataframe tbody tr th:only-of-type {\n",
       "        vertical-align: middle;\n",
       "    }\n",
       "\n",
       "    .dataframe tbody tr th {\n",
       "        vertical-align: top;\n",
       "    }\n",
       "\n",
       "    .dataframe thead th {\n",
       "        text-align: right;\n",
       "    }\n",
       "</style>\n",
       "<table border=\"1\" class=\"dataframe\">\n",
       "  <thead>\n",
       "    <tr style=\"text-align: right;\">\n",
       "      <th></th>\n",
       "      <th>id</th>\n",
       "      <th>year</th>\n",
       "      <th>title</th>\n",
       "      <th>url</th>\n",
       "      <th>text</th>\n",
       "    </tr>\n",
       "  </thead>\n",
       "  <tbody>\n",
       "    <tr>\n",
       "      <th>1819</th>\n",
       "      <td>1872</td>\n",
       "      <td>2014</td>\n",
       "      <td>\"IARPA - MICrONS\"</td>\n",
       "      <td>\"https://www.iarpa.gov/research-programs/microns\"</td>\n",
       "      <td>\"The MICrONS program aimed to close the perfor...</td>\n",
       "    </tr>\n",
       "    <tr>\n",
       "      <th>1886</th>\n",
       "      <td>1939</td>\n",
       "      <td>2014</td>\n",
       "      <td>\"Helion secures $2.2B to commercialize fusion ...</td>\n",
       "      <td>\"https://techcrunch.com/2021/11/05/helion-seri...</td>\n",
       "      <td>\"Helion secures $2.2B to commercialize fusion ...</td>\n",
       "    </tr>\n",
       "    <tr>\n",
       "      <th>754</th>\n",
       "      <td>782</td>\n",
       "      <td>2014</td>\n",
       "      <td>\"OII | People\"</td>\n",
       "      <td>\"https://www.oii.ox.ac.uk/people/dphil-students\"</td>\n",
       "      <td>\"Research Research Section Home Research Areas...</td>\n",
       "    </tr>\n",
       "  </tbody>\n",
       "</table>\n",
       "</div>"
      ],
      "text/plain": [
       "        id  year                                              title  \\\n",
       "1819  1872  2014                                  \"IARPA - MICrONS\"   \n",
       "1886  1939  2014  \"Helion secures $2.2B to commercialize fusion ...   \n",
       "754    782  2014                                     \"OII | People\"   \n",
       "\n",
       "                                                    url  \\\n",
       "1819  \"https://www.iarpa.gov/research-programs/microns\"   \n",
       "1886  \"https://techcrunch.com/2021/11/05/helion-seri...   \n",
       "754    \"https://www.oii.ox.ac.uk/people/dphil-students\"   \n",
       "\n",
       "                                                   text  \n",
       "1819  \"The MICrONS program aimed to close the perfor...  \n",
       "1886  \"Helion secures $2.2B to commercialize fusion ...  \n",
       "754   \"Research Research Section Home Research Areas...  "
      ]
     },
     "metadata": {},
     "output_type": "display_data"
    },
    {
     "data": {
      "text/markdown": [
       "---"
      ],
      "text/plain": [
       "<IPython.core.display.Markdown object>"
      ]
     },
     "metadata": {},
     "output_type": "display_data"
    },
    {
     "data": {
      "text/markdown": [
       "### Year: 2015"
      ],
      "text/plain": [
       "<IPython.core.display.Markdown object>"
      ]
     },
     "metadata": {},
     "output_type": "display_data"
    },
    {
     "data": {
      "text/markdown": [
       "Number of articles: 31"
      ],
      "text/plain": [
       "<IPython.core.display.Markdown object>"
      ]
     },
     "metadata": {},
     "output_type": "display_data"
    },
    {
     "data": {
      "text/html": [
       "<div>\n",
       "<style scoped>\n",
       "    .dataframe tbody tr th:only-of-type {\n",
       "        vertical-align: middle;\n",
       "    }\n",
       "\n",
       "    .dataframe tbody tr th {\n",
       "        vertical-align: top;\n",
       "    }\n",
       "\n",
       "    .dataframe thead th {\n",
       "        text-align: right;\n",
       "    }\n",
       "</style>\n",
       "<table border=\"1\" class=\"dataframe\">\n",
       "  <thead>\n",
       "    <tr style=\"text-align: right;\">\n",
       "      <th></th>\n",
       "      <th>id</th>\n",
       "      <th>year</th>\n",
       "      <th>title</th>\n",
       "      <th>url</th>\n",
       "      <th>text</th>\n",
       "    </tr>\n",
       "  </thead>\n",
       "  <tbody>\n",
       "    <tr>\n",
       "      <th>1126</th>\n",
       "      <td>1163</td>\n",
       "      <td>2015</td>\n",
       "      <td>\"Google develops computer program capable of l...</td>\n",
       "      <td>\"https://www.theguardian.com/technology/2015/f...</td>\n",
       "      <td>\"‘Agent’ hailed as first step towards true AI ...</td>\n",
       "    </tr>\n",
       "    <tr>\n",
       "      <th>1207</th>\n",
       "      <td>1254</td>\n",
       "      <td>2015</td>\n",
       "      <td>\"How Gordon Moore Made ‘Moore’s Law’ | WIRED\"</td>\n",
       "      <td>\"https://www.wired.com/2015/04/how-gordon-moor...</td>\n",
       "      <td>\"Open Navigation Menu To revist this article, ...</td>\n",
       "    </tr>\n",
       "    <tr>\n",
       "      <th>360</th>\n",
       "      <td>377</td>\n",
       "      <td>2015</td>\n",
       "      <td>\"Introducing OpenAI\"</td>\n",
       "      <td>\"https://openai.com/blog/introducing-openai\"</td>\n",
       "      <td>\"Close Search Skip to main content Site Naviga...</td>\n",
       "    </tr>\n",
       "  </tbody>\n",
       "</table>\n",
       "</div>"
      ],
      "text/plain": [
       "        id  year                                              title  \\\n",
       "1126  1163  2015  \"Google develops computer program capable of l...   \n",
       "1207  1254  2015      \"How Gordon Moore Made ‘Moore’s Law’ | WIRED\"   \n",
       "360    377  2015                               \"Introducing OpenAI\"   \n",
       "\n",
       "                                                    url  \\\n",
       "1126  \"https://www.theguardian.com/technology/2015/f...   \n",
       "1207  \"https://www.wired.com/2015/04/how-gordon-moor...   \n",
       "360        \"https://openai.com/blog/introducing-openai\"   \n",
       "\n",
       "                                                   text  \n",
       "1126  \"‘Agent’ hailed as first step towards true AI ...  \n",
       "1207  \"Open Navigation Menu To revist this article, ...  \n",
       "360   \"Close Search Skip to main content Site Naviga...  "
      ]
     },
     "metadata": {},
     "output_type": "display_data"
    },
    {
     "data": {
      "text/markdown": [
       "---"
      ],
      "text/plain": [
       "<IPython.core.display.Markdown object>"
      ]
     },
     "metadata": {},
     "output_type": "display_data"
    },
    {
     "data": {
      "text/markdown": [
       "### Year: 2016"
      ],
      "text/plain": [
       "<IPython.core.display.Markdown object>"
      ]
     },
     "metadata": {},
     "output_type": "display_data"
    },
    {
     "data": {
      "text/markdown": [
       "Number of articles: 56"
      ],
      "text/plain": [
       "<IPython.core.display.Markdown object>"
      ]
     },
     "metadata": {},
     "output_type": "display_data"
    },
    {
     "data": {
      "text/html": [
       "<div>\n",
       "<style scoped>\n",
       "    .dataframe tbody tr th:only-of-type {\n",
       "        vertical-align: middle;\n",
       "    }\n",
       "\n",
       "    .dataframe tbody tr th {\n",
       "        vertical-align: top;\n",
       "    }\n",
       "\n",
       "    .dataframe thead th {\n",
       "        text-align: right;\n",
       "    }\n",
       "</style>\n",
       "<table border=\"1\" class=\"dataframe\">\n",
       "  <thead>\n",
       "    <tr style=\"text-align: right;\">\n",
       "      <th></th>\n",
       "      <th>id</th>\n",
       "      <th>year</th>\n",
       "      <th>title</th>\n",
       "      <th>url</th>\n",
       "      <th>text</th>\n",
       "    </tr>\n",
       "  </thead>\n",
       "  <tbody>\n",
       "    <tr>\n",
       "      <th>777</th>\n",
       "      <td>807</td>\n",
       "      <td>2016</td>\n",
       "      <td>\"Deep neural reasoning | Nature\"</td>\n",
       "      <td>\"https://www.nature.com/articles/nature19477\"</td>\n",
       "      <td>\"Thank you for visiting nature.com. You are us...</td>\n",
       "    </tr>\n",
       "    <tr>\n",
       "      <th>701</th>\n",
       "      <td>726</td>\n",
       "      <td>2016</td>\n",
       "      <td>\"Artificial intelligence, revealed - Engineeri...</td>\n",
       "      <td>\"https://code.fb.com/ai-research/ai-revealed\"</td>\n",
       "      <td>\"Open Source Open Source Meta Open Source Plat...</td>\n",
       "    </tr>\n",
       "    <tr>\n",
       "      <th>2033</th>\n",
       "      <td>2088</td>\n",
       "      <td>2016</td>\n",
       "      <td>\"Artificial Intelligence Explodes: New Deal Ac...</td>\n",
       "      <td>\"https://www.cbinsights.com/blog/artificial-in...</td>\n",
       "      <td>\"Platform Data Customers About Login Toggle Me...</td>\n",
       "    </tr>\n",
       "  </tbody>\n",
       "</table>\n",
       "</div>"
      ],
      "text/plain": [
       "        id  year                                              title  \\\n",
       "777    807  2016                   \"Deep neural reasoning | Nature\"   \n",
       "701    726  2016  \"Artificial intelligence, revealed - Engineeri...   \n",
       "2033  2088  2016  \"Artificial Intelligence Explodes: New Deal Ac...   \n",
       "\n",
       "                                                    url  \\\n",
       "777       \"https://www.nature.com/articles/nature19477\"   \n",
       "701       \"https://code.fb.com/ai-research/ai-revealed\"   \n",
       "2033  \"https://www.cbinsights.com/blog/artificial-in...   \n",
       "\n",
       "                                                   text  \n",
       "777   \"Thank you for visiting nature.com. You are us...  \n",
       "701   \"Open Source Open Source Meta Open Source Plat...  \n",
       "2033  \"Platform Data Customers About Login Toggle Me...  "
      ]
     },
     "metadata": {},
     "output_type": "display_data"
    },
    {
     "data": {
      "text/markdown": [
       "---"
      ],
      "text/plain": [
       "<IPython.core.display.Markdown object>"
      ]
     },
     "metadata": {},
     "output_type": "display_data"
    },
    {
     "data": {
      "text/markdown": [
       "### Year: 2017"
      ],
      "text/plain": [
       "<IPython.core.display.Markdown object>"
      ]
     },
     "metadata": {},
     "output_type": "display_data"
    },
    {
     "data": {
      "text/markdown": [
       "Number of articles: 82"
      ],
      "text/plain": [
       "<IPython.core.display.Markdown object>"
      ]
     },
     "metadata": {},
     "output_type": "display_data"
    },
    {
     "data": {
      "text/html": [
       "<div>\n",
       "<style scoped>\n",
       "    .dataframe tbody tr th:only-of-type {\n",
       "        vertical-align: middle;\n",
       "    }\n",
       "\n",
       "    .dataframe tbody tr th {\n",
       "        vertical-align: top;\n",
       "    }\n",
       "\n",
       "    .dataframe thead th {\n",
       "        text-align: right;\n",
       "    }\n",
       "</style>\n",
       "<table border=\"1\" class=\"dataframe\">\n",
       "  <thead>\n",
       "    <tr style=\"text-align: right;\">\n",
       "      <th></th>\n",
       "      <th>id</th>\n",
       "      <th>year</th>\n",
       "      <th>title</th>\n",
       "      <th>url</th>\n",
       "      <th>text</th>\n",
       "    </tr>\n",
       "  </thead>\n",
       "  <tbody>\n",
       "    <tr>\n",
       "      <th>2325</th>\n",
       "      <td>2390</td>\n",
       "      <td>2017</td>\n",
       "      <td>\"Learning from human preferences\"</td>\n",
       "      <td>\"https://openai.com/blog/deep-reinforcement-le...</td>\n",
       "      <td>\"Close Search Skip to main content Site Naviga...</td>\n",
       "    </tr>\n",
       "    <tr>\n",
       "      <th>709</th>\n",
       "      <td>734</td>\n",
       "      <td>2017</td>\n",
       "      <td>\"IndabaX - Deep Learning Indaba 2022\"</td>\n",
       "      <td>\"https://deeplearningindaba.com/2022/indabax\"</td>\n",
       "      <td>\"Indaba Programme Posters and Demos Coding and...</td>\n",
       "    </tr>\n",
       "    <tr>\n",
       "      <th>1315</th>\n",
       "      <td>1363</td>\n",
       "      <td>2017</td>\n",
       "      <td>\"This Self-Driving AI Is Learning to Drive Alm...</td>\n",
       "      <td>\"https://singularityhub.com/2017/12/18/this-se...</td>\n",
       "      <td>\"Topics AI Biotech Computing Space Energy Futu...</td>\n",
       "    </tr>\n",
       "  </tbody>\n",
       "</table>\n",
       "</div>"
      ],
      "text/plain": [
       "        id  year                                              title  \\\n",
       "2325  2390  2017                  \"Learning from human preferences\"   \n",
       "709    734  2017              \"IndabaX - Deep Learning Indaba 2022\"   \n",
       "1315  1363  2017  \"This Self-Driving AI Is Learning to Drive Alm...   \n",
       "\n",
       "                                                    url  \\\n",
       "2325  \"https://openai.com/blog/deep-reinforcement-le...   \n",
       "709       \"https://deeplearningindaba.com/2022/indabax\"   \n",
       "1315  \"https://singularityhub.com/2017/12/18/this-se...   \n",
       "\n",
       "                                                   text  \n",
       "2325  \"Close Search Skip to main content Site Naviga...  \n",
       "709   \"Indaba Programme Posters and Demos Coding and...  \n",
       "1315  \"Topics AI Biotech Computing Space Energy Futu...  "
      ]
     },
     "metadata": {},
     "output_type": "display_data"
    },
    {
     "data": {
      "text/markdown": [
       "---"
      ],
      "text/plain": [
       "<IPython.core.display.Markdown object>"
      ]
     },
     "metadata": {},
     "output_type": "display_data"
    },
    {
     "data": {
      "text/markdown": [
       "### Year: 2018"
      ],
      "text/plain": [
       "<IPython.core.display.Markdown object>"
      ]
     },
     "metadata": {},
     "output_type": "display_data"
    },
    {
     "data": {
      "text/markdown": [
       "Number of articles: 100"
      ],
      "text/plain": [
       "<IPython.core.display.Markdown object>"
      ]
     },
     "metadata": {},
     "output_type": "display_data"
    },
    {
     "data": {
      "text/html": [
       "<div>\n",
       "<style scoped>\n",
       "    .dataframe tbody tr th:only-of-type {\n",
       "        vertical-align: middle;\n",
       "    }\n",
       "\n",
       "    .dataframe tbody tr th {\n",
       "        vertical-align: top;\n",
       "    }\n",
       "\n",
       "    .dataframe thead th {\n",
       "        text-align: right;\n",
       "    }\n",
       "</style>\n",
       "<table border=\"1\" class=\"dataframe\">\n",
       "  <thead>\n",
       "    <tr style=\"text-align: right;\">\n",
       "      <th></th>\n",
       "      <th>id</th>\n",
       "      <th>year</th>\n",
       "      <th>title</th>\n",
       "      <th>url</th>\n",
       "      <th>text</th>\n",
       "    </tr>\n",
       "  </thead>\n",
       "  <tbody>\n",
       "    <tr>\n",
       "      <th>1023</th>\n",
       "      <td>1055</td>\n",
       "      <td>2018</td>\n",
       "      <td>\"Clinically applicable deep learning for diagn...</td>\n",
       "      <td>\"https://www.nature.com/articles/s41591-018-01...</td>\n",
       "      <td>\"Thank you for visiting nature.com. You are us...</td>\n",
       "    </tr>\n",
       "    <tr>\n",
       "      <th>1017</th>\n",
       "      <td>1049</td>\n",
       "      <td>2018</td>\n",
       "      <td>\"Clinically applicable deep learning for diagn...</td>\n",
       "      <td>\"https://www.nature.com/articles/s41591-018-01...</td>\n",
       "      <td>\"Thank you for visiting nature.com. You are us...</td>\n",
       "    </tr>\n",
       "    <tr>\n",
       "      <th>1034</th>\n",
       "      <td>1066</td>\n",
       "      <td>2018</td>\n",
       "      <td>\"Clinically applicable deep learning for diagn...</td>\n",
       "      <td>\"https://www.nature.com/articles/s41591-018-01...</td>\n",
       "      <td>\"Thank you for visiting nature.com. You are us...</td>\n",
       "    </tr>\n",
       "  </tbody>\n",
       "</table>\n",
       "</div>"
      ],
      "text/plain": [
       "        id  year                                              title  \\\n",
       "1023  1055  2018  \"Clinically applicable deep learning for diagn...   \n",
       "1017  1049  2018  \"Clinically applicable deep learning for diagn...   \n",
       "1034  1066  2018  \"Clinically applicable deep learning for diagn...   \n",
       "\n",
       "                                                    url  \\\n",
       "1023  \"https://www.nature.com/articles/s41591-018-01...   \n",
       "1017  \"https://www.nature.com/articles/s41591-018-01...   \n",
       "1034  \"https://www.nature.com/articles/s41591-018-01...   \n",
       "\n",
       "                                                   text  \n",
       "1023  \"Thank you for visiting nature.com. You are us...  \n",
       "1017  \"Thank you for visiting nature.com. You are us...  \n",
       "1034  \"Thank you for visiting nature.com. You are us...  "
      ]
     },
     "metadata": {},
     "output_type": "display_data"
    },
    {
     "data": {
      "text/markdown": [
       "---"
      ],
      "text/plain": [
       "<IPython.core.display.Markdown object>"
      ]
     },
     "metadata": {},
     "output_type": "display_data"
    },
    {
     "data": {
      "text/markdown": [
       "### Year: 2019"
      ],
      "text/plain": [
       "<IPython.core.display.Markdown object>"
      ]
     },
     "metadata": {},
     "output_type": "display_data"
    },
    {
     "data": {
      "text/markdown": [
       "Number of articles: 100"
      ],
      "text/plain": [
       "<IPython.core.display.Markdown object>"
      ]
     },
     "metadata": {},
     "output_type": "display_data"
    },
    {
     "data": {
      "text/html": [
       "<div>\n",
       "<style scoped>\n",
       "    .dataframe tbody tr th:only-of-type {\n",
       "        vertical-align: middle;\n",
       "    }\n",
       "\n",
       "    .dataframe tbody tr th {\n",
       "        vertical-align: top;\n",
       "    }\n",
       "\n",
       "    .dataframe thead th {\n",
       "        text-align: right;\n",
       "    }\n",
       "</style>\n",
       "<table border=\"1\" class=\"dataframe\">\n",
       "  <thead>\n",
       "    <tr style=\"text-align: right;\">\n",
       "      <th></th>\n",
       "      <th>id</th>\n",
       "      <th>year</th>\n",
       "      <th>title</th>\n",
       "      <th>url</th>\n",
       "      <th>text</th>\n",
       "    </tr>\n",
       "  </thead>\n",
       "  <tbody>\n",
       "    <tr>\n",
       "      <th>1355</th>\n",
       "      <td>1404</td>\n",
       "      <td>2019</td>\n",
       "      <td>\"Hello quantum world! Google publishes landmar...</td>\n",
       "      <td>\"https://www.nature.com/articles/d41586-019-03...</td>\n",
       "      <td>\"Thank you for visiting nature.com. You are us...</td>\n",
       "    </tr>\n",
       "    <tr>\n",
       "      <th>331</th>\n",
       "      <td>346</td>\n",
       "      <td>2019</td>\n",
       "      <td>\"Here’s how we can break up Big Tech | by Team...</td>\n",
       "      <td>\"https://medium.com/@teamwarren/heres-how-we-c...</td>\n",
       "      <td>\"Here’s how we can break up Big Tech Team Warr...</td>\n",
       "    </tr>\n",
       "    <tr>\n",
       "      <th>773</th>\n",
       "      <td>801</td>\n",
       "      <td>2019</td>\n",
       "      <td>\"DeepMind Research on Ladder — StarCraft II — ...</td>\n",
       "      <td>\"https://news.blizzard.com/en-us/starcraft2/22...</td>\n",
       "      <td>\"® ® ® ® ® ® ® ® ® ® ® ® ® ® ® ® ® ® ® ® ® ® ®...</td>\n",
       "    </tr>\n",
       "  </tbody>\n",
       "</table>\n",
       "</div>"
      ],
      "text/plain": [
       "        id  year                                              title  \\\n",
       "1355  1404  2019  \"Hello quantum world! Google publishes landmar...   \n",
       "331    346  2019  \"Here’s how we can break up Big Tech | by Team...   \n",
       "773    801  2019  \"DeepMind Research on Ladder — StarCraft II — ...   \n",
       "\n",
       "                                                    url  \\\n",
       "1355  \"https://www.nature.com/articles/d41586-019-03...   \n",
       "331   \"https://medium.com/@teamwarren/heres-how-we-c...   \n",
       "773   \"https://news.blizzard.com/en-us/starcraft2/22...   \n",
       "\n",
       "                                                   text  \n",
       "1355  \"Thank you for visiting nature.com. You are us...  \n",
       "331   \"Here’s how we can break up Big Tech Team Warr...  \n",
       "773   \"® ® ® ® ® ® ® ® ® ® ® ® ® ® ® ® ® ® ® ® ® ® ®...  "
      ]
     },
     "metadata": {},
     "output_type": "display_data"
    },
    {
     "data": {
      "text/markdown": [
       "---"
      ],
      "text/plain": [
       "<IPython.core.display.Markdown object>"
      ]
     },
     "metadata": {},
     "output_type": "display_data"
    },
    {
     "data": {
      "text/markdown": [
       "### Year: 2020"
      ],
      "text/plain": [
       "<IPython.core.display.Markdown object>"
      ]
     },
     "metadata": {},
     "output_type": "display_data"
    },
    {
     "data": {
      "text/markdown": [
       "Number of articles: 100"
      ],
      "text/plain": [
       "<IPython.core.display.Markdown object>"
      ]
     },
     "metadata": {},
     "output_type": "display_data"
    },
    {
     "data": {
      "text/html": [
       "<div>\n",
       "<style scoped>\n",
       "    .dataframe tbody tr th:only-of-type {\n",
       "        vertical-align: middle;\n",
       "    }\n",
       "\n",
       "    .dataframe tbody tr th {\n",
       "        vertical-align: top;\n",
       "    }\n",
       "\n",
       "    .dataframe thead th {\n",
       "        text-align: right;\n",
       "    }\n",
       "</style>\n",
       "<table border=\"1\" class=\"dataframe\">\n",
       "  <thead>\n",
       "    <tr style=\"text-align: right;\">\n",
       "      <th></th>\n",
       "      <th>id</th>\n",
       "      <th>year</th>\n",
       "      <th>title</th>\n",
       "      <th>url</th>\n",
       "      <th>text</th>\n",
       "    </tr>\n",
       "  </thead>\n",
       "  <tbody>\n",
       "    <tr>\n",
       "      <th>2155</th>\n",
       "      <td>2211</td>\n",
       "      <td>2020</td>\n",
       "      <td>\"Enforcing Against Manipulated Media | Meta\"</td>\n",
       "      <td>\"https://about.fb.com/news/2020/01/enforcing-a...</td>\n",
       "      <td>\"Viewing this site in English Portugese German...</td>\n",
       "    </tr>\n",
       "    <tr>\n",
       "      <th>2168</th>\n",
       "      <td>2224</td>\n",
       "      <td>2020</td>\n",
       "      <td>\"Beijing to build $2 billion AI research park:...</td>\n",
       "      <td>\"https://www.reuters.com/article/us-china-arti...</td>\n",
       "      <td>\"Discover Thomson Reuters for-phone-only for-t...</td>\n",
       "    </tr>\n",
       "    <tr>\n",
       "      <th>85</th>\n",
       "      <td>90</td>\n",
       "      <td>2020</td>\n",
       "      <td>\"MuZero: Mastering Go, chess, shogi and Atari ...</td>\n",
       "      <td>\"https://deepmind.com/blog/article/muzero-mast...</td>\n",
       "      <td>\"DeepMind Search Search Close DeepMind About O...</td>\n",
       "    </tr>\n",
       "  </tbody>\n",
       "</table>\n",
       "</div>"
      ],
      "text/plain": [
       "        id  year                                              title  \\\n",
       "2155  2211  2020       \"Enforcing Against Manipulated Media | Meta\"   \n",
       "2168  2224  2020  \"Beijing to build $2 billion AI research park:...   \n",
       "85      90  2020  \"MuZero: Mastering Go, chess, shogi and Atari ...   \n",
       "\n",
       "                                                    url  \\\n",
       "2155  \"https://about.fb.com/news/2020/01/enforcing-a...   \n",
       "2168  \"https://www.reuters.com/article/us-china-arti...   \n",
       "85    \"https://deepmind.com/blog/article/muzero-mast...   \n",
       "\n",
       "                                                   text  \n",
       "2155  \"Viewing this site in English Portugese German...  \n",
       "2168  \"Discover Thomson Reuters for-phone-only for-t...  \n",
       "85    \"DeepMind Search Search Close DeepMind About O...  "
      ]
     },
     "metadata": {},
     "output_type": "display_data"
    },
    {
     "data": {
      "text/markdown": [
       "---"
      ],
      "text/plain": [
       "<IPython.core.display.Markdown object>"
      ]
     },
     "metadata": {},
     "output_type": "display_data"
    },
    {
     "data": {
      "text/markdown": [
       "### Year: 2021"
      ],
      "text/plain": [
       "<IPython.core.display.Markdown object>"
      ]
     },
     "metadata": {},
     "output_type": "display_data"
    },
    {
     "data": {
      "text/markdown": [
       "Number of articles: 100"
      ],
      "text/plain": [
       "<IPython.core.display.Markdown object>"
      ]
     },
     "metadata": {},
     "output_type": "display_data"
    },
    {
     "data": {
      "text/html": [
       "<div>\n",
       "<style scoped>\n",
       "    .dataframe tbody tr th:only-of-type {\n",
       "        vertical-align: middle;\n",
       "    }\n",
       "\n",
       "    .dataframe tbody tr th {\n",
       "        vertical-align: top;\n",
       "    }\n",
       "\n",
       "    .dataframe thead th {\n",
       "        text-align: right;\n",
       "    }\n",
       "</style>\n",
       "<table border=\"1\" class=\"dataframe\">\n",
       "  <thead>\n",
       "    <tr style=\"text-align: right;\">\n",
       "      <th></th>\n",
       "      <th>id</th>\n",
       "      <th>year</th>\n",
       "      <th>title</th>\n",
       "      <th>url</th>\n",
       "      <th>text</th>\n",
       "    </tr>\n",
       "  </thead>\n",
       "  <tbody>\n",
       "    <tr>\n",
       "      <th>541</th>\n",
       "      <td>562</td>\n",
       "      <td>2021</td>\n",
       "      <td>\"Podcast: What is AI? We made this radio play ...</td>\n",
       "      <td>\"https://www.technologyreview.com/2021/11/24/1...</td>\n",
       "      <td>\"Featured Topics Newsletters Events Podcasts F...</td>\n",
       "    </tr>\n",
       "    <tr>\n",
       "      <th>128</th>\n",
       "      <td>139</td>\n",
       "      <td>2021</td>\n",
       "      <td>\"Cerebras Upgrades Trillion-Transistor Chip to...</td>\n",
       "      <td>\"https://singularityhub.com/2021/08/27/cerebra...</td>\n",
       "      <td>\"Topics AI Biotech Computing Space Energy Futu...</td>\n",
       "    </tr>\n",
       "    <tr>\n",
       "      <th>171</th>\n",
       "      <td>182</td>\n",
       "      <td>2021</td>\n",
       "      <td>\"This Week’s Awesome Tech Stories From Around ...</td>\n",
       "      <td>\"https://singularityhub.com/2021/08/28/this-we...</td>\n",
       "      <td>\"Topics AI Biotech Computing Space Energy Futu...</td>\n",
       "    </tr>\n",
       "  </tbody>\n",
       "</table>\n",
       "</div>"
      ],
      "text/plain": [
       "      id  year                                              title  \\\n",
       "541  562  2021  \"Podcast: What is AI? We made this radio play ...   \n",
       "128  139  2021  \"Cerebras Upgrades Trillion-Transistor Chip to...   \n",
       "171  182  2021  \"This Week’s Awesome Tech Stories From Around ...   \n",
       "\n",
       "                                                   url  \\\n",
       "541  \"https://www.technologyreview.com/2021/11/24/1...   \n",
       "128  \"https://singularityhub.com/2021/08/27/cerebra...   \n",
       "171  \"https://singularityhub.com/2021/08/28/this-we...   \n",
       "\n",
       "                                                  text  \n",
       "541  \"Featured Topics Newsletters Events Podcasts F...  \n",
       "128  \"Topics AI Biotech Computing Space Energy Futu...  \n",
       "171  \"Topics AI Biotech Computing Space Energy Futu...  "
      ]
     },
     "metadata": {},
     "output_type": "display_data"
    },
    {
     "data": {
      "text/markdown": [
       "---"
      ],
      "text/plain": [
       "<IPython.core.display.Markdown object>"
      ]
     },
     "metadata": {},
     "output_type": "display_data"
    },
    {
     "data": {
      "text/markdown": [
       "### Year: 2022"
      ],
      "text/plain": [
       "<IPython.core.display.Markdown object>"
      ]
     },
     "metadata": {},
     "output_type": "display_data"
    },
    {
     "data": {
      "text/markdown": [
       "Number of articles: 100"
      ],
      "text/plain": [
       "<IPython.core.display.Markdown object>"
      ]
     },
     "metadata": {},
     "output_type": "display_data"
    },
    {
     "data": {
      "text/html": [
       "<div>\n",
       "<style scoped>\n",
       "    .dataframe tbody tr th:only-of-type {\n",
       "        vertical-align: middle;\n",
       "    }\n",
       "\n",
       "    .dataframe tbody tr th {\n",
       "        vertical-align: top;\n",
       "    }\n",
       "\n",
       "    .dataframe thead th {\n",
       "        text-align: right;\n",
       "    }\n",
       "</style>\n",
       "<table border=\"1\" class=\"dataframe\">\n",
       "  <thead>\n",
       "    <tr style=\"text-align: right;\">\n",
       "      <th></th>\n",
       "      <th>id</th>\n",
       "      <th>year</th>\n",
       "      <th>title</th>\n",
       "      <th>url</th>\n",
       "      <th>text</th>\n",
       "    </tr>\n",
       "  </thead>\n",
       "  <tbody>\n",
       "    <tr>\n",
       "      <th>872</th>\n",
       "      <td>903</td>\n",
       "      <td>2022</td>\n",
       "      <td>\"Magnetic control of tokamak plasmas through d...</td>\n",
       "      <td>\"https://www.nature.com/articles/s41586-021-04...</td>\n",
       "      <td>\"Thank you for visiting nature.com. You are us...</td>\n",
       "    </tr>\n",
       "    <tr>\n",
       "      <th>1539</th>\n",
       "      <td>1588</td>\n",
       "      <td>2022</td>\n",
       "      <td>\"Multi-qubit entanglement and algorithms on a ...</td>\n",
       "      <td>\"https://www.nature.com/articles/s41586-022-04...</td>\n",
       "      <td>\"Thank you for visiting nature.com. You are us...</td>\n",
       "    </tr>\n",
       "    <tr>\n",
       "      <th>1538</th>\n",
       "      <td>1587</td>\n",
       "      <td>2022</td>\n",
       "      <td>\"Multi-qubit entanglement and algorithms on a ...</td>\n",
       "      <td>\"https://www.nature.com/articles/s41586-022-04...</td>\n",
       "      <td>\"Thank you for visiting nature.com. You are us...</td>\n",
       "    </tr>\n",
       "  </tbody>\n",
       "</table>\n",
       "</div>"
      ],
      "text/plain": [
       "        id  year                                              title  \\\n",
       "872    903  2022  \"Magnetic control of tokamak plasmas through d...   \n",
       "1539  1588  2022  \"Multi-qubit entanglement and algorithms on a ...   \n",
       "1538  1587  2022  \"Multi-qubit entanglement and algorithms on a ...   \n",
       "\n",
       "                                                    url  \\\n",
       "872   \"https://www.nature.com/articles/s41586-021-04...   \n",
       "1539  \"https://www.nature.com/articles/s41586-022-04...   \n",
       "1538  \"https://www.nature.com/articles/s41586-022-04...   \n",
       "\n",
       "                                                   text  \n",
       "872   \"Thank you for visiting nature.com. You are us...  \n",
       "1539  \"Thank you for visiting nature.com. You are us...  \n",
       "1538  \"Thank you for visiting nature.com. You are us...  "
      ]
     },
     "metadata": {},
     "output_type": "display_data"
    },
    {
     "data": {
      "text/markdown": [
       "---"
      ],
      "text/plain": [
       "<IPython.core.display.Markdown object>"
      ]
     },
     "metadata": {},
     "output_type": "display_data"
    },
    {
     "data": {
      "text/markdown": [
       "### Year: 2023"
      ],
      "text/plain": [
       "<IPython.core.display.Markdown object>"
      ]
     },
     "metadata": {},
     "output_type": "display_data"
    },
    {
     "data": {
      "text/markdown": [
       "Number of articles: 100"
      ],
      "text/plain": [
       "<IPython.core.display.Markdown object>"
      ]
     },
     "metadata": {},
     "output_type": "display_data"
    },
    {
     "data": {
      "text/html": [
       "<div>\n",
       "<style scoped>\n",
       "    .dataframe tbody tr th:only-of-type {\n",
       "        vertical-align: middle;\n",
       "    }\n",
       "\n",
       "    .dataframe tbody tr th {\n",
       "        vertical-align: top;\n",
       "    }\n",
       "\n",
       "    .dataframe thead th {\n",
       "        text-align: right;\n",
       "    }\n",
       "</style>\n",
       "<table border=\"1\" class=\"dataframe\">\n",
       "  <thead>\n",
       "    <tr style=\"text-align: right;\">\n",
       "      <th></th>\n",
       "      <th>id</th>\n",
       "      <th>year</th>\n",
       "      <th>title</th>\n",
       "      <th>url</th>\n",
       "      <th>text</th>\n",
       "    </tr>\n",
       "  </thead>\n",
       "  <tbody>\n",
       "    <tr>\n",
       "      <th>1800</th>\n",
       "      <td>1853</td>\n",
       "      <td>2023</td>\n",
       "      <td>\"Topics - Singularity Hub\"</td>\n",
       "      <td>\"https://singularityhub.com/2021/12/14/the-twi...</td>\n",
       "      <td>\"Topics AI Biotech Computing Space Energy Futu...</td>\n",
       "    </tr>\n",
       "    <tr>\n",
       "      <th>1858</th>\n",
       "      <td>1911</td>\n",
       "      <td>2023</td>\n",
       "      <td>\"Topics - Singularity Hub\"</td>\n",
       "      <td>\"https://singularityhub.com/2021/09/18/this-we...</td>\n",
       "      <td>\"Topics AI Biotech Computing Space Energy Futu...</td>\n",
       "    </tr>\n",
       "    <tr>\n",
       "      <th>2134</th>\n",
       "      <td>2189</td>\n",
       "      <td>2023</td>\n",
       "      <td>\"Topics - Singularity Hub\"</td>\n",
       "      <td>\"https://singularityhub.com/2020/06/03/artific...</td>\n",
       "      <td>\"Topics AI Biotech Computing Space Energy Futu...</td>\n",
       "    </tr>\n",
       "  </tbody>\n",
       "</table>\n",
       "</div>"
      ],
      "text/plain": [
       "        id  year                       title  \\\n",
       "1800  1853  2023  \"Topics - Singularity Hub\"   \n",
       "1858  1911  2023  \"Topics - Singularity Hub\"   \n",
       "2134  2189  2023  \"Topics - Singularity Hub\"   \n",
       "\n",
       "                                                    url  \\\n",
       "1800  \"https://singularityhub.com/2021/12/14/the-twi...   \n",
       "1858  \"https://singularityhub.com/2021/09/18/this-we...   \n",
       "2134  \"https://singularityhub.com/2020/06/03/artific...   \n",
       "\n",
       "                                                   text  \n",
       "1800  \"Topics AI Biotech Computing Space Energy Futu...  \n",
       "1858  \"Topics AI Biotech Computing Space Energy Futu...  \n",
       "2134  \"Topics AI Biotech Computing Space Energy Futu...  "
      ]
     },
     "metadata": {},
     "output_type": "display_data"
    },
    {
     "data": {
      "text/markdown": [
       "---"
      ],
      "text/plain": [
       "<IPython.core.display.Markdown object>"
      ]
     },
     "metadata": {},
     "output_type": "display_data"
    }
   ],
   "source": [
    "for year in year_dictionary:\n",
    "    display(Markdown(f\"### Year: {year}\"))\n",
    "    display(Markdown(f\"Number of articles: {len(year_dictionary[year])}\"))\n",
    "    display(year_dictionary[year].head(3))\n",
    "    display(Markdown(\"---\"))"
   ]
  },
  {
   "cell_type": "markdown",
   "metadata": {},
   "source": [
    "Now that we have the year dictionary we can begin the process of sentiment analysis.\n",
    "\n",
    "The sentiment analysis model will return a sentiment number for each file. This number will then be averaged across all the files to get an average sentiment for the year.\n",
    "\n",
    "From there we can do cosine similarity and plot sentiment for each year."
   ]
  },
  {
   "cell_type": "code",
   "execution_count": 216,
   "metadata": {},
   "outputs": [],
   "source": [
    "def add_sentiment(dataframe):\n",
    "\n",
    "    sentiment_model = SentimentIntensityAnalyzer()\n",
    "    neg_list = []\n",
    "    neu_list = []\n",
    "    pos_list = []\n",
    "    comp_list = []\n",
    "\n",
    "\n",
    "    for text in dataframe['text']:\n",
    "        score_dict = sentiment_model.polarity_scores(text)\n",
    "        neg_list.append(score_dict['neg'])\n",
    "        neu_list.append(score_dict['neu'])\n",
    "        pos_list.append(score_dict['pos'])\n",
    "        comp_list.append(score_dict['compound'])\n",
    "    \n",
    "    dataframe['negative'] = neg_list\n",
    "    dataframe['neutral'] =  neu_list\n",
    "    dataframe['positive'] = pos_list\n",
    "    dataframe['compound'] = comp_list\n"
   ]
  },
  {
   "cell_type": "code",
   "execution_count": 187,
   "metadata": {},
   "outputs": [],
   "source": [
    "# text = [\"CS89 is an amazing class!\"]\n",
    "\n",
    "# df = pd.DataFrame({'Text': text})\n",
    "\n",
    "# add_sentiment(df)\n",
    "# display(df)"
   ]
  },
  {
   "cell_type": "code",
   "execution_count": 217,
   "metadata": {},
   "outputs": [],
   "source": [
    "for df in year_dictionary.values():\n",
    "    add_sentiment(df)"
   ]
  },
  {
   "cell_type": "code",
   "execution_count": 218,
   "metadata": {},
   "outputs": [],
   "source": [
    "def get_sentiment(df, sentiment_type):\n",
    "    return np.mean(df[sentiment_type])"
   ]
  },
  {
   "cell_type": "code",
   "execution_count": 219,
   "metadata": {},
   "outputs": [],
   "source": [
    "def get_sentiment_data(year_dict):\n",
    "    \n",
    "    sentiment_types = ['negative', 'neutral', 'positive', 'compound']\n",
    "    sentiment_df = pd.DataFrame(columns=['year', 'negative', 'neutral', 'positive', 'compound'])\n",
    "    index = 0\n",
    "\n",
    "    for year, df in year_dict.items():\n",
    "        data_list = [int(year)]\n",
    "\n",
    "        for s_type in sentiment_types:\n",
    "            data_list.append(get_sentiment(df,s_type))\n",
    "            \n",
    "        sentiment_df.loc[index] = data_list\n",
    "        index = index + 1\n",
    "\n",
    "    return sentiment_df"
   ]
  },
  {
   "cell_type": "code",
   "execution_count": 220,
   "metadata": {},
   "outputs": [
    {
     "data": {
      "text/html": [
       "<div>\n",
       "<style scoped>\n",
       "    .dataframe tbody tr th:only-of-type {\n",
       "        vertical-align: middle;\n",
       "    }\n",
       "\n",
       "    .dataframe tbody tr th {\n",
       "        vertical-align: top;\n",
       "    }\n",
       "\n",
       "    .dataframe thead th {\n",
       "        text-align: right;\n",
       "    }\n",
       "</style>\n",
       "<table border=\"1\" class=\"dataframe\">\n",
       "  <thead>\n",
       "    <tr style=\"text-align: right;\">\n",
       "      <th></th>\n",
       "      <th>year</th>\n",
       "      <th>negative</th>\n",
       "      <th>neutral</th>\n",
       "      <th>positive</th>\n",
       "      <th>compound</th>\n",
       "    </tr>\n",
       "  </thead>\n",
       "  <tbody>\n",
       "    <tr>\n",
       "      <th>0</th>\n",
       "      <td>2001.0</td>\n",
       "      <td>0.023667</td>\n",
       "      <td>0.904000</td>\n",
       "      <td>0.072333</td>\n",
       "      <td>0.999967</td>\n",
       "    </tr>\n",
       "    <tr>\n",
       "      <th>1</th>\n",
       "      <td>2003.0</td>\n",
       "      <td>0.040000</td>\n",
       "      <td>0.892000</td>\n",
       "      <td>0.069000</td>\n",
       "      <td>0.999800</td>\n",
       "    </tr>\n",
       "    <tr>\n",
       "      <th>2</th>\n",
       "      <td>2004.0</td>\n",
       "      <td>0.112000</td>\n",
       "      <td>0.795000</td>\n",
       "      <td>0.093000</td>\n",
       "      <td>-0.999700</td>\n",
       "    </tr>\n",
       "    <tr>\n",
       "      <th>3</th>\n",
       "      <td>2005.0</td>\n",
       "      <td>0.008500</td>\n",
       "      <td>0.912667</td>\n",
       "      <td>0.078833</td>\n",
       "      <td>0.997717</td>\n",
       "    </tr>\n",
       "    <tr>\n",
       "      <th>4</th>\n",
       "      <td>2006.0</td>\n",
       "      <td>0.049250</td>\n",
       "      <td>0.864250</td>\n",
       "      <td>0.086500</td>\n",
       "      <td>0.499525</td>\n",
       "    </tr>\n",
       "    <tr>\n",
       "      <th>5</th>\n",
       "      <td>2007.0</td>\n",
       "      <td>0.033000</td>\n",
       "      <td>0.909000</td>\n",
       "      <td>0.058000</td>\n",
       "      <td>0.997967</td>\n",
       "    </tr>\n",
       "    <tr>\n",
       "      <th>6</th>\n",
       "      <td>2008.0</td>\n",
       "      <td>0.022800</td>\n",
       "      <td>0.865600</td>\n",
       "      <td>0.111600</td>\n",
       "      <td>0.998080</td>\n",
       "    </tr>\n",
       "    <tr>\n",
       "      <th>7</th>\n",
       "      <td>2009.0</td>\n",
       "      <td>0.052167</td>\n",
       "      <td>0.873583</td>\n",
       "      <td>0.074417</td>\n",
       "      <td>0.661642</td>\n",
       "    </tr>\n",
       "    <tr>\n",
       "      <th>8</th>\n",
       "      <td>2010.0</td>\n",
       "      <td>0.032000</td>\n",
       "      <td>0.895000</td>\n",
       "      <td>0.072667</td>\n",
       "      <td>0.999867</td>\n",
       "    </tr>\n",
       "    <tr>\n",
       "      <th>9</th>\n",
       "      <td>2011.0</td>\n",
       "      <td>0.021000</td>\n",
       "      <td>0.894000</td>\n",
       "      <td>0.084500</td>\n",
       "      <td>0.997550</td>\n",
       "    </tr>\n",
       "    <tr>\n",
       "      <th>10</th>\n",
       "      <td>2012.0</td>\n",
       "      <td>0.038250</td>\n",
       "      <td>0.860000</td>\n",
       "      <td>0.102000</td>\n",
       "      <td>0.748300</td>\n",
       "    </tr>\n",
       "    <tr>\n",
       "      <th>11</th>\n",
       "      <td>2013.0</td>\n",
       "      <td>0.035000</td>\n",
       "      <td>0.855833</td>\n",
       "      <td>0.109000</td>\n",
       "      <td>0.998067</td>\n",
       "    </tr>\n",
       "    <tr>\n",
       "      <th>12</th>\n",
       "      <td>2014.0</td>\n",
       "      <td>0.024800</td>\n",
       "      <td>0.901500</td>\n",
       "      <td>0.073900</td>\n",
       "      <td>0.998640</td>\n",
       "    </tr>\n",
       "    <tr>\n",
       "      <th>13</th>\n",
       "      <td>2015.0</td>\n",
       "      <td>0.044355</td>\n",
       "      <td>0.851452</td>\n",
       "      <td>0.104161</td>\n",
       "      <td>0.746326</td>\n",
       "    </tr>\n",
       "    <tr>\n",
       "      <th>14</th>\n",
       "      <td>2016.0</td>\n",
       "      <td>0.032286</td>\n",
       "      <td>0.856286</td>\n",
       "      <td>0.111536</td>\n",
       "      <td>0.997798</td>\n",
       "    </tr>\n",
       "    <tr>\n",
       "      <th>15</th>\n",
       "      <td>2017.0</td>\n",
       "      <td>0.029756</td>\n",
       "      <td>0.851463</td>\n",
       "      <td>0.118744</td>\n",
       "      <td>0.956228</td>\n",
       "    </tr>\n",
       "    <tr>\n",
       "      <th>16</th>\n",
       "      <td>2018.0</td>\n",
       "      <td>0.036820</td>\n",
       "      <td>0.870140</td>\n",
       "      <td>0.093030</td>\n",
       "      <td>0.939603</td>\n",
       "    </tr>\n",
       "    <tr>\n",
       "      <th>17</th>\n",
       "      <td>2019.0</td>\n",
       "      <td>0.044110</td>\n",
       "      <td>0.857050</td>\n",
       "      <td>0.098890</td>\n",
       "      <td>0.918837</td>\n",
       "    </tr>\n",
       "    <tr>\n",
       "      <th>18</th>\n",
       "      <td>2020.0</td>\n",
       "      <td>0.041960</td>\n",
       "      <td>0.861150</td>\n",
       "      <td>0.096850</td>\n",
       "      <td>0.858302</td>\n",
       "    </tr>\n",
       "    <tr>\n",
       "      <th>19</th>\n",
       "      <td>2021.0</td>\n",
       "      <td>0.042820</td>\n",
       "      <td>0.862890</td>\n",
       "      <td>0.094350</td>\n",
       "      <td>0.761352</td>\n",
       "    </tr>\n",
       "    <tr>\n",
       "      <th>20</th>\n",
       "      <td>2022.0</td>\n",
       "      <td>0.041540</td>\n",
       "      <td>0.877640</td>\n",
       "      <td>0.081020</td>\n",
       "      <td>0.979357</td>\n",
       "    </tr>\n",
       "    <tr>\n",
       "      <th>21</th>\n",
       "      <td>2023.0</td>\n",
       "      <td>0.021430</td>\n",
       "      <td>0.857100</td>\n",
       "      <td>0.121600</td>\n",
       "      <td>0.972241</td>\n",
       "    </tr>\n",
       "  </tbody>\n",
       "</table>\n",
       "</div>"
      ],
      "text/plain": [
       "      year  negative   neutral  positive  compound\n",
       "0   2001.0  0.023667  0.904000  0.072333  0.999967\n",
       "1   2003.0  0.040000  0.892000  0.069000  0.999800\n",
       "2   2004.0  0.112000  0.795000  0.093000 -0.999700\n",
       "3   2005.0  0.008500  0.912667  0.078833  0.997717\n",
       "4   2006.0  0.049250  0.864250  0.086500  0.499525\n",
       "5   2007.0  0.033000  0.909000  0.058000  0.997967\n",
       "6   2008.0  0.022800  0.865600  0.111600  0.998080\n",
       "7   2009.0  0.052167  0.873583  0.074417  0.661642\n",
       "8   2010.0  0.032000  0.895000  0.072667  0.999867\n",
       "9   2011.0  0.021000  0.894000  0.084500  0.997550\n",
       "10  2012.0  0.038250  0.860000  0.102000  0.748300\n",
       "11  2013.0  0.035000  0.855833  0.109000  0.998067\n",
       "12  2014.0  0.024800  0.901500  0.073900  0.998640\n",
       "13  2015.0  0.044355  0.851452  0.104161  0.746326\n",
       "14  2016.0  0.032286  0.856286  0.111536  0.997798\n",
       "15  2017.0  0.029756  0.851463  0.118744  0.956228\n",
       "16  2018.0  0.036820  0.870140  0.093030  0.939603\n",
       "17  2019.0  0.044110  0.857050  0.098890  0.918837\n",
       "18  2020.0  0.041960  0.861150  0.096850  0.858302\n",
       "19  2021.0  0.042820  0.862890  0.094350  0.761352\n",
       "20  2022.0  0.041540  0.877640  0.081020  0.979357\n",
       "21  2023.0  0.021430  0.857100  0.121600  0.972241"
      ]
     },
     "metadata": {},
     "output_type": "display_data"
    }
   ],
   "source": [
    "sentiment_data_df = get_sentiment_data(year_dictionary)\n",
    "display(sentiment_data_df)"
   ]
  },
  {
   "cell_type": "markdown",
   "metadata": {},
   "source": [
    "Plot the data with years on the x-axis and the sentiment types in different colors."
   ]
  },
  {
   "cell_type": "code",
   "execution_count": 221,
   "metadata": {},
   "outputs": [],
   "source": [
    "def plot_sentiment(df, title):\n",
    "    sentiment_types = ['negative', 'neutral', 'positive', 'compound']\n",
    "    colors_list = ['red', 'blue', 'gold', 'black'] \n",
    "    color_choice = 0\n",
    "\n",
    "    for sentiment_type in sentiment_types:\n",
    "        plt.plot(df['year'], df[sentiment_type], \"o--\", label=sentiment_type, color=colors_list[color_choice])\n",
    "        color_choice = color_choice + 1\n",
    "\n",
    "    plt.legend()\n",
    "    plt.title(title)\n",
    "    plt.xlabel('Year')\n",
    "    plt.ylabel('Sentiment Score')\n",
    "    plt.show()"
   ]
  },
  {
   "cell_type": "code",
   "execution_count": 222,
   "metadata": {},
   "outputs": [
    {
     "data": {
      "image/png": "[encoded data removed]",
      "text/plain": [
       "<Figure size 640x480 with 1 Axes>"
      ]
     },
     "metadata": {},
     "output_type": "display_data"
    }
   ],
   "source": [
    "plot_sentiment(sentiment_data_df, \"Sentiment over the years\")"
   ]
  },
  {
   "cell_type": "markdown",
   "metadata": {},
   "source": [
    "We can also perform topic modeling on the data. We can then analyze the sentiment within the context of the specific topic. \n",
    "\n",
    "I will be using the title column for each file to get an idea of the topic for A.I. Since we are only using the titles, I believe that utilizing LDA topic modeling should be sufficient. \n"
   ]
  },
  {
   "cell_type": "code",
   "execution_count": 223,
   "metadata": {},
   "outputs": [],
   "source": [
    "def clean_titles(text, url):\n",
    "    start = url.find('https://') + len('https://')\n",
    "    start = url.find('www.') + len('www.')if 'www.' in url else start\n",
    "\n",
    "    new_url = url[start:]\n",
    "    end = new_url.find(\".\") \n",
    "    \n",
    "    name = url[start:start+end]\n",
    "    text = re.sub(name, \"\", text.lower())\n",
    "\n",
    "    return text\n"
   ]
  },
  {
   "cell_type": "code",
   "execution_count": 195,
   "metadata": {},
   "outputs": [],
   "source": [
    "#print(clean_titles(\"This is an example\",\"https://example.com\"))\n"
   ]
  },
  {
   "cell_type": "code",
   "execution_count": 224,
   "metadata": {},
   "outputs": [],
   "source": [
    "def get_titles(dictionary):\n",
    "\n",
    "    all_titles = []\n",
    "\n",
    "    for df in dictionary.values():\n",
    "        titles = df[['title', 'url']].apply(lambda row: clean_titles(row['title'], row['url']), axis=1)\n",
    "        titles = titles.to_list()\n",
    "        all_titles.append(titles)\n",
    "\n",
    "    return all_titles"
   ]
  },
  {
   "cell_type": "code",
   "execution_count": 225,
   "metadata": {},
   "outputs": [],
   "source": [
    "titles = get_titles(year_dictionary)\n"
   ]
  },
  {
   "cell_type": "code",
   "execution_count": 226,
   "metadata": {},
   "outputs": [],
   "source": [
    "def lemmatize(text):\n",
    "    \n",
    "    lemmer = WordNetLemmatizer()\n",
    "    pos_set = set(['n', 'a', 'v'])\n",
    "\n",
    "    lemmatized_text = [lemmer.lemmatize(tok, pos='n') if pos[0].lower() in pos_set else lemmer.lemmatize(tok) \n",
    "                        for sent in text for tok, pos in pos_tag(sent, tagset='universal')]\n",
    "    \n",
    "    return lemmatized_text"
   ]
  },
  {
   "cell_type": "code",
   "execution_count": 227,
   "metadata": {},
   "outputs": [],
   "source": [
    "def process_text(text):\n",
    "    text = lemmatize(text)\n",
    "    vect = CountVectorizer(stop_words='english')\n",
    "    features = vect.fit_transform(text)\n",
    "    vocabulary = vect.get_feature_names()\n",
    "    return features, vocabulary"
   ]
  },
  {
   "cell_type": "code",
   "execution_count": 228,
   "metadata": {},
   "outputs": [
    {
     "name": "stderr",
     "output_type": "stream",
     "text": [
      "/Library/Frameworks/Python.framework/Versions/3.10/lib/python3.10/site-packages/sklearn/utils/deprecation.py:87: FutureWarning: Function get_feature_names is deprecated; get_feature_names is deprecated in 1.0 and will be removed in 1.2. Please use get_feature_names_out instead.\n",
      "  warnings.warn(msg, category=FutureWarning)\n"
     ]
    }
   ],
   "source": [
    "processed_titles, vocabulary = process_text(titles)"
   ]
  },
  {
   "cell_type": "code",
   "execution_count": 229,
   "metadata": {},
   "outputs": [],
   "source": [
    "def get_add_topics(features, vocabulary, dictionary):\n",
    "    topic_dict ={}\n",
    "    \n",
    "    lda_model = LatentDirichletAllocation(n_components=10, learning_method='online',random_state=42).fit(features)\n",
    "\n",
    "    topic_num = 0\n",
    "    for words in lda_model.components_:\n",
    "        top_10_list = words.argsort()[:-10 - 1:-1]\n",
    "        top_10 = [vocabulary[index] for index in top_10_list]\n",
    "        topic_dict[topic_num] = top_10\n",
    "        topic_num = topic_num + 1\n",
    "\n",
    "    topics = lda_model.transform(features)\n",
    "    topics.shape\n",
    "\n",
    "    topic_index = -1\n",
    "    for df in dictionary.values():\n",
    "        title_topic = [topics[topic_index+i].argmax() for i in range(1,len(df)+1)]\n",
    "        df['topic'] = title_topic\n",
    "        topic_index = topic_index + len(df)\n",
    "\n",
    "    return topic_dict"
   ]
  },
  {
   "cell_type": "code",
   "execution_count": 230,
   "metadata": {},
   "outputs": [],
   "source": [
    "topics = get_add_topics(processed_titles, vocabulary, year_dictionary)"
   ]
  },
  {
   "cell_type": "code",
   "execution_count": 238,
   "metadata": {},
   "outputs": [
    {
     "data": {
      "text/markdown": [
       "### Topic: 0"
      ],
      "text/plain": [
       "<IPython.core.display.Markdown object>"
      ]
     },
     "metadata": {},
     "output_type": "display_data"
    },
    {
     "data": {
      "text/markdown": [
       "Top 10 words:"
      ],
      "text/plain": [
       "<IPython.core.display.Markdown object>"
      ]
     },
     "metadata": {},
     "output_type": "display_data"
    },
    {
     "data": {
      "text/plain": [
       "'quantum, atom, based, processor, transport, arrays, coherent, entangled, algorithms, neutral'"
      ]
     },
     "metadata": {},
     "output_type": "display_data"
    },
    {
     "data": {
      "text/markdown": [
       "---"
      ],
      "text/plain": [
       "<IPython.core.display.Markdown object>"
      ]
     },
     "metadata": {},
     "output_type": "display_data"
    },
    {
     "data": {
      "text/markdown": [
       "### Topic: 1"
      ],
      "text/plain": [
       "<IPython.core.display.Markdown object>"
      ]
     },
     "metadata": {},
     "output_type": "display_data"
    },
    {
     "data": {
      "text/markdown": [
       "Top 10 words:"
      ],
      "text/plain": [
       "<IPython.core.display.Markdown object>"
      ]
     },
     "metadata": {},
     "output_type": "display_data"
    },
    {
     "data": {
      "text/plain": [
       "'ai, technology, review, mit, data, science, nyu, center, research, 35'"
      ]
     },
     "metadata": {},
     "output_type": "display_data"
    },
    {
     "data": {
      "text/markdown": [
       "---"
      ],
      "text/plain": [
       "<IPython.core.display.Markdown object>"
      ]
     },
     "metadata": {},
     "output_type": "display_data"
    },
    {
     "data": {
      "text/markdown": [
       "### Topic: 2"
      ],
      "text/plain": [
       "<IPython.core.display.Markdown object>"
      ]
     },
     "metadata": {},
     "output_type": "display_data"
    },
    {
     "data": {
      "text/markdown": [
       "Top 10 words:"
      ],
      "text/plain": [
       "<IPython.core.display.Markdown object>"
      ]
     },
     "metadata": {},
     "output_type": "display_data"
    },
    {
     "data": {
      "text/plain": [
       "'new, artificial, intelligence, ai, google, brain, digital, china, conference, like'"
      ]
     },
     "metadata": {},
     "output_type": "display_data"
    },
    {
     "data": {
      "text/markdown": [
       "---"
      ],
      "text/plain": [
       "<IPython.core.display.Markdown object>"
      ]
     },
     "metadata": {},
     "output_type": "display_data"
    },
    {
     "data": {
      "text/markdown": [
       "### Topic: 3"
      ],
      "text/plain": [
       "<IPython.core.display.Markdown object>"
      ]
     },
     "metadata": {},
     "output_type": "display_data"
    },
    {
     "data": {
      "text/markdown": [
       "Top 10 words:"
      ],
      "text/plain": [
       "<IPython.core.display.Markdown object>"
      ]
     },
     "metadata": {},
     "output_type": "display_data"
    },
    {
     "data": {
      "text/plain": [
       "'singularity, hub, topics, learning, deep, medicine, quantum, google, disease, diagnosis'"
      ]
     },
     "metadata": {},
     "output_type": "display_data"
    },
    {
     "data": {
      "text/markdown": [
       "---"
      ],
      "text/plain": [
       "<IPython.core.display.Markdown object>"
      ]
     },
     "metadata": {},
     "output_type": "display_data"
    },
    {
     "data": {
      "text/markdown": [
       "### Topic: 4"
      ],
      "text/plain": [
       "<IPython.core.display.Markdown object>"
      ]
     },
     "metadata": {},
     "output_type": "display_data"
    },
    {
     "data": {
      "text/markdown": [
       "Top 10 words:"
      ],
      "text/plain": [
       "<IPython.core.display.Markdown object>"
      ]
     },
     "metadata": {},
     "output_type": "display_data"
    },
    {
     "data": {
      "text/plain": [
       "'using, related, age, predicting, macular, degeneration, conversion, wet, future, science'"
      ]
     },
     "metadata": {},
     "output_type": "display_data"
    },
    {
     "data": {
      "text/markdown": [
       "---"
      ],
      "text/plain": [
       "<IPython.core.display.Markdown object>"
      ]
     },
     "metadata": {},
     "output_type": "display_data"
    },
    {
     "data": {
      "text/markdown": [
       "### Topic: 5"
      ],
      "text/plain": [
       "<IPython.core.display.Markdown object>"
      ]
     },
     "metadata": {},
     "output_type": "display_data"
    },
    {
     "data": {
      "text/markdown": [
       "Top 10 words:"
      ],
      "text/plain": [
       "<IPython.core.display.Markdown object>"
      ]
     },
     "metadata": {},
     "output_type": "display_data"
    },
    {
     "data": {
      "text/plain": [
       "'robots, magazine, quanta, verge, people, world, matter, wikipedia, building, microsoft'"
      ]
     },
     "metadata": {},
     "output_type": "display_data"
    },
    {
     "data": {
      "text/markdown": [
       "---"
      ],
      "text/plain": [
       "<IPython.core.display.Markdown object>"
      ]
     },
     "metadata": {},
     "output_type": "display_data"
    },
    {
     "data": {
      "text/markdown": [
       "### Topic: 6"
      ],
      "text/plain": [
       "<IPython.core.display.Markdown object>"
      ]
     },
     "metadata": {},
     "output_type": "display_data"
    },
    {
     "data": {
      "text/markdown": [
       "Top 10 words:"
      ],
      "text/plain": [
       "<IPython.core.display.Markdown object>"
      ]
     },
     "metadata": {},
     "output_type": "display_data"
    },
    {
     "data": {
      "text/plain": [
       "'materials, detection, sensors, wearable, biomolecule, biotechnology, embedded, brain, therapy, biology'"
      ]
     },
     "metadata": {},
     "output_type": "display_data"
    },
    {
     "data": {
      "text/markdown": [
       "---"
      ],
      "text/plain": [
       "<IPython.core.display.Markdown object>"
      ]
     },
     "metadata": {},
     "output_type": "display_data"
    },
    {
     "data": {
      "text/markdown": [
       "### Topic: 7"
      ],
      "text/plain": [
       "<IPython.core.display.Markdown object>"
      ]
     },
     "metadata": {},
     "output_type": "display_data"
    },
    {
     "data": {
      "text/markdown": [
       "Top 10 words:"
      ],
      "text/plain": [
       "<IPython.core.display.Markdown object>"
      ]
     },
     "metadata": {},
     "output_type": "display_data"
    },
    {
     "data": {
      "text/plain": [
       "'tech, web, stories, week, awesome, energy, law, moore, machine, platform'"
      ]
     },
     "metadata": {},
     "output_type": "display_data"
    },
    {
     "data": {
      "text/markdown": [
       "---"
      ],
      "text/plain": [
       "<IPython.core.display.Markdown object>"
      ]
     },
     "metadata": {},
     "output_type": "display_data"
    },
    {
     "data": {
      "text/markdown": [
       "### Topic: 8"
      ],
      "text/plain": [
       "<IPython.core.display.Markdown object>"
      ]
     },
     "metadata": {},
     "output_type": "display_data"
    },
    {
     "data": {
      "text/markdown": [
       "Top 10 words:"
      ],
      "text/plain": [
       "<IPython.core.display.Markdown object>"
      ]
     },
     "metadata": {},
     "output_type": "display_data"
    },
    {
     "data": {
      "text/plain": [
       "'best, ai, iclr, 2023, 2022, make, list, 10, musk, elon'"
      ]
     },
     "metadata": {},
     "output_type": "display_data"
    },
    {
     "data": {
      "text/markdown": [
       "---"
      ],
      "text/plain": [
       "<IPython.core.display.Markdown object>"
      ]
     },
     "metadata": {},
     "output_type": "display_data"
    },
    {
     "data": {
      "text/markdown": [
       "### Topic: 9"
      ],
      "text/plain": [
       "<IPython.core.display.Markdown object>"
      ]
     },
     "metadata": {},
     "output_type": "display_data"
    },
    {
     "data": {
      "text/markdown": [
       "Top 10 words:"
      ],
      "text/plain": [
       "<IPython.core.display.Markdown object>"
      ]
     },
     "metadata": {},
     "output_type": "display_data"
    },
    {
     "data": {
      "text/plain": [
       "'synthetic, ai, machines, biology, future, human, like, pmc, humans, wants'"
      ]
     },
     "metadata": {},
     "output_type": "display_data"
    },
    {
     "data": {
      "text/markdown": [
       "---"
      ],
      "text/plain": [
       "<IPython.core.display.Markdown object>"
      ]
     },
     "metadata": {},
     "output_type": "display_data"
    }
   ],
   "source": [
    "\n",
    "for topic in topics:\n",
    "    display(Markdown(f\"### Topic: {topic}\"))\n",
    "    display(Markdown(f\"Top 10 words:\"))\n",
    "    display(\", \".join(topics[topic]))\n",
    "    display(Markdown(\"---\"))"
   ]
  },
  {
   "cell_type": "code",
   "execution_count": 204,
   "metadata": {},
   "outputs": [],
   "source": [
    "#print(year_dictionary[2023]['topic'].values)"
   ]
  },
  {
   "cell_type": "markdown",
   "metadata": {},
   "source": [
    "Now we can create dataframes grouped by topic and map the sentiment."
   ]
  },
  {
   "cell_type": "code",
   "execution_count": 232,
   "metadata": {},
   "outputs": [],
   "source": [
    "def create_topics_dict(dictionary):\n",
    "    \n",
    "    new_dict = {}\n",
    "    \n",
    "    for topic_num in range(10):\n",
    "        topic_df = pd.DataFrame()\n",
    "\n",
    "        for df in dictionary.values():\n",
    "            temp_df = df[df['topic'] == topic_num]\n",
    "            topic_df = pd.concat([topic_df, temp_df])\n",
    "        \n",
    "        new_dict[topic_num] = topic_df\n",
    "    \n",
    "    return new_dict"
   ]
  },
  {
   "cell_type": "code",
   "execution_count": 233,
   "metadata": {},
   "outputs": [
    {
     "data": {
      "text/markdown": [
       "### Topic: 0"
      ],
      "text/plain": [
       "<IPython.core.display.Markdown object>"
      ]
     },
     "metadata": {},
     "output_type": "display_data"
    },
    {
     "data": {
      "text/markdown": [
       "Number of articles: 54"
      ],
      "text/plain": [
       "<IPython.core.display.Markdown object>"
      ]
     },
     "metadata": {},
     "output_type": "display_data"
    },
    {
     "data": {
      "text/html": [
       "<div>\n",
       "<style scoped>\n",
       "    .dataframe tbody tr th:only-of-type {\n",
       "        vertical-align: middle;\n",
       "    }\n",
       "\n",
       "    .dataframe tbody tr th {\n",
       "        vertical-align: top;\n",
       "    }\n",
       "\n",
       "    .dataframe thead th {\n",
       "        text-align: right;\n",
       "    }\n",
       "</style>\n",
       "<table border=\"1\" class=\"dataframe\">\n",
       "  <thead>\n",
       "    <tr style=\"text-align: right;\">\n",
       "      <th></th>\n",
       "      <th>id</th>\n",
       "      <th>year</th>\n",
       "      <th>title</th>\n",
       "      <th>url</th>\n",
       "      <th>text</th>\n",
       "      <th>negative</th>\n",
       "      <th>neutral</th>\n",
       "      <th>positive</th>\n",
       "      <th>compound</th>\n",
       "      <th>topic</th>\n",
       "    </tr>\n",
       "  </thead>\n",
       "  <tbody>\n",
       "    <tr>\n",
       "      <th>1327</th>\n",
       "      <td>1375</td>\n",
       "      <td>2009</td>\n",
       "      <td>\"Next Generation Nuclear Power - Scientific Am...</td>\n",
       "      <td>\"https://www.scientificamerican.com/article/ne...</td>\n",
       "      <td>\"Menu Scientific American Sign In | Newsletter...</td>\n",
       "      <td>0.072</td>\n",
       "      <td>0.827</td>\n",
       "      <td>0.101</td>\n",
       "      <td>0.9994</td>\n",
       "      <td>0</td>\n",
       "    </tr>\n",
       "    <tr>\n",
       "      <th>2104</th>\n",
       "      <td>2159</td>\n",
       "      <td>2013</td>\n",
       "      <td>\"FDA Approves Eye Implant Enabling The Blind T...</td>\n",
       "      <td>\"https://singularityhub.com/2013/02/19/fda-app...</td>\n",
       "      <td>\"Topics AI Biotech Computing Space Energy Futu...</td>\n",
       "      <td>0.036</td>\n",
       "      <td>0.838</td>\n",
       "      <td>0.126</td>\n",
       "      <td>0.9975</td>\n",
       "      <td>0</td>\n",
       "    </tr>\n",
       "    <tr>\n",
       "      <th>2319</th>\n",
       "      <td>2383</td>\n",
       "      <td>2013</td>\n",
       "      <td>\"Books | Resources | Greater Good\"</td>\n",
       "      <td>\"https://greatergood.berkeley.edu/resources/bo...</td>\n",
       "      <td>\"Greater Good Science Center • Magazine • In A...</td>\n",
       "      <td>0.063</td>\n",
       "      <td>0.720</td>\n",
       "      <td>0.218</td>\n",
       "      <td>1.0000</td>\n",
       "      <td>0</td>\n",
       "    </tr>\n",
       "  </tbody>\n",
       "</table>\n",
       "</div>"
      ],
      "text/plain": [
       "        id  year                                              title  \\\n",
       "1327  1375  2009  \"Next Generation Nuclear Power - Scientific Am...   \n",
       "2104  2159  2013  \"FDA Approves Eye Implant Enabling The Blind T...   \n",
       "2319  2383  2013                 \"Books | Resources | Greater Good\"   \n",
       "\n",
       "                                                    url  \\\n",
       "1327  \"https://www.scientificamerican.com/article/ne...   \n",
       "2104  \"https://singularityhub.com/2013/02/19/fda-app...   \n",
       "2319  \"https://greatergood.berkeley.edu/resources/bo...   \n",
       "\n",
       "                                                   text  negative  neutral  \\\n",
       "1327  \"Menu Scientific American Sign In | Newsletter...     0.072    0.827   \n",
       "2104  \"Topics AI Biotech Computing Space Energy Futu...     0.036    0.838   \n",
       "2319  \"Greater Good Science Center • Magazine • In A...     0.063    0.720   \n",
       "\n",
       "      positive  compound  topic  \n",
       "1327     0.101    0.9994      0  \n",
       "2104     0.126    0.9975      0  \n",
       "2319     0.218    1.0000      0  "
      ]
     },
     "metadata": {},
     "output_type": "display_data"
    },
    {
     "data": {
      "text/markdown": [
       "---"
      ],
      "text/plain": [
       "<IPython.core.display.Markdown object>"
      ]
     },
     "metadata": {},
     "output_type": "display_data"
    },
    {
     "data": {
      "text/markdown": [
       "### Topic: 1"
      ],
      "text/plain": [
       "<IPython.core.display.Markdown object>"
      ]
     },
     "metadata": {},
     "output_type": "display_data"
    },
    {
     "data": {
      "text/markdown": [
       "Number of articles: 145"
      ],
      "text/plain": [
       "<IPython.core.display.Markdown object>"
      ]
     },
     "metadata": {},
     "output_type": "display_data"
    },
    {
     "data": {
      "text/html": [
       "<div>\n",
       "<style scoped>\n",
       "    .dataframe tbody tr th:only-of-type {\n",
       "        vertical-align: middle;\n",
       "    }\n",
       "\n",
       "    .dataframe tbody tr th {\n",
       "        vertical-align: top;\n",
       "    }\n",
       "\n",
       "    .dataframe thead th {\n",
       "        text-align: right;\n",
       "    }\n",
       "</style>\n",
       "<table border=\"1\" class=\"dataframe\">\n",
       "  <thead>\n",
       "    <tr style=\"text-align: right;\">\n",
       "      <th></th>\n",
       "      <th>id</th>\n",
       "      <th>year</th>\n",
       "      <th>title</th>\n",
       "      <th>url</th>\n",
       "      <th>text</th>\n",
       "      <th>negative</th>\n",
       "      <th>neutral</th>\n",
       "      <th>positive</th>\n",
       "      <th>compound</th>\n",
       "      <th>topic</th>\n",
       "    </tr>\n",
       "  </thead>\n",
       "  <tbody>\n",
       "    <tr>\n",
       "      <th>697</th>\n",
       "      <td>720</td>\n",
       "      <td>2006</td>\n",
       "      <td>\"\"CBLL, Research Projects, Computational and B...</td>\n",
       "      <td>\"http://www.cs.nyu.edu/~yann/research\"</td>\n",
       "      <td>\"CBLL HOME VLG Group News/Events Seminars Peop...</td>\n",
       "      <td>0.032</td>\n",
       "      <td>0.896</td>\n",
       "      <td>0.072</td>\n",
       "      <td>0.9977</td>\n",
       "      <td>1</td>\n",
       "    </tr>\n",
       "    <tr>\n",
       "      <th>897</th>\n",
       "      <td>928</td>\n",
       "      <td>2006</td>\n",
       "      <td>\"Project MUSE - The History of Ideas: Precept ...</td>\n",
       "      <td>\"https://doi.org/10.1353%2Fjhi.2006.0006\"</td>\n",
       "      <td>\"Access provided by Dartmouth College Library ...</td>\n",
       "      <td>0.041</td>\n",
       "      <td>0.832</td>\n",
       "      <td>0.126</td>\n",
       "      <td>1.0000</td>\n",
       "      <td>1</td>\n",
       "    </tr>\n",
       "    <tr>\n",
       "      <th>699</th>\n",
       "      <td>723</td>\n",
       "      <td>2007</td>\n",
       "      <td>\"\"CBLL, Research Projects, Computational and B...</td>\n",
       "      <td>\"http://www.cs.nyu.edu/~yann/research/relreg\"</td>\n",
       "      <td>\"CBLL HOME VLG Group News/Events Seminars Peop...</td>\n",
       "      <td>0.032</td>\n",
       "      <td>0.904</td>\n",
       "      <td>0.064</td>\n",
       "      <td>0.9942</td>\n",
       "      <td>1</td>\n",
       "    </tr>\n",
       "  </tbody>\n",
       "</table>\n",
       "</div>"
      ],
      "text/plain": [
       "      id  year                                              title  \\\n",
       "697  720  2006  \"\"CBLL, Research Projects, Computational and B...   \n",
       "897  928  2006  \"Project MUSE - The History of Ideas: Precept ...   \n",
       "699  723  2007  \"\"CBLL, Research Projects, Computational and B...   \n",
       "\n",
       "                                               url  \\\n",
       "697         \"http://www.cs.nyu.edu/~yann/research\"   \n",
       "897      \"https://doi.org/10.1353%2Fjhi.2006.0006\"   \n",
       "699  \"http://www.cs.nyu.edu/~yann/research/relreg\"   \n",
       "\n",
       "                                                  text  negative  neutral  \\\n",
       "697  \"CBLL HOME VLG Group News/Events Seminars Peop...     0.032    0.896   \n",
       "897  \"Access provided by Dartmouth College Library ...     0.041    0.832   \n",
       "699  \"CBLL HOME VLG Group News/Events Seminars Peop...     0.032    0.904   \n",
       "\n",
       "     positive  compound  topic  \n",
       "697     0.072    0.9977      1  \n",
       "897     0.126    1.0000      1  \n",
       "699     0.064    0.9942      1  "
      ]
     },
     "metadata": {},
     "output_type": "display_data"
    },
    {
     "data": {
      "text/markdown": [
       "---"
      ],
      "text/plain": [
       "<IPython.core.display.Markdown object>"
      ]
     },
     "metadata": {},
     "output_type": "display_data"
    },
    {
     "data": {
      "text/markdown": [
       "### Topic: 2"
      ],
      "text/plain": [
       "<IPython.core.display.Markdown object>"
      ]
     },
     "metadata": {},
     "output_type": "display_data"
    },
    {
     "data": {
      "text/markdown": [
       "Number of articles: 91"
      ],
      "text/plain": [
       "<IPython.core.display.Markdown object>"
      ]
     },
     "metadata": {},
     "output_type": "display_data"
    },
    {
     "data": {
      "text/html": [
       "<div>\n",
       "<style scoped>\n",
       "    .dataframe tbody tr th:only-of-type {\n",
       "        vertical-align: middle;\n",
       "    }\n",
       "\n",
       "    .dataframe tbody tr th {\n",
       "        vertical-align: top;\n",
       "    }\n",
       "\n",
       "    .dataframe thead th {\n",
       "        text-align: right;\n",
       "    }\n",
       "</style>\n",
       "<table border=\"1\" class=\"dataframe\">\n",
       "  <thead>\n",
       "    <tr style=\"text-align: right;\">\n",
       "      <th></th>\n",
       "      <th>id</th>\n",
       "      <th>year</th>\n",
       "      <th>title</th>\n",
       "      <th>url</th>\n",
       "      <th>text</th>\n",
       "      <th>negative</th>\n",
       "      <th>neutral</th>\n",
       "      <th>positive</th>\n",
       "      <th>compound</th>\n",
       "      <th>topic</th>\n",
       "    </tr>\n",
       "  </thead>\n",
       "  <tbody>\n",
       "    <tr>\n",
       "      <th>899</th>\n",
       "      <td>930</td>\n",
       "      <td>2009</td>\n",
       "      <td>\"Implementing an online help desk system based...</td>\n",
       "      <td>\"https://doi.org/10.1145%2F1643823.1643908\"</td>\n",
       "      <td>\"Dartmouth College Advanced Search Browse Abou...</td>\n",
       "      <td>0.008</td>\n",
       "      <td>0.906</td>\n",
       "      <td>0.086</td>\n",
       "      <td>0.9966</td>\n",
       "      <td>2</td>\n",
       "    </tr>\n",
       "    <tr>\n",
       "      <th>2097</th>\n",
       "      <td>2152</td>\n",
       "      <td>2012</td>\n",
       "      <td>\"Weather Analysis and Forecasting - American M...</td>\n",
       "      <td>\"https://www.ametsoc.org/ams/index.cfm/about-a...</td>\n",
       "      <td>\"Attention Internet Explorer User: Parts of th...</td>\n",
       "      <td>0.023</td>\n",
       "      <td>0.883</td>\n",
       "      <td>0.095</td>\n",
       "      <td>0.9997</td>\n",
       "      <td>2</td>\n",
       "    </tr>\n",
       "    <tr>\n",
       "      <th>1819</th>\n",
       "      <td>1872</td>\n",
       "      <td>2014</td>\n",
       "      <td>\"IARPA - MICrONS\"</td>\n",
       "      <td>\"https://www.iarpa.gov/research-programs/microns\"</td>\n",
       "      <td>\"The MICrONS program aimed to close the perfor...</td>\n",
       "      <td>0.014</td>\n",
       "      <td>0.909</td>\n",
       "      <td>0.077</td>\n",
       "      <td>0.9980</td>\n",
       "      <td>2</td>\n",
       "    </tr>\n",
       "  </tbody>\n",
       "</table>\n",
       "</div>"
      ],
      "text/plain": [
       "        id  year                                              title  \\\n",
       "899    930  2009  \"Implementing an online help desk system based...   \n",
       "2097  2152  2012  \"Weather Analysis and Forecasting - American M...   \n",
       "1819  1872  2014                                  \"IARPA - MICrONS\"   \n",
       "\n",
       "                                                    url  \\\n",
       "899         \"https://doi.org/10.1145%2F1643823.1643908\"   \n",
       "2097  \"https://www.ametsoc.org/ams/index.cfm/about-a...   \n",
       "1819  \"https://www.iarpa.gov/research-programs/microns\"   \n",
       "\n",
       "                                                   text  negative  neutral  \\\n",
       "899   \"Dartmouth College Advanced Search Browse Abou...     0.008    0.906   \n",
       "2097  \"Attention Internet Explorer User: Parts of th...     0.023    0.883   \n",
       "1819  \"The MICrONS program aimed to close the perfor...     0.014    0.909   \n",
       "\n",
       "      positive  compound  topic  \n",
       "899      0.086    0.9966      2  \n",
       "2097     0.095    0.9997      2  \n",
       "1819     0.077    0.9980      2  "
      ]
     },
     "metadata": {},
     "output_type": "display_data"
    },
    {
     "data": {
      "text/markdown": [
       "---"
      ],
      "text/plain": [
       "<IPython.core.display.Markdown object>"
      ]
     },
     "metadata": {},
     "output_type": "display_data"
    },
    {
     "data": {
      "text/markdown": [
       "### Topic: 3"
      ],
      "text/plain": [
       "<IPython.core.display.Markdown object>"
      ]
     },
     "metadata": {},
     "output_type": "display_data"
    },
    {
     "data": {
      "text/markdown": [
       "Number of articles: 216"
      ],
      "text/plain": [
       "<IPython.core.display.Markdown object>"
      ]
     },
     "metadata": {},
     "output_type": "display_data"
    },
    {
     "data": {
      "text/html": [
       "<div>\n",
       "<style scoped>\n",
       "    .dataframe tbody tr th:only-of-type {\n",
       "        vertical-align: middle;\n",
       "    }\n",
       "\n",
       "    .dataframe tbody tr th {\n",
       "        vertical-align: top;\n",
       "    }\n",
       "\n",
       "    .dataframe thead th {\n",
       "        text-align: right;\n",
       "    }\n",
       "</style>\n",
       "<table border=\"1\" class=\"dataframe\">\n",
       "  <thead>\n",
       "    <tr style=\"text-align: right;\">\n",
       "      <th></th>\n",
       "      <th>id</th>\n",
       "      <th>year</th>\n",
       "      <th>title</th>\n",
       "      <th>url</th>\n",
       "      <th>text</th>\n",
       "      <th>negative</th>\n",
       "      <th>neutral</th>\n",
       "      <th>positive</th>\n",
       "      <th>compound</th>\n",
       "      <th>topic</th>\n",
       "    </tr>\n",
       "  </thead>\n",
       "  <tbody>\n",
       "    <tr>\n",
       "      <th>2015</th>\n",
       "      <td>2070</td>\n",
       "      <td>2005</td>\n",
       "      <td>\"How Musicologists and Scientists Used AI to C...</td>\n",
       "      <td>\"https://blubrry.com/singularityhub/81745484/h...</td>\n",
       "      <td>\"Podcast Hosting Hosting Plans Easy-to-use too...</td>\n",
       "      <td>0.013</td>\n",
       "      <td>0.889</td>\n",
       "      <td>0.099</td>\n",
       "      <td>0.9981</td>\n",
       "      <td>3</td>\n",
       "    </tr>\n",
       "    <tr>\n",
       "      <th>2014</th>\n",
       "      <td>2069</td>\n",
       "      <td>2005</td>\n",
       "      <td>\"How Quantum Computers Can Be Used to Build Be...</td>\n",
       "      <td>\"https://blubrry.com/singularityhub/81633365/h...</td>\n",
       "      <td>\"Podcast Hosting Hosting Plans Easy-to-use too...</td>\n",
       "      <td>0.013</td>\n",
       "      <td>0.896</td>\n",
       "      <td>0.091</td>\n",
       "      <td>0.9970</td>\n",
       "      <td>3</td>\n",
       "    </tr>\n",
       "    <tr>\n",
       "      <th>1512</th>\n",
       "      <td>1561</td>\n",
       "      <td>2009</td>\n",
       "      <td>\"Observation of collective excitation of two i...</td>\n",
       "      <td>\"https://doi.org/10.1038%2Fnphys1183\"</td>\n",
       "      <td>\"Thank you for visiting nature.com. You are us...</td>\n",
       "      <td>0.034</td>\n",
       "      <td>0.862</td>\n",
       "      <td>0.104</td>\n",
       "      <td>0.9999</td>\n",
       "      <td>3</td>\n",
       "    </tr>\n",
       "  </tbody>\n",
       "</table>\n",
       "</div>"
      ],
      "text/plain": [
       "        id  year                                              title  \\\n",
       "2015  2070  2005  \"How Musicologists and Scientists Used AI to C...   \n",
       "2014  2069  2005  \"How Quantum Computers Can Be Used to Build Be...   \n",
       "1512  1561  2009  \"Observation of collective excitation of two i...   \n",
       "\n",
       "                                                    url  \\\n",
       "2015  \"https://blubrry.com/singularityhub/81745484/h...   \n",
       "2014  \"https://blubrry.com/singularityhub/81633365/h...   \n",
       "1512              \"https://doi.org/10.1038%2Fnphys1183\"   \n",
       "\n",
       "                                                   text  negative  neutral  \\\n",
       "2015  \"Podcast Hosting Hosting Plans Easy-to-use too...     0.013    0.889   \n",
       "2014  \"Podcast Hosting Hosting Plans Easy-to-use too...     0.013    0.896   \n",
       "1512  \"Thank you for visiting nature.com. You are us...     0.034    0.862   \n",
       "\n",
       "      positive  compound  topic  \n",
       "2015     0.099    0.9981      3  \n",
       "2014     0.091    0.9970      3  \n",
       "1512     0.104    0.9999      3  "
      ]
     },
     "metadata": {},
     "output_type": "display_data"
    },
    {
     "data": {
      "text/markdown": [
       "---"
      ],
      "text/plain": [
       "<IPython.core.display.Markdown object>"
      ]
     },
     "metadata": {},
     "output_type": "display_data"
    },
    {
     "data": {
      "text/markdown": [
       "### Topic: 4"
      ],
      "text/plain": [
       "<IPython.core.display.Markdown object>"
      ]
     },
     "metadata": {},
     "output_type": "display_data"
    },
    {
     "data": {
      "text/markdown": [
       "Number of articles: 73"
      ],
      "text/plain": [
       "<IPython.core.display.Markdown object>"
      ]
     },
     "metadata": {},
     "output_type": "display_data"
    },
    {
     "data": {
      "text/html": [
       "<div>\n",
       "<style scoped>\n",
       "    .dataframe tbody tr th:only-of-type {\n",
       "        vertical-align: middle;\n",
       "    }\n",
       "\n",
       "    .dataframe tbody tr th {\n",
       "        vertical-align: top;\n",
       "    }\n",
       "\n",
       "    .dataframe thead th {\n",
       "        text-align: right;\n",
       "    }\n",
       "</style>\n",
       "<table border=\"1\" class=\"dataframe\">\n",
       "  <thead>\n",
       "    <tr style=\"text-align: right;\">\n",
       "      <th></th>\n",
       "      <th>id</th>\n",
       "      <th>year</th>\n",
       "      <th>title</th>\n",
       "      <th>url</th>\n",
       "      <th>text</th>\n",
       "      <th>negative</th>\n",
       "      <th>neutral</th>\n",
       "      <th>positive</th>\n",
       "      <th>compound</th>\n",
       "      <th>topic</th>\n",
       "    </tr>\n",
       "  </thead>\n",
       "  <tbody>\n",
       "    <tr>\n",
       "      <th>1143</th>\n",
       "      <td>1184</td>\n",
       "      <td>2001</td>\n",
       "      <td>\"Department Of Computer Science | Makerere Uni...</td>\n",
       "      <td>\"https://cs.mak.ac.ug/curriculum/undergraduate...</td>\n",
       "      <td>\"Makerere University Department of Computer Sc...</td>\n",
       "      <td>0.028</td>\n",
       "      <td>0.892</td>\n",
       "      <td>0.080</td>\n",
       "      <td>1.0000</td>\n",
       "      <td>4</td>\n",
       "    </tr>\n",
       "    <tr>\n",
       "      <th>1142</th>\n",
       "      <td>1183</td>\n",
       "      <td>2001</td>\n",
       "      <td>\"Department Of Computer Science | Makerere Uni...</td>\n",
       "      <td>\"https://cs.mak.ac.ug/curriculum\"</td>\n",
       "      <td>\"Makerere University Department of Computer Sc...</td>\n",
       "      <td>0.029</td>\n",
       "      <td>0.884</td>\n",
       "      <td>0.087</td>\n",
       "      <td>1.0000</td>\n",
       "      <td>4</td>\n",
       "    </tr>\n",
       "    <tr>\n",
       "      <th>688</th>\n",
       "      <td>710</td>\n",
       "      <td>2009</td>\n",
       "      <td>\"Stroop and picture—word interference are two ...</td>\n",
       "      <td>\"https://doi.org/10.3758%2FPBR.16.6.987\"</td>\n",
       "      <td>\"Advertisement Log in Menu Search Cart Home Ps...</td>\n",
       "      <td>0.014</td>\n",
       "      <td>0.962</td>\n",
       "      <td>0.024</td>\n",
       "      <td>0.9769</td>\n",
       "      <td>4</td>\n",
       "    </tr>\n",
       "  </tbody>\n",
       "</table>\n",
       "</div>"
      ],
      "text/plain": [
       "        id  year                                              title  \\\n",
       "1143  1184  2001  \"Department Of Computer Science | Makerere Uni...   \n",
       "1142  1183  2001  \"Department Of Computer Science | Makerere Uni...   \n",
       "688    710  2009  \"Stroop and picture—word interference are two ...   \n",
       "\n",
       "                                                    url  \\\n",
       "1143  \"https://cs.mak.ac.ug/curriculum/undergraduate...   \n",
       "1142                  \"https://cs.mak.ac.ug/curriculum\"   \n",
       "688            \"https://doi.org/10.3758%2FPBR.16.6.987\"   \n",
       "\n",
       "                                                   text  negative  neutral  \\\n",
       "1143  \"Makerere University Department of Computer Sc...     0.028    0.892   \n",
       "1142  \"Makerere University Department of Computer Sc...     0.029    0.884   \n",
       "688   \"Advertisement Log in Menu Search Cart Home Ps...     0.014    0.962   \n",
       "\n",
       "      positive  compound  topic  \n",
       "1143     0.080    1.0000      4  \n",
       "1142     0.087    1.0000      4  \n",
       "688      0.024    0.9769      4  "
      ]
     },
     "metadata": {},
     "output_type": "display_data"
    },
    {
     "data": {
      "text/markdown": [
       "---"
      ],
      "text/plain": [
       "<IPython.core.display.Markdown object>"
      ]
     },
     "metadata": {},
     "output_type": "display_data"
    },
    {
     "data": {
      "text/markdown": [
       "### Topic: 5"
      ],
      "text/plain": [
       "<IPython.core.display.Markdown object>"
      ]
     },
     "metadata": {},
     "output_type": "display_data"
    },
    {
     "data": {
      "text/markdown": [
       "Number of articles: 52"
      ],
      "text/plain": [
       "<IPython.core.display.Markdown object>"
      ]
     },
     "metadata": {},
     "output_type": "display_data"
    },
    {
     "data": {
      "text/html": [
       "<div>\n",
       "<style scoped>\n",
       "    .dataframe tbody tr th:only-of-type {\n",
       "        vertical-align: middle;\n",
       "    }\n",
       "\n",
       "    .dataframe tbody tr th {\n",
       "        vertical-align: top;\n",
       "    }\n",
       "\n",
       "    .dataframe thead th {\n",
       "        text-align: right;\n",
       "    }\n",
       "</style>\n",
       "<table border=\"1\" class=\"dataframe\">\n",
       "  <thead>\n",
       "    <tr style=\"text-align: right;\">\n",
       "      <th></th>\n",
       "      <th>id</th>\n",
       "      <th>year</th>\n",
       "      <th>title</th>\n",
       "      <th>url</th>\n",
       "      <th>text</th>\n",
       "      <th>negative</th>\n",
       "      <th>neutral</th>\n",
       "      <th>positive</th>\n",
       "      <th>compound</th>\n",
       "      <th>topic</th>\n",
       "    </tr>\n",
       "  </thead>\n",
       "  <tbody>\n",
       "    <tr>\n",
       "      <th>1760</th>\n",
       "      <td>1812</td>\n",
       "      <td>2009</td>\n",
       "      <td>\"Blue Zones: Places in the World Where People ...</td>\n",
       "      <td>\"https://singularityhub.com/2009/07/20/blue-zo...</td>\n",
       "      <td>\"Topics AI Biotech Computing Space Energy Futu...</td>\n",
       "      <td>0.095</td>\n",
       "      <td>0.769</td>\n",
       "      <td>0.137</td>\n",
       "      <td>0.9983</td>\n",
       "      <td>5</td>\n",
       "    </tr>\n",
       "    <tr>\n",
       "      <th>700</th>\n",
       "      <td>724</td>\n",
       "      <td>2009</td>\n",
       "      <td>\"\"Talks and Posters\"\"</td>\n",
       "      <td>\"http://www.cs.nyu.edu/~yann/talks\"</td>\n",
       "      <td>\"CBLL HOME VLG Group News/Events Seminars Peop...</td>\n",
       "      <td>0.021</td>\n",
       "      <td>0.928</td>\n",
       "      <td>0.051</td>\n",
       "      <td>0.9967</td>\n",
       "      <td>5</td>\n",
       "    </tr>\n",
       "    <tr>\n",
       "      <th>1116</th>\n",
       "      <td>1149</td>\n",
       "      <td>2011</td>\n",
       "      <td>\"IBM Blue Gene - Wikipedia\"</td>\n",
       "      <td>\"https://en.wikipedia.org/wiki/IBM_Blue_Gene\"</td>\n",
       "      <td>\"Main menu Main page Contents Current events R...</td>\n",
       "      <td>0.012</td>\n",
       "      <td>0.923</td>\n",
       "      <td>0.064</td>\n",
       "      <td>0.9998</td>\n",
       "      <td>5</td>\n",
       "    </tr>\n",
       "  </tbody>\n",
       "</table>\n",
       "</div>"
      ],
      "text/plain": [
       "        id  year                                              title  \\\n",
       "1760  1812  2009  \"Blue Zones: Places in the World Where People ...   \n",
       "700    724  2009                              \"\"Talks and Posters\"\"   \n",
       "1116  1149  2011                        \"IBM Blue Gene - Wikipedia\"   \n",
       "\n",
       "                                                    url  \\\n",
       "1760  \"https://singularityhub.com/2009/07/20/blue-zo...   \n",
       "700                 \"http://www.cs.nyu.edu/~yann/talks\"   \n",
       "1116      \"https://en.wikipedia.org/wiki/IBM_Blue_Gene\"   \n",
       "\n",
       "                                                   text  negative  neutral  \\\n",
       "1760  \"Topics AI Biotech Computing Space Energy Futu...     0.095    0.769   \n",
       "700   \"CBLL HOME VLG Group News/Events Seminars Peop...     0.021    0.928   \n",
       "1116  \"Main menu Main page Contents Current events R...     0.012    0.923   \n",
       "\n",
       "      positive  compound  topic  \n",
       "1760     0.137    0.9983      5  \n",
       "700      0.051    0.9967      5  \n",
       "1116     0.064    0.9998      5  "
      ]
     },
     "metadata": {},
     "output_type": "display_data"
    },
    {
     "data": {
      "text/markdown": [
       "---"
      ],
      "text/plain": [
       "<IPython.core.display.Markdown object>"
      ]
     },
     "metadata": {},
     "output_type": "display_data"
    },
    {
     "data": {
      "text/markdown": [
       "### Topic: 6"
      ],
      "text/plain": [
       "<IPython.core.display.Markdown object>"
      ]
     },
     "metadata": {},
     "output_type": "display_data"
    },
    {
     "data": {
      "text/markdown": [
       "Number of articles: 70"
      ],
      "text/plain": [
       "<IPython.core.display.Markdown object>"
      ]
     },
     "metadata": {},
     "output_type": "display_data"
    },
    {
     "data": {
      "text/html": [
       "<div>\n",
       "<style scoped>\n",
       "    .dataframe tbody tr th:only-of-type {\n",
       "        vertical-align: middle;\n",
       "    }\n",
       "\n",
       "    .dataframe tbody tr th {\n",
       "        vertical-align: top;\n",
       "    }\n",
       "\n",
       "    .dataframe thead th {\n",
       "        text-align: right;\n",
       "    }\n",
       "</style>\n",
       "<table border=\"1\" class=\"dataframe\">\n",
       "  <thead>\n",
       "    <tr style=\"text-align: right;\">\n",
       "      <th></th>\n",
       "      <th>id</th>\n",
       "      <th>year</th>\n",
       "      <th>title</th>\n",
       "      <th>url</th>\n",
       "      <th>text</th>\n",
       "      <th>negative</th>\n",
       "      <th>neutral</th>\n",
       "      <th>positive</th>\n",
       "      <th>compound</th>\n",
       "      <th>topic</th>\n",
       "    </tr>\n",
       "  </thead>\n",
       "  <tbody>\n",
       "    <tr>\n",
       "      <th>1122</th>\n",
       "      <td>1155</td>\n",
       "      <td>2001</td>\n",
       "      <td>\"Chromosome territories, nuclear architecture ...</td>\n",
       "      <td>\"https://doi.org/10.1038%2F35066075\"</td>\n",
       "      <td>\"Thank you for visiting nature.com. You are us...</td>\n",
       "      <td>0.014</td>\n",
       "      <td>0.936</td>\n",
       "      <td>0.050</td>\n",
       "      <td>0.9999</td>\n",
       "      <td>6</td>\n",
       "    </tr>\n",
       "    <tr>\n",
       "      <th>2298</th>\n",
       "      <td>2362</td>\n",
       "      <td>2004</td>\n",
       "      <td>\"Halo 2 | Halo Alpha | Fandom\"</td>\n",
       "      <td>\"https://halo.fandom.com/wiki/Halo_2\"</td>\n",
       "      <td>\"Explore Main Page Discuss All Pages Community...</td>\n",
       "      <td>0.112</td>\n",
       "      <td>0.795</td>\n",
       "      <td>0.093</td>\n",
       "      <td>-0.9997</td>\n",
       "      <td>6</td>\n",
       "    </tr>\n",
       "    <tr>\n",
       "      <th>2016</th>\n",
       "      <td>2071</td>\n",
       "      <td>2005</td>\n",
       "      <td>\"Intel's Brain-Inspired Loihi 2 Chip Can Hold ...</td>\n",
       "      <td>\"https://blubrry.com/singularityhub/81843287/i...</td>\n",
       "      <td>\"Podcast Hosting Hosting Plans Easy-to-use too...</td>\n",
       "      <td>0.007</td>\n",
       "      <td>0.875</td>\n",
       "      <td>0.118</td>\n",
       "      <td>0.9988</td>\n",
       "      <td>6</td>\n",
       "    </tr>\n",
       "  </tbody>\n",
       "</table>\n",
       "</div>"
      ],
      "text/plain": [
       "        id  year                                              title  \\\n",
       "1122  1155  2001  \"Chromosome territories, nuclear architecture ...   \n",
       "2298  2362  2004                     \"Halo 2 | Halo Alpha | Fandom\"   \n",
       "2016  2071  2005  \"Intel's Brain-Inspired Loihi 2 Chip Can Hold ...   \n",
       "\n",
       "                                                    url  \\\n",
       "1122               \"https://doi.org/10.1038%2F35066075\"   \n",
       "2298              \"https://halo.fandom.com/wiki/Halo_2\"   \n",
       "2016  \"https://blubrry.com/singularityhub/81843287/i...   \n",
       "\n",
       "                                                   text  negative  neutral  \\\n",
       "1122  \"Thank you for visiting nature.com. You are us...     0.014    0.936   \n",
       "2298  \"Explore Main Page Discuss All Pages Community...     0.112    0.795   \n",
       "2016  \"Podcast Hosting Hosting Plans Easy-to-use too...     0.007    0.875   \n",
       "\n",
       "      positive  compound  topic  \n",
       "1122     0.050    0.9999      6  \n",
       "2298     0.093   -0.9997      6  \n",
       "2016     0.118    0.9988      6  "
      ]
     },
     "metadata": {},
     "output_type": "display_data"
    },
    {
     "data": {
      "text/markdown": [
       "---"
      ],
      "text/plain": [
       "<IPython.core.display.Markdown object>"
      ]
     },
     "metadata": {},
     "output_type": "display_data"
    },
    {
     "data": {
      "text/markdown": [
       "### Topic: 7"
      ],
      "text/plain": [
       "<IPython.core.display.Markdown object>"
      ]
     },
     "metadata": {},
     "output_type": "display_data"
    },
    {
     "data": {
      "text/markdown": [
       "Number of articles: 43"
      ],
      "text/plain": [
       "<IPython.core.display.Markdown object>"
      ]
     },
     "metadata": {},
     "output_type": "display_data"
    },
    {
     "data": {
      "text/html": [
       "<div>\n",
       "<style scoped>\n",
       "    .dataframe tbody tr th:only-of-type {\n",
       "        vertical-align: middle;\n",
       "    }\n",
       "\n",
       "    .dataframe tbody tr th {\n",
       "        vertical-align: top;\n",
       "    }\n",
       "\n",
       "    .dataframe thead th {\n",
       "        text-align: right;\n",
       "    }\n",
       "</style>\n",
       "<table border=\"1\" class=\"dataframe\">\n",
       "  <thead>\n",
       "    <tr style=\"text-align: right;\">\n",
       "      <th></th>\n",
       "      <th>id</th>\n",
       "      <th>year</th>\n",
       "      <th>title</th>\n",
       "      <th>url</th>\n",
       "      <th>text</th>\n",
       "      <th>negative</th>\n",
       "      <th>neutral</th>\n",
       "      <th>positive</th>\n",
       "      <th>compound</th>\n",
       "      <th>topic</th>\n",
       "    </tr>\n",
       "  </thead>\n",
       "  <tbody>\n",
       "    <tr>\n",
       "      <th>903</th>\n",
       "      <td>935</td>\n",
       "      <td>2005</td>\n",
       "      <td>\"ISOTOPES IN MARINE SEDIMENTS | SpringerLink\"</td>\n",
       "      <td>\"https://doi.org/10.1007%2F1-4020-2504-1_06\"</td>\n",
       "      <td>\"Advertisement Log in Menu Search Cart Isotope...</td>\n",
       "      <td>0.007</td>\n",
       "      <td>0.971</td>\n",
       "      <td>0.022</td>\n",
       "      <td>0.9992</td>\n",
       "      <td>7</td>\n",
       "    </tr>\n",
       "    <tr>\n",
       "      <th>902</th>\n",
       "      <td>934</td>\n",
       "      <td>2005</td>\n",
       "      <td>\"自然語言處理 - 维基百科，自由的百科全书\"</td>\n",
       "      <td>\"https://zh.wikipedia.org/wiki/%E8%87%AA%E7%84...</td>\n",
       "      <td>\"主菜单 首页 分类索引 特色内容 新闻动态 最近更改 随机条目 资助维基百科 帮助 维基社...</td>\n",
       "      <td>0.001</td>\n",
       "      <td>0.942</td>\n",
       "      <td>0.057</td>\n",
       "      <td>0.9970</td>\n",
       "      <td>7</td>\n",
       "    </tr>\n",
       "    <tr>\n",
       "      <th>2087</th>\n",
       "      <td>2142</td>\n",
       "      <td>2012</td>\n",
       "      <td>\"Speak, Memory\"</td>\n",
       "      <td>\"https://www.theverge.com/a/luka-artificial-in...</td>\n",
       "      <td>\"Speak, Memory When her best friend died, she ...</td>\n",
       "      <td>0.082</td>\n",
       "      <td>0.788</td>\n",
       "      <td>0.131</td>\n",
       "      <td>0.9998</td>\n",
       "      <td>7</td>\n",
       "    </tr>\n",
       "  </tbody>\n",
       "</table>\n",
       "</div>"
      ],
      "text/plain": [
       "        id  year                                          title  \\\n",
       "903    935  2005  \"ISOTOPES IN MARINE SEDIMENTS | SpringerLink\"   \n",
       "902    934  2005                        \"自然語言處理 - 维基百科，自由的百科全书\"   \n",
       "2087  2142  2012                                \"Speak, Memory\"   \n",
       "\n",
       "                                                    url  \\\n",
       "903        \"https://doi.org/10.1007%2F1-4020-2504-1_06\"   \n",
       "902   \"https://zh.wikipedia.org/wiki/%E8%87%AA%E7%84...   \n",
       "2087  \"https://www.theverge.com/a/luka-artificial-in...   \n",
       "\n",
       "                                                   text  negative  neutral  \\\n",
       "903   \"Advertisement Log in Menu Search Cart Isotope...     0.007    0.971   \n",
       "902   \"主菜单 首页 分类索引 特色内容 新闻动态 最近更改 随机条目 资助维基百科 帮助 维基社...     0.001    0.942   \n",
       "2087  \"Speak, Memory When her best friend died, she ...     0.082    0.788   \n",
       "\n",
       "      positive  compound  topic  \n",
       "903      0.022    0.9992      7  \n",
       "902      0.057    0.9970      7  \n",
       "2087     0.131    0.9998      7  "
      ]
     },
     "metadata": {},
     "output_type": "display_data"
    },
    {
     "data": {
      "text/markdown": [
       "---"
      ],
      "text/plain": [
       "<IPython.core.display.Markdown object>"
      ]
     },
     "metadata": {},
     "output_type": "display_data"
    },
    {
     "data": {
      "text/markdown": [
       "### Topic: 8"
      ],
      "text/plain": [
       "<IPython.core.display.Markdown object>"
      ]
     },
     "metadata": {},
     "output_type": "display_data"
    },
    {
     "data": {
      "text/markdown": [
       "Number of articles: 33"
      ],
      "text/plain": [
       "<IPython.core.display.Markdown object>"
      ]
     },
     "metadata": {},
     "output_type": "display_data"
    },
    {
     "data": {
      "text/html": [
       "<div>\n",
       "<style scoped>\n",
       "    .dataframe tbody tr th:only-of-type {\n",
       "        vertical-align: middle;\n",
       "    }\n",
       "\n",
       "    .dataframe tbody tr th {\n",
       "        vertical-align: top;\n",
       "    }\n",
       "\n",
       "    .dataframe thead th {\n",
       "        text-align: right;\n",
       "    }\n",
       "</style>\n",
       "<table border=\"1\" class=\"dataframe\">\n",
       "  <thead>\n",
       "    <tr style=\"text-align: right;\">\n",
       "      <th></th>\n",
       "      <th>id</th>\n",
       "      <th>year</th>\n",
       "      <th>title</th>\n",
       "      <th>url</th>\n",
       "      <th>text</th>\n",
       "      <th>negative</th>\n",
       "      <th>neutral</th>\n",
       "      <th>positive</th>\n",
       "      <th>compound</th>\n",
       "      <th>topic</th>\n",
       "    </tr>\n",
       "  </thead>\n",
       "  <tbody>\n",
       "    <tr>\n",
       "      <th>265</th>\n",
       "      <td>277</td>\n",
       "      <td>2008</td>\n",
       "      <td>\"Abundance360 by Peter Diamandis\"</td>\n",
       "      <td>\"https://www.abundance360.com\"</td>\n",
       "      <td>\"Abundance360 Applications Are Now Open by Sin...</td>\n",
       "      <td>0.016</td>\n",
       "      <td>0.873</td>\n",
       "      <td>0.111</td>\n",
       "      <td>0.9997</td>\n",
       "      <td>8</td>\n",
       "    </tr>\n",
       "    <tr>\n",
       "      <th>775</th>\n",
       "      <td>804</td>\n",
       "      <td>2008</td>\n",
       "      <td>\"Stockfish (chess) - Wikipedia\"</td>\n",
       "      <td>\"https://en.wikipedia.org/wiki/Stockfish_(chess)\"</td>\n",
       "      <td>\"Main menu Main page Contents Current events R...</td>\n",
       "      <td>0.035</td>\n",
       "      <td>0.822</td>\n",
       "      <td>0.143</td>\n",
       "      <td>1.0000</td>\n",
       "      <td>8</td>\n",
       "    </tr>\n",
       "    <tr>\n",
       "      <th>725</th>\n",
       "      <td>751</td>\n",
       "      <td>2009</td>\n",
       "      <td>\"StarCraft AI Competition\"</td>\n",
       "      <td>\"http://www.cs.mun.ca/~dchurchill/starcraftaic...</td>\n",
       "      <td>\"Home Compete Results Rules Resources Contact ...</td>\n",
       "      <td>0.058</td>\n",
       "      <td>0.840</td>\n",
       "      <td>0.102</td>\n",
       "      <td>0.9999</td>\n",
       "      <td>8</td>\n",
       "    </tr>\n",
       "  </tbody>\n",
       "</table>\n",
       "</div>"
      ],
      "text/plain": [
       "      id  year                              title  \\\n",
       "265  277  2008  \"Abundance360 by Peter Diamandis\"   \n",
       "775  804  2008    \"Stockfish (chess) - Wikipedia\"   \n",
       "725  751  2009         \"StarCraft AI Competition\"   \n",
       "\n",
       "                                                   url  \\\n",
       "265                     \"https://www.abundance360.com\"   \n",
       "775  \"https://en.wikipedia.org/wiki/Stockfish_(chess)\"   \n",
       "725  \"http://www.cs.mun.ca/~dchurchill/starcraftaic...   \n",
       "\n",
       "                                                  text  negative  neutral  \\\n",
       "265  \"Abundance360 Applications Are Now Open by Sin...     0.016    0.873   \n",
       "775  \"Main menu Main page Contents Current events R...     0.035    0.822   \n",
       "725  \"Home Compete Results Rules Resources Contact ...     0.058    0.840   \n",
       "\n",
       "     positive  compound  topic  \n",
       "265     0.111    0.9997      8  \n",
       "775     0.143    1.0000      8  \n",
       "725     0.102    0.9999      8  "
      ]
     },
     "metadata": {},
     "output_type": "display_data"
    },
    {
     "data": {
      "text/markdown": [
       "---"
      ],
      "text/plain": [
       "<IPython.core.display.Markdown object>"
      ]
     },
     "metadata": {},
     "output_type": "display_data"
    },
    {
     "data": {
      "text/markdown": [
       "### Topic: 9"
      ],
      "text/plain": [
       "<IPython.core.display.Markdown object>"
      ]
     },
     "metadata": {},
     "output_type": "display_data"
    },
    {
     "data": {
      "text/markdown": [
       "Number of articles: 58"
      ],
      "text/plain": [
       "<IPython.core.display.Markdown object>"
      ]
     },
     "metadata": {},
     "output_type": "display_data"
    },
    {
     "data": {
      "text/html": [
       "<div>\n",
       "<style scoped>\n",
       "    .dataframe tbody tr th:only-of-type {\n",
       "        vertical-align: middle;\n",
       "    }\n",
       "\n",
       "    .dataframe tbody tr th {\n",
       "        vertical-align: top;\n",
       "    }\n",
       "\n",
       "    .dataframe thead th {\n",
       "        text-align: right;\n",
       "    }\n",
       "</style>\n",
       "<table border=\"1\" class=\"dataframe\">\n",
       "  <thead>\n",
       "    <tr style=\"text-align: right;\">\n",
       "      <th></th>\n",
       "      <th>id</th>\n",
       "      <th>year</th>\n",
       "      <th>title</th>\n",
       "      <th>url</th>\n",
       "      <th>text</th>\n",
       "      <th>negative</th>\n",
       "      <th>neutral</th>\n",
       "      <th>positive</th>\n",
       "      <th>compound</th>\n",
       "      <th>topic</th>\n",
       "    </tr>\n",
       "  </thead>\n",
       "  <tbody>\n",
       "    <tr>\n",
       "      <th>2266</th>\n",
       "      <td>2326</td>\n",
       "      <td>2003</td>\n",
       "      <td>\"Introduction to the Old English poem called B...</td>\n",
       "      <td>\"https://www.heorot.dk/beowulf-vorwort\"</td>\n",
       "      <td>\"An Introduction to the Structure &amp; Making of ...</td>\n",
       "      <td>0.040</td>\n",
       "      <td>0.892</td>\n",
       "      <td>0.069</td>\n",
       "      <td>0.9998</td>\n",
       "      <td>9</td>\n",
       "    </tr>\n",
       "    <tr>\n",
       "      <th>2017</th>\n",
       "      <td>2072</td>\n",
       "      <td>2005</td>\n",
       "      <td>\"Microsoft's Massive New Language AI Is Triple...</td>\n",
       "      <td>\"https://blubrry.com/singularityhub/81924527/m...</td>\n",
       "      <td>\"Podcast Hosting Hosting Plans Easy-to-use too...</td>\n",
       "      <td>0.010</td>\n",
       "      <td>0.903</td>\n",
       "      <td>0.086</td>\n",
       "      <td>0.9962</td>\n",
       "      <td>9</td>\n",
       "    </tr>\n",
       "    <tr>\n",
       "      <th>1124</th>\n",
       "      <td>1158</td>\n",
       "      <td>2006</td>\n",
       "      <td>\"An integrated view of protein evolution | Nat...</td>\n",
       "      <td>\"https://doi.org/10.1038%2Fnrg1838\"</td>\n",
       "      <td>\"Thank you for visiting nature.com. You are us...</td>\n",
       "      <td>0.025</td>\n",
       "      <td>0.892</td>\n",
       "      <td>0.083</td>\n",
       "      <td>1.0000</td>\n",
       "      <td>9</td>\n",
       "    </tr>\n",
       "  </tbody>\n",
       "</table>\n",
       "</div>"
      ],
      "text/plain": [
       "        id  year                                              title  \\\n",
       "2266  2326  2003  \"Introduction to the Old English poem called B...   \n",
       "2017  2072  2005  \"Microsoft's Massive New Language AI Is Triple...   \n",
       "1124  1158  2006  \"An integrated view of protein evolution | Nat...   \n",
       "\n",
       "                                                    url  \\\n",
       "2266            \"https://www.heorot.dk/beowulf-vorwort\"   \n",
       "2017  \"https://blubrry.com/singularityhub/81924527/m...   \n",
       "1124                \"https://doi.org/10.1038%2Fnrg1838\"   \n",
       "\n",
       "                                                   text  negative  neutral  \\\n",
       "2266  \"An Introduction to the Structure & Making of ...     0.040    0.892   \n",
       "2017  \"Podcast Hosting Hosting Plans Easy-to-use too...     0.010    0.903   \n",
       "1124  \"Thank you for visiting nature.com. You are us...     0.025    0.892   \n",
       "\n",
       "      positive  compound  topic  \n",
       "2266     0.069    0.9998      9  \n",
       "2017     0.086    0.9962      9  \n",
       "1124     0.083    1.0000      9  "
      ]
     },
     "metadata": {},
     "output_type": "display_data"
    },
    {
     "data": {
      "text/markdown": [
       "---"
      ],
      "text/plain": [
       "<IPython.core.display.Markdown object>"
      ]
     },
     "metadata": {},
     "output_type": "display_data"
    }
   ],
   "source": [
    "topic_dictionary = create_topics_dict(year_dictionary)\n",
    "\n",
    "for topic in topic_dictionary:\n",
    "    display(Markdown(f\"### Topic: {topic}\"))\n",
    "    display(Markdown(f\"Number of articles: {len(topic_dictionary[topic])}\"))\n",
    "    display(topic_dictionary[topic].head(3))\n",
    "    display(Markdown(\"---\"))"
   ]
  },
  {
   "cell_type": "code",
   "execution_count": 234,
   "metadata": {},
   "outputs": [
    {
     "data": {
      "image/png": "[encoded data removed]",
      "text/plain": [
       "<Figure size 640x480 with 1 Axes>"
      ]
     },
     "metadata": {},
     "output_type": "display_data"
    },
    {
     "data": {
      "image/png": "[encoded data removed]",
      "text/plain": [
       "<Figure size 640x480 with 1 Axes>"
      ]
     },
     "metadata": {},
     "output_type": "display_data"
    },
    {
     "data": {
      "image/png": "[encoded data removed]",
      "text/plain": [
       "<Figure size 640x480 with 1 Axes>"
      ]
     },
     "metadata": {},
     "output_type": "display_data"
    },
    {
     "data": {
      "image/png": "[encoded data removed]",
      "text/plain": [
       "<Figure size 640x480 with 1 Axes>"
      ]
     },
     "metadata": {},
     "output_type": "display_data"
    },
    {
     "data": {
      "image/png": "[encoded data removed]",
      "text/plain": [
       "<Figure size 640x480 with 1 Axes>"
      ]
     },
     "metadata": {},
     "output_type": "display_data"
    },
    {
     "data": {
      "image/png": "[encoded data removed]",
      "text/plain": [
       "<Figure size 640x480 with 1 Axes>"
      ]
     },
     "metadata": {},
     "output_type": "display_data"
    },
    {
     "data": {
      "image/png": "[encoded data removed]",
      "text/plain": [
       "<Figure size 640x480 with 1 Axes>"
      ]
     },
     "metadata": {},
     "output_type": "display_data"
    },
    {
     "data": {
      "image/png": "[encoded data removed]",
      "text/plain": [
       "<Figure size 640x480 with 1 Axes>"
      ]
     },
     "metadata": {},
     "output_type": "display_data"
    },
    {
     "data": {
      "image/png": "[encoded data removed]",
      "text/plain": [
       "<Figure size 640x480 with 1 Axes>"
      ]
     },
     "metadata": {},
     "output_type": "display_data"
    },
    {
     "data": {
      "image/png": "[encoded data removed]",
      "text/plain": [
       "<Figure size 640x480 with 1 Axes>"
      ]
     },
     "metadata": {},
     "output_type": "display_data"
    }
   ],
   "source": [
    "for topic_num, df in sorted(topic_dictionary.items()):\n",
    "    title = f'Topic {topic_num + 1}'\n",
    "    plot_sentiment(df, title)\n"
   ]
  }
 ],
 "metadata": {
  "kernelspec": {
   "display_name": "Python 3 (ipykernel)",
   "language": "python",
   "name": "python3"
  },
  "language_info": {
   "codemirror_mode": {
    "name": "ipython",
    "version": 3
   },
   "file_extension": ".py",
   "mimetype": "text/x-python",
   "name": "python",
   "nbconvert_exporter": "python",
   "pygments_lexer": "ipython3",
   "version": "3.10.5"
  }
 },
 "nbformat": 4,
 "nbformat_minor": 2
}
